{
  "nbformat": 4,
  "nbformat_minor": 0,
  "metadata": {
    "colab": {
      "name": "IP_Week_6.ipynb",
      "provenance": [],
      "collapsed_sections": [
        "qw9k9Lla1Ej8",
        "iUNbvIvnT7ep",
        "OI3P3YnHUEBk",
        "-F_uqUN3flRi",
        "VdHPl7gsgFBD",
        "rF2ABPsHUtbZ",
        "Fvlmri-u8xW-"
      ],
      "toc_visible": true,
      "authorship_tag": "ABX9TyPd0uHqjA4cbdm6PLDD6jFt",
      "include_colab_link": true
    },
    "kernelspec": {
      "display_name": "Python 3",
      "name": "python3"
    }
  },
  "cells": [
    {
      "cell_type": "markdown",
      "metadata": {
        "id": "view-in-github",
        "colab_type": "text"
      },
      "source": [
        "<a href=\"https://colab.research.google.com/github/JeromeMberia/Mchezopesa_Ltd/blob/main/IP_Week_6.ipynb\" target=\"_parent\"><img src=\"https://colab.research.google.com/assets/colab-badge.svg\" alt=\"Open In Colab\"/></a>"
      ]
    },
    {
      "cell_type": "markdown",
      "metadata": {
        "id": "xMxtPsqcTsSH"
      },
      "source": [
        "# Week 6 IP"
      ]
    },
    {
      "cell_type": "markdown",
      "metadata": {
        "id": "kLG2VTrnTvYL"
      },
      "source": [
        "## \\ **Defining the Question**\\"
      ]
    },
    {
      "cell_type": "markdown",
      "metadata": {
        "id": "XecOwPNorl2W"
      },
      "source": [
        "### Specifying the Question"
      ]
    },
    {
      "cell_type": "markdown",
      "metadata": {
        "id": "8l3-hBO6bODP"
      },
      "source": [
        "> predicting a team score based on  their rank.\n"
      ]
    },
    {
      "cell_type": "markdown",
      "metadata": {
        "id": "J4wfHZwQrs-t"
      },
      "source": [
        "### Defining the Metric for Success"
      ]
    },
    {
      "cell_type": "markdown",
      "metadata": {
        "id": "wlT_SuqT0MNg"
      },
      "source": [
        "> Getting the prediction a team score based on their rank."
      ]
    },
    {
      "cell_type": "markdown",
      "metadata": {
        "id": "a9BPYqunry97"
      },
      "source": [
        "### Understanding the context "
      ]
    },
    {
      "cell_type": "markdown",
      "metadata": {
        "id": "AFIZ1vbp0OXo"
      },
      "source": [
        "> Here"
      ]
    },
    {
      "cell_type": "markdown",
      "metadata": {
        "id": "7KMRBJ7zr9HD"
      },
      "source": [
        "### Recording the Experimental Design"
      ]
    },
    {
      "cell_type": "markdown",
      "metadata": {
        "id": "wiiEXFO40QkJ"
      },
      "source": [
        "> Here"
      ]
    },
    {
      "cell_type": "markdown",
      "metadata": {
        "id": "zSGyg6kWsBUl"
      },
      "source": [
        "### Data Relevance"
      ]
    },
    {
      "cell_type": "markdown",
      "metadata": {
        "id": "76Dp-zC30TFg"
      },
      "source": [
        "> The dataset's give relevenat to this prediction "
      ]
    },
    {
      "cell_type": "markdown",
      "metadata": {
        "id": "qw9k9Lla1Ej8"
      },
      "source": [
        "## \\ **Importing the Libraries**\\"
      ]
    },
    {
      "cell_type": "code",
      "metadata": {
        "id": "--c5Bj-71ibL"
      },
      "source": [
        "import pandas as pd\n",
        "import numpy as np\n",
        "import matplotlib.pyplot as plt\n",
        "import seaborn as sns\n",
        "from sklearn.preprocessing import LabelEncoder\n",
        "from sklearn import metrics\n",
        "from sklearn.model_selection import train_test_split\n",
        "from sklearn.preprocessing import PolynomialFeatures\n",
        "from sklearn.linear_model import LinearRegression\n",
        "from sklearn.model_selection import KFold\n",
        "from sklearn.linear_model import LogisticRegression\n",
        "from datetime import date"
      ],
      "execution_count": null,
      "outputs": []
    },
    {
      "cell_type": "markdown",
      "metadata": {
        "id": "iUNbvIvnT7ep"
      },
      "source": [
        "## \\ **Reading the Data**\\"
      ]
    },
    {
      "cell_type": "markdown",
      "metadata": {
        "id": "2xBGih3f8iQh"
      },
      "source": [
        "### First Dataset"
      ]
    },
    {
      "cell_type": "code",
      "metadata": {
        "id": "XJn2KjW-WMlG"
      },
      "source": [
        "fifa = pd.read_csv('/content/fifa_ranking.csv')"
      ],
      "execution_count": null,
      "outputs": []
    },
    {
      "cell_type": "markdown",
      "metadata": {
        "id": "JN2rnzoA8myZ"
      },
      "source": [
        "### Second Dataset"
      ]
    },
    {
      "cell_type": "code",
      "metadata": {
        "id": "YVGWZLcs8R2-"
      },
      "source": [
        "results = pd.read_csv('/content/results.csv')"
      ],
      "execution_count": null,
      "outputs": []
    },
    {
      "cell_type": "markdown",
      "metadata": {
        "id": "OI3P3YnHUEBk"
      },
      "source": [
        "## \\ **Checking the Data**\\"
      ]
    },
    {
      "cell_type": "markdown",
      "metadata": {
        "id": "nGz5Hicp8xvM"
      },
      "source": [
        "### First Dataset"
      ]
    },
    {
      "cell_type": "code",
      "metadata": {
        "id": "YjSVNwgptHxY"
      },
      "source": [
        "# Determining the no. of records in our dataset\n",
        "#\n",
        "records = fifa.shape[0]\n",
        "print(f'{records} records')"
      ],
      "execution_count": null,
      "outputs": []
    },
    {
      "cell_type": "code",
      "metadata": {
        "id": "zXbvfyuy-gYD"
      },
      "source": [
        "# Number of columns and rows\n",
        "\n",
        "rows = fifa.shape[0]\n",
        "columns = fifa.shape[1]\n",
        "\n",
        "print(f'{rows} rows and {columns} columns')"
      ],
      "execution_count": null,
      "outputs": []
    },
    {
      "cell_type": "code",
      "metadata": {
        "id": "X0NBBlXDnLB9"
      },
      "source": [
        "fifa.columns"
      ],
      "execution_count": null,
      "outputs": []
    },
    {
      "cell_type": "code",
      "metadata": {
        "id": "xHhTw5eKWr0n"
      },
      "source": [
        "# Previewing the top of our dataset\n",
        "#\n",
        "fifa.head(10)"
      ],
      "execution_count": null,
      "outputs": []
    },
    {
      "cell_type": "code",
      "metadata": {
        "id": "e9AzGcZFrIIr"
      },
      "source": [
        "# Previewing the bottom of our dataset\n",
        "# \n",
        "fifa.tail(10)"
      ],
      "execution_count": null,
      "outputs": []
    },
    {
      "cell_type": "code",
      "metadata": {
        "id": "u-5Lu3C2_j2i"
      },
      "source": [
        "fifa.info()"
      ],
      "execution_count": null,
      "outputs": []
    },
    {
      "cell_type": "code",
      "metadata": {
        "id": "n8-dW4sQWzbc"
      },
      "source": [
        "# Checking whether each column has an appropriate datatype\n",
        "#\n",
        "fifa.dtypes"
      ],
      "execution_count": null,
      "outputs": []
    },
    {
      "cell_type": "code",
      "metadata": {
        "id": "9LJ7H0Ms_UYx"
      },
      "source": [
        "fifa.nunique()"
      ],
      "execution_count": null,
      "outputs": []
    },
    {
      "cell_type": "code",
      "metadata": {
        "id": "fy0sBQc1DXEl"
      },
      "source": [
        "col = list(fifa.columns)\n",
        "for i in col:\n",
        "  print(f'{i}')\n",
        "  print('')\n",
        "  a = list(fifa[i].unique())\n",
        "  print(a.sort())\n",
        "  print('****************************************************************************')\n",
        "  print('')"
      ],
      "execution_count": null,
      "outputs": []
    },
    {
      "cell_type": "code",
      "metadata": {
        "id": "dxwmbbm6A37h"
      },
      "source": [
        "fifa.describe()"
      ],
      "execution_count": null,
      "outputs": []
    },
    {
      "cell_type": "markdown",
      "metadata": {
        "id": "VWUDGhIxBM49"
      },
      "source": [
        "### Second Dataset"
      ]
    },
    {
      "cell_type": "code",
      "metadata": {
        "id": "7yWRobtrBM5D"
      },
      "source": [
        "# Determining the no. of records in our dataset\n",
        "records = results.shape[0]\n",
        "print(f'{records} records')"
      ],
      "execution_count": null,
      "outputs": []
    },
    {
      "cell_type": "code",
      "metadata": {
        "id": "Gxy_UZLsBM5T"
      },
      "source": [
        "# Number of columns and rows\n",
        "rows = results.shape[0]\n",
        "columns = results.shape[1]\n",
        "\n",
        "print(f'{rows} rows and {columns} columns')"
      ],
      "execution_count": null,
      "outputs": []
    },
    {
      "cell_type": "code",
      "metadata": {
        "id": "tlfTqxL9MOsE"
      },
      "source": [
        "results.columns"
      ],
      "execution_count": null,
      "outputs": []
    },
    {
      "cell_type": "code",
      "metadata": {
        "id": "QoLjV8iOBM5Z"
      },
      "source": [
        "# Previewing the top of our dataset\n",
        "results.head()"
      ],
      "execution_count": null,
      "outputs": []
    },
    {
      "cell_type": "code",
      "metadata": {
        "id": "FxeaDvnWBM5d"
      },
      "source": [
        "# Previewing the bottom of our dataset \n",
        "results.tail()"
      ],
      "execution_count": null,
      "outputs": []
    },
    {
      "cell_type": "code",
      "metadata": {
        "id": "pZaoHE1FBM5h"
      },
      "source": [
        "results.info()"
      ],
      "execution_count": null,
      "outputs": []
    },
    {
      "cell_type": "code",
      "metadata": {
        "id": "Gph_RPRjBM5k"
      },
      "source": [
        "# Checking whether each column has an appropriate datatype\n",
        "results.dtypes"
      ],
      "execution_count": null,
      "outputs": []
    },
    {
      "cell_type": "code",
      "metadata": {
        "id": "z-qYTZrkBM5m"
      },
      "source": [
        "results.nunique()"
      ],
      "execution_count": null,
      "outputs": []
    },
    {
      "cell_type": "code",
      "metadata": {
        "id": "jscK3gQ9BuEc"
      },
      "source": [
        "col = list(results.columns)\n",
        "for i in col:\n",
        "  print(f'{i}')\n",
        "  print('')\n",
        "  a = results[i].unique()\n",
        "  print(a)\n",
        "  print('')\n",
        "  print('****************************************************************************')\n",
        "  print('')"
      ],
      "execution_count": null,
      "outputs": []
    },
    {
      "cell_type": "code",
      "metadata": {
        "id": "UkIwnLe9BM5q"
      },
      "source": [
        "results.describe()"
      ],
      "execution_count": null,
      "outputs": []
    },
    {
      "cell_type": "markdown",
      "metadata": {
        "id": "FlBMxEDBUc9B"
      },
      "source": [
        "## \\ **Tidying the Dataset**\\"
      ]
    },
    {
      "cell_type": "markdown",
      "metadata": {
        "id": "w6qg6781F8v3"
      },
      "source": [
        "### First Dataset"
      ]
    },
    {
      "cell_type": "markdown",
      "metadata": {
        "id": "aIORnwoZS1yM"
      },
      "source": [
        "#### Missing Data"
      ]
    },
    {
      "cell_type": "code",
      "metadata": {
        "id": "PvCYb6dgW4yh"
      },
      "source": [
        "# Identifying the Missing Data\n",
        "#\n",
        "fifa.isnull().sum()"
      ],
      "execution_count": null,
      "outputs": []
    },
    {
      "cell_type": "markdown",
      "metadata": {
        "id": "zNQptjX6S78g"
      },
      "source": [
        "#### Duplicate data"
      ]
    },
    {
      "cell_type": "code",
      "metadata": {
        "id": "3FAa6J5ESZrj"
      },
      "source": [
        "fifa.duplicated().sum()"
      ],
      "execution_count": null,
      "outputs": []
    },
    {
      "cell_type": "code",
      "metadata": {
        "id": "Fib_oJsoSi4N"
      },
      "source": [
        "fifa = fifa.drop_duplicates()"
      ],
      "execution_count": null,
      "outputs": []
    },
    {
      "cell_type": "code",
      "metadata": {
        "id": "cmjOL6oWSrYV"
      },
      "source": [
        "fifa.duplicated().sum()"
      ],
      "execution_count": null,
      "outputs": []
    },
    {
      "cell_type": "markdown",
      "metadata": {
        "id": "EFN28AoQG0k8"
      },
      "source": [
        "#### Drop coluns that are not need"
      ]
    },
    {
      "cell_type": "code",
      "metadata": {
        "id": "2r0V5-BHHCsv"
      },
      "source": [
        ""
      ],
      "execution_count": null,
      "outputs": []
    },
    {
      "cell_type": "markdown",
      "metadata": {
        "id": "fI0Dr8IxTrU3"
      },
      "source": [
        "#### Outliers"
      ]
    },
    {
      "cell_type": "code",
      "metadata": {
        "id": "5o_bQcT5W3Wz"
      },
      "source": [
        "# Checking for Outliers\n",
        "#\n",
        "numeric = fifa.drop(['rank', 'country_full', 'country_abrv', 'confederation', 'rank_date'],axis=1)\n",
        "\n",
        "columns = None\n",
        "columns = list(numeric.columns)\n",
        "\n",
        "fig, ax = plt.subplots(nrows=11, ncols=1, figsize=(10,30))  \n",
        "\n",
        "i = 0\n",
        "for column in columns:\n",
        "\n",
        "  sns.boxplot(x=fifa[column], ax=ax[i])\n",
        "  ax[i].set_title(f'Box plot of {column}', fontsize=20, pad=10 )\n",
        "  ax[i].set_xlabel(column, fontsize=15)\n",
        "  i+=1\n",
        "\n",
        "plt.tight_layout()\n",
        "plt.show()"
      ],
      "execution_count": null,
      "outputs": []
    },
    {
      "cell_type": "code",
      "metadata": {
        "id": "aExK_myCfras"
      },
      "source": [
        "numeric = fifa.drop(['rank', 'country_full', 'country_abrv', 'confederation', 'rank_date'],axis=1)\n",
        "\n",
        "columns = None\n",
        "columns = list(numeric.columns)\n",
        "\n",
        "for column in columns:\n",
        "\n",
        "  max_threshold_fifa = fifa[column].quantile(0.95)\n",
        "  min_threshold_fifa = fifa[column].quantile(0.05)\n",
        "  df_1 = fifa[(fifa[column]<max_threshold_fifa) & (fifa[column]>min_threshold_fifa)]\n",
        "  num = fifa.shape[0]-df_1.shape[0]\n",
        "  print(f'{num} rows that are outliers in {column} \\n This is {\"{:.2f}\".format((num/(fifa.shape[0]))*100)}% percent approximately of {column} column')\n",
        "  print(' ')"
      ],
      "execution_count": null,
      "outputs": []
    },
    {
      "cell_type": "markdown",
      "metadata": {
        "id": "dPW-tjQjbRLN"
      },
      "source": [
        "#### Changing data type \n"
      ]
    },
    {
      "cell_type": "code",
      "metadata": {
        "id": "X3QL7W-uVTAs"
      },
      "source": [
        "fifa['rank_date'] = pd.to_datetime(fifa['rank_date'], format=\"%Y/%m/%d\")"
      ],
      "execution_count": null,
      "outputs": []
    },
    {
      "cell_type": "markdown",
      "metadata": {
        "id": "-F_uqUN3flRi"
      },
      "source": [
        "#### Adding the column year"
      ]
    },
    {
      "cell_type": "code",
      "metadata": {
        "id": "X061IPUCVsAX"
      },
      "source": [
        "fifa['year'] = pd.DatetimeIndex(fifa['rank_date']).year\n",
        "print(fifa['year'].unique())"
      ],
      "execution_count": null,
      "outputs": []
    },
    {
      "cell_type": "markdown",
      "metadata": {
        "id": "LwBswFKht6jX"
      },
      "source": [
        "#### Adding the column month_year"
      ]
    },
    {
      "cell_type": "code",
      "metadata": {
        "id": "N2xhEgjnt6jq"
      },
      "source": [
        "fifa['month_year'] = fifa['rank_date'].dt.to_period('M')\n",
        "print(fifa['month_year'].unique())"
      ],
      "execution_count": null,
      "outputs": []
    },
    {
      "cell_type": "markdown",
      "metadata": {
        "id": "vEsD8MjLv0ic"
      },
      "source": [
        "#### Adding the column day"
      ]
    },
    {
      "cell_type": "code",
      "metadata": {
        "id": "c8CoPYHRu37O"
      },
      "source": [
        "fifa['day'] = fifa['rank_date'].dt.day\n",
        "print(fifa['day'].unique())"
      ],
      "execution_count": null,
      "outputs": []
    },
    {
      "cell_type": "markdown",
      "metadata": {
        "id": "4PeCWtTxfvhf"
      },
      "source": [
        "#### Adding the column month"
      ]
    },
    {
      "cell_type": "code",
      "metadata": {
        "id": "9to7NNMGVwwz"
      },
      "source": [
        "fifa['month_number'] = pd.DatetimeIndex(fifa['rank_date']).month\n",
        "fifa['month_name'] = pd.DatetimeIndex(fifa['rank_date']).month\n",
        "a = list(fifa['month_number'].unique())\n",
        "b = sorted(a)\n",
        "print(b)"
      ],
      "execution_count": null,
      "outputs": []
    },
    {
      "cell_type": "code",
      "metadata": {
        "id": "63YDyA6fXDjD"
      },
      "source": [
        "fifa['month_name'].replace({1:'January',\n",
        "                       2:'February', \n",
        "                       3:'March',\n",
        "                       4:'April', \n",
        "                       5:'May',\n",
        "                       6:'June', \n",
        "                       7:'July',\n",
        "                       8:'August', \n",
        "                       9:'September', \n",
        "                       10:'October', \n",
        "                       11:'November', \n",
        "                       12:'December'}, inplace=True)\n",
        "print(fifa['month_name'].unique())"
      ],
      "execution_count": null,
      "outputs": []
    },
    {
      "cell_type": "markdown",
      "metadata": {
        "id": "9lIaJqUXu0NR"
      },
      "source": [
        "#### Changing the title"
      ]
    },
    {
      "cell_type": "code",
      "metadata": {
        "id": "AFY1uT1FvAC-"
      },
      "source": [
        "fifa = fifa.rename(columns={'rank_date': 'date'})"
      ],
      "execution_count": null,
      "outputs": []
    },
    {
      "cell_type": "code",
      "metadata": {
        "id": "JZAPXDHHvmbp"
      },
      "source": [
        "fifa.columns"
      ],
      "execution_count": null,
      "outputs": []
    },
    {
      "cell_type": "code",
      "metadata": {
        "id": "TnIV_h1y1LN5"
      },
      "source": [
        "# fifa[(fifa['country_full']=='Norway') & (fifa['year']==1993) & (fifa['confederation']=='UEFA')].sort_values(by=\"date\", ascending=False)\n",
        "fifa[(fifa['country_full']=='Norway') & (fifa['year']<=1994) & (fifa['confederation']=='UEFA')].sort_values(by=\"date\", ascending=False)"
      ],
      "execution_count": null,
      "outputs": []
    },
    {
      "cell_type": "code",
      "metadata": {
        "id": "iFU45NYNBh3s"
      },
      "source": [
        "# for i, row in fifa.iterrows():\n",
        "#   year =  fifa.loc[i,'year']\n",
        "#   country = fifa.loc[i,'country_full']\n",
        "#   confederation = fifa.loc[i,'confederation']\n",
        "  # the_record = fifa[(fifa['country_full']==country) & (fifa['year']==year) & (fifa['confederation']==confederation)].sort_values(by=\"date\", ascending=False).head(1)\n",
        "  # a = the_record['rank']\n",
        "  # the_rank = a.iloc[0]\n",
        "  # if the_rank == fifa.loc[i,'rank']:\n",
        "  #   continue\n",
        "  # fifa.loc[i,'rank'] = the_rank"
      ],
      "execution_count": null,
      "outputs": []
    },
    {
      "cell_type": "code",
      "metadata": {
        "id": "Ye7UZEZoQKwm"
      },
      "source": [
        "# fifa[(fifa['country_full']=='Norway') & (fifa['year']==year) & (fifa['confederation']=='UEFA')].sort_values(by=\"date\", ascending=False)"
      ],
      "execution_count": null,
      "outputs": []
    },
    {
      "cell_type": "markdown",
      "metadata": {
        "id": "ImZXyHjYGCma"
      },
      "source": [
        "### Second Dataset"
      ]
    },
    {
      "cell_type": "markdown",
      "metadata": {
        "id": "slLxy3SjbKLb"
      },
      "source": [
        "#### Missing Data"
      ]
    },
    {
      "cell_type": "code",
      "metadata": {
        "id": "dvfJiLXtbKLe"
      },
      "source": [
        "# Identifying the Missing Data\n",
        "#\n",
        "results.isnull().sum()"
      ],
      "execution_count": null,
      "outputs": []
    },
    {
      "cell_type": "markdown",
      "metadata": {
        "id": "vEeNUU2HbDww"
      },
      "source": [
        "#### Duplicate data"
      ]
    },
    {
      "cell_type": "code",
      "metadata": {
        "id": "-wlfDg_SbDw4"
      },
      "source": [
        "results.duplicated().any()"
      ],
      "execution_count": null,
      "outputs": []
    },
    {
      "cell_type": "markdown",
      "metadata": {
        "id": "M3Mf1KKgHRg0"
      },
      "source": [
        "#### Drop columns"
      ]
    },
    {
      "cell_type": "code",
      "metadata": {
        "id": "wboOkYPiHRg1"
      },
      "source": [
        "results.head()"
      ],
      "execution_count": null,
      "outputs": []
    },
    {
      "cell_type": "markdown",
      "metadata": {
        "id": "cBgiMe2Mb4wp"
      },
      "source": [
        "#### Outliers"
      ]
    },
    {
      "cell_type": "code",
      "metadata": {
        "id": "HL5dXPZub4wt"
      },
      "source": [
        "# Checking for Outliers\n",
        "#\n",
        "numeric = results[['away_score', 'home_score']]\n",
        "\n",
        "columns = None\n",
        "columns = list(numeric.columns)\n",
        "\n",
        "fig, ax = plt.subplots(nrows=1, ncols=2, figsize=(15,5))  \n",
        "\n",
        "i = 0\n",
        "for column in columns:\n",
        "\n",
        "  sns.boxplot(x=results[column], ax=ax[i])\n",
        "  ax[i].set_title(f'Box plot of {column}', fontsize=20, pad=10 )\n",
        "  ax[i].set_xlabel(column, fontsize=15)\n",
        "  i+=1\n",
        "\n",
        "plt.tight_layout()\n",
        "plt.show()"
      ],
      "execution_count": null,
      "outputs": []
    },
    {
      "cell_type": "code",
      "metadata": {
        "id": "deOsQEWOnsmD"
      },
      "source": [
        "numeric = results[['away_score', 'home_score']]\n",
        "\n",
        "columns = None\n",
        "columns = list(numeric.columns)\n",
        "\n",
        "for column in columns:\n",
        "\n",
        "  max_threshold_r = results[column].quantile(0.95)\n",
        "  min_threshold_r = results[column].quantile(0.05)\n",
        "  df_1 = results[(results[column]<max_threshold_r) & (results[column]>min_threshold_r)]\n",
        "  num = results.shape[0]-df_1.shape[0]\n",
        "  print(f'{num} rows that are outliers in {column} \\n This is {\"{:.2f}\".format((num/(results.shape[0]))*100)}% percent approximately of {column} column')\n",
        "  print(' ')"
      ],
      "execution_count": null,
      "outputs": []
    },
    {
      "cell_type": "markdown",
      "metadata": {
        "id": "-2xbWQbNe7Mi"
      },
      "source": [
        "#### Changing data type \n"
      ]
    },
    {
      "cell_type": "code",
      "metadata": {
        "id": "_jhYN7URe7Mo"
      },
      "source": [
        "results['date'] = pd.to_datetime(results['date'], format=\"%Y/%m/%d\")"
      ],
      "execution_count": null,
      "outputs": []
    },
    {
      "cell_type": "markdown",
      "metadata": {
        "id": "VdHPl7gsgFBD"
      },
      "source": [
        "#### Adding the column month_year"
      ]
    },
    {
      "cell_type": "code",
      "metadata": {
        "id": "m8rHh13ve7M4"
      },
      "source": [
        "results['month_year'] = results['date'].dt.to_period('M')\n",
        "print(results['month_year'].unique())"
      ],
      "execution_count": null,
      "outputs": []
    },
    {
      "cell_type": "markdown",
      "metadata": {
        "id": "bzFewUqDv_ts"
      },
      "source": [
        "#### Adding the column day"
      ]
    },
    {
      "cell_type": "code",
      "metadata": {
        "id": "6OS4pgDZv_ty"
      },
      "source": [
        "results['day'] = results['date'].dt.day\n",
        "print(results['day'].unique())"
      ],
      "execution_count": null,
      "outputs": []
    },
    {
      "cell_type": "markdown",
      "metadata": {
        "id": "HbHE63ZQgJLt"
      },
      "source": [
        "#### Adding the column month"
      ]
    },
    {
      "cell_type": "code",
      "metadata": {
        "id": "JAFL0ZLue7NJ"
      },
      "source": [
        "results['month_number'] = pd.DatetimeIndex(results['date']).month\n",
        "results['month_name'] = pd.DatetimeIndex(results['date']).month\n",
        "a = list(results['month_number'].unique())\n",
        "b = sorted(a)\n",
        "print(b)"
      ],
      "execution_count": null,
      "outputs": []
    },
    {
      "cell_type": "code",
      "metadata": {
        "id": "FmTyBsoge7NQ"
      },
      "source": [
        "results['month_name'].replace({1:'January',\n",
        "                       2:'February', \n",
        "                       3:'March',\n",
        "                       4:'April', \n",
        "                       5:'May',\n",
        "                       6:'June', \n",
        "                       7:'July',\n",
        "                       8:'August', \n",
        "                       9:'September', \n",
        "                       10:'October', \n",
        "                       11:'November', \n",
        "                       12:'December'}, inplace=True)\n",
        "print(results['month_name'].unique())"
      ],
      "execution_count": null,
      "outputs": []
    },
    {
      "cell_type": "code",
      "metadata": {
        "id": "iMlZJluROxaY"
      },
      "source": [
        "for i,row in results.iterrows():\n",
        "  a = results.loc[i, 'tournament']\n",
        "  b = a.lower()\n",
        "  if ('world cup' in b)==True:\n",
        "    results.loc[i, 'tournament'] = 'World cup'\n",
        "  elif (('friendly' in b)==True):\n",
        "    pass\n",
        "  else:\n",
        "    results.loc[i, 'tournament'] = 'Other'\n",
        "results['tournament'].unique()"
      ],
      "execution_count": null,
      "outputs": []
    },
    {
      "cell_type": "code",
      "metadata": {
        "id": "EJou4yKIVdgf"
      },
      "source": [
        "for i,row in results.iterrows():\n",
        "  home = results.loc[i, 'home_score']\n",
        "  away = results.loc[i, 'away_score']\n",
        "  if (home > away):\n",
        "    results.loc[i, 'status'] = 'Win'\n",
        "  elif (home < away):\n",
        "    results.loc[i, 'status'] = 'Lose'\n",
        "  else:\n",
        "    results.loc[i, 'status'] = 'Draw'\n",
        "results['status'].unique()"
      ],
      "execution_count": null,
      "outputs": []
    },
    {
      "cell_type": "markdown",
      "metadata": {
        "id": "rF2ABPsHUtbZ"
      },
      "source": [
        "## \\ **Exploratory Analysis**\\"
      ]
    },
    {
      "cell_type": "markdown",
      "metadata": {
        "id": "LhRDcYEVjjwr"
      },
      "source": [
        "### Univariate(for fifa dataset)"
      ]
    },
    {
      "cell_type": "code",
      "metadata": {
        "id": "MxsrZL-bwOku"
      },
      "source": [
        "fifa['confederation'].value_counts().plot(kind='bar')"
      ],
      "execution_count": null,
      "outputs": []
    },
    {
      "cell_type": "markdown",
      "metadata": {
        "id": "DDfLi7F_kmG7"
      },
      "source": [
        "> Most of the matches play come from UEFA and CAF."
      ]
    },
    {
      "cell_type": "code",
      "metadata": {
        "id": "XsNKnjT2mk3u"
      },
      "source": [
        "rank = fifa['total_points']\n",
        "plt.hist(rank, bins=5, histtype='bar')\n",
        "\n",
        "plt.ylabel('total_points')\n",
        "plt.title('Histogram of total_points')\n",
        "plt.show()"
      ],
      "execution_count": null,
      "outputs": []
    },
    {
      "cell_type": "markdown",
      "metadata": {
        "id": "Fvlmri-u8xW-"
      },
      "source": [
        "#### Central Tendency"
      ]
    },
    {
      "cell_type": "code",
      "metadata": {
        "id": "YyJ0eDzNoJ-j"
      },
      "source": [
        "fifa.columns"
      ],
      "execution_count": null,
      "outputs": []
    },
    {
      "cell_type": "code",
      "metadata": {
        "id": "cP-WWh_moRAd"
      },
      "source": [
        "numeric = fifa.drop(['country_full', 'country_abrv', 'confederation', 'date', 'month_name', 'month_year'],axis=1)\n",
        "col = list(numeric.columns)"
      ],
      "execution_count": null,
      "outputs": []
    },
    {
      "cell_type": "code",
      "metadata": {
        "id": "4LAlDuAz0481"
      },
      "source": [
        "col"
      ],
      "execution_count": null,
      "outputs": []
    },
    {
      "cell_type": "markdown",
      "metadata": {
        "id": "BGOBdLr-97wX"
      },
      "source": [
        "##### mean"
      ]
    },
    {
      "cell_type": "code",
      "metadata": {
        "id": "wxEJHFVxwnHM"
      },
      "source": [
        "for i in col:\n",
        "  mean = fifa[i].mean()\n",
        "  print(f'This is the mean of the {i} column: ')\n",
        "  print(f'{mean}')\n",
        "  print('  ')"
      ],
      "execution_count": null,
      "outputs": []
    },
    {
      "cell_type": "markdown",
      "metadata": {
        "id": "DMQ9S8Ec9_wg"
      },
      "source": [
        "##### median"
      ]
    },
    {
      "cell_type": "code",
      "metadata": {
        "id": "FR5tm2hNwoFx"
      },
      "source": [
        "for i in col:\n",
        "  median = fifa[i].median()\n",
        "  print(f'This is the median of the {i} column: ')\n",
        "  print(f'{median}')\n",
        "  print('  ')"
      ],
      "execution_count": null,
      "outputs": []
    },
    {
      "cell_type": "markdown",
      "metadata": {
        "id": "BmiChdbe-B9X"
      },
      "source": [
        "##### mode"
      ]
    },
    {
      "cell_type": "code",
      "metadata": {
        "id": "04rC8jlLwpA-"
      },
      "source": [
        "mod = fifa.drop(['country_abrv', 'total_points',\n",
        "       'previous_points', 'rank_change', 'cur_year_avg',\n",
        "       'cur_year_avg_weighted', 'last_year_avg', 'last_year_avg_weighted',\n",
        "       'two_year_ago_avg', 'two_year_ago_weighted', 'three_year_ago_avg',\n",
        "       'three_year_ago_weighted', 'date', 'year', 'day',\n",
        "       'month_number','month_year'],axis=1)\n",
        "col = list(mod.columns)\n",
        "for i in col:\n",
        "  mode = fifa[i].mode()[0]\n",
        "  print(f'This is the mode of the {i} column: ')\n",
        "  print(f'{mode}')\n",
        "  print('  ')"
      ],
      "execution_count": null,
      "outputs": []
    },
    {
      "cell_type": "markdown",
      "metadata": {
        "id": "fNjRHsl98xFI"
      },
      "source": [
        "#### Dispersion"
      ]
    },
    {
      "cell_type": "markdown",
      "metadata": {
        "id": "QllYvE1qFWMq"
      },
      "source": [
        "##### Standard Deviation"
      ]
    },
    {
      "cell_type": "code",
      "metadata": {
        "id": "qm2VQCECwp0h"
      },
      "source": [
        "numeric = fifa.drop(['country_full', 'country_abrv', 'confederation', 'date', 'month_name', 'month_year'],axis=1)\n",
        "col = list(numeric.columns)\n",
        "\n",
        "for i in col:\n",
        "  mode = fifa[i].std()\n",
        "  print(f'This is the Standard Deviation of the {i} column: ')\n",
        "  print(f'{mode}')\n",
        "  print('  ')"
      ],
      "execution_count": null,
      "outputs": []
    },
    {
      "cell_type": "markdown",
      "metadata": {
        "id": "6Se4D4T0FXnd"
      },
      "source": [
        "##### Variance"
      ]
    },
    {
      "cell_type": "code",
      "metadata": {
        "id": "hMJfpnyPwqUZ"
      },
      "source": [
        "for i in col:\n",
        "  variance = fifa[i].var()\n",
        "  print(f'This is the variance of the {i} column: ')\n",
        "  print(f'{variance}')\n",
        "  print('  ')"
      ],
      "execution_count": null,
      "outputs": []
    },
    {
      "cell_type": "markdown",
      "metadata": {
        "id": "5sVD-HznxFkc"
      },
      "source": [
        "##### Maximum"
      ]
    },
    {
      "cell_type": "code",
      "metadata": {
        "id": "J9VSMXHRxYy0"
      },
      "source": [
        "for i in col:\n",
        "  max = fifa[i].max()\n",
        "  print(f'This is the largest value in the {i} column: ')\n",
        "  print(f'{max}')\n",
        "  print('  ')"
      ],
      "execution_count": null,
      "outputs": []
    },
    {
      "cell_type": "markdown",
      "metadata": {
        "id": "1w7sw5l7xTiy"
      },
      "source": [
        "##### Minimum"
      ]
    },
    {
      "cell_type": "code",
      "metadata": {
        "id": "tnly8ptixML8"
      },
      "source": [
        "for i in col:\n",
        "  min = fifa[i].min()\n",
        "  print(f'This is the small value in the {i} column: ')\n",
        "  print(f'{min}')\n",
        "  print('  ')"
      ],
      "execution_count": null,
      "outputs": []
    },
    {
      "cell_type": "markdown",
      "metadata": {
        "id": "slLGTp1MFfns"
      },
      "source": [
        "##### Range"
      ]
    },
    {
      "cell_type": "code",
      "metadata": {
        "id": "Bvtijd4MwrGZ"
      },
      "source": [
        "for i in col:\n",
        "  max = fifa[i].max()\n",
        "  min = fifa[i].min()\n",
        "  range = max - min\n",
        "  print(f'This is the range of the {i} column: ')\n",
        "  print(f'{range}')\n",
        "  print('  ')"
      ],
      "execution_count": null,
      "outputs": []
    },
    {
      "cell_type": "markdown",
      "metadata": {
        "id": "wz0ahV6JFjTP"
      },
      "source": [
        "##### Quantiles"
      ]
    },
    {
      "cell_type": "markdown",
      "metadata": {
        "id": "viL6UCqcxj0h"
      },
      "source": [
        "###### First Quantile"
      ]
    },
    {
      "cell_type": "code",
      "metadata": {
        "id": "aaMRmV2jx2pL"
      },
      "source": [
        "for i in col:\n",
        "  first_quantile = fifa[i].quantile(0.25)\n",
        "  print(f'This is the first quantile of the {i} column: ')\n",
        "  print(f'{first_quantile}')\n",
        "  print('  ')"
      ],
      "execution_count": null,
      "outputs": []
    },
    {
      "cell_type": "markdown",
      "metadata": {
        "id": "Mqg_C9t3xq2n"
      },
      "source": [
        "###### Second Quantile"
      ]
    },
    {
      "cell_type": "code",
      "metadata": {
        "id": "chmzgKarx3Jp"
      },
      "source": [
        "for i in col:\n",
        "  second_quantile = fifa[i].quantile(0.5)\n",
        "  print(f'This is the second quantile of the {i} column: ')\n",
        "  print(f'{second_quantile}')\n",
        "  print('  ')"
      ],
      "execution_count": null,
      "outputs": []
    },
    {
      "cell_type": "markdown",
      "metadata": {
        "id": "jSapeXtUxwSp"
      },
      "source": [
        "###### Third Quantile"
      ]
    },
    {
      "cell_type": "code",
      "metadata": {
        "id": "LSAQ6JAEx31c"
      },
      "source": [
        "for i in col:\n",
        "  third_quantile = fifa[i].quantile(0.75)\n",
        "  print(f'This is the third quantile of the {i} column: ')\n",
        "  print(f'{third_quantile}')\n",
        "  print('  ')"
      ],
      "execution_count": null,
      "outputs": []
    },
    {
      "cell_type": "markdown",
      "metadata": {
        "id": "VJ2iuAQsBGOs"
      },
      "source": [
        "#### Descriptions of the distribution curve"
      ]
    },
    {
      "cell_type": "markdown",
      "metadata": {
        "id": "KnWcMw9EFxoR"
      },
      "source": [
        "##### Skewness"
      ]
    },
    {
      "cell_type": "code",
      "metadata": {
        "id": "B8E_8R0IAOvb"
      },
      "source": [
        "for i in col:\n",
        "  skewness = fifa[i].skew()\n",
        "  print(f'This is the skewness of the {i} column: ')\n",
        "  print(f'{skewness}')\n",
        "  print('  ')"
      ],
      "execution_count": null,
      "outputs": []
    },
    {
      "cell_type": "markdown",
      "metadata": {
        "id": "AoH27vsBF3hG"
      },
      "source": [
        "##### Kurtosis"
      ]
    },
    {
      "cell_type": "code",
      "metadata": {
        "id": "4Eh8xlSt_ncJ"
      },
      "source": [
        "for i in col:\n",
        "  kurtosis = fifa[i].kurt()\n",
        "  print(f'This is the kurtosis of the {i} column: ')\n",
        "  print(f'{kurtosis}')\n",
        "  print('  ')"
      ],
      "execution_count": null,
      "outputs": []
    },
    {
      "cell_type": "markdown",
      "metadata": {
        "id": "n6Y7WWCbqiAQ"
      },
      "source": [
        "### Univariate(for the result dataset)"
      ]
    },
    {
      "cell_type": "code",
      "metadata": {
        "id": "-Il0R55LqqAK"
      },
      "source": [
        "results.columns"
      ],
      "execution_count": null,
      "outputs": []
    },
    {
      "cell_type": "markdown",
      "metadata": {
        "id": "HID2frILshfh"
      },
      "source": [
        "> Scotland played the most matches."
      ]
    },
    {
      "cell_type": "code",
      "metadata": {
        "id": "urwuyvTrr28_"
      },
      "source": [
        "results['neutral'].value_counts().plot(kind='bar')"
      ],
      "execution_count": null,
      "outputs": []
    },
    {
      "cell_type": "markdown",
      "metadata": {
        "id": "0svj71LPssju"
      },
      "source": [
        "> match really played in neutral grounds"
      ]
    },
    {
      "cell_type": "code",
      "metadata": {
        "id": "dlkBdiaLqiAc"
      },
      "source": [
        "results['home_score'].hist()"
      ],
      "execution_count": null,
      "outputs": []
    },
    {
      "cell_type": "code",
      "metadata": {
        "id": "h6gfJvmxq9fU"
      },
      "source": [
        "results['month_name'].value_counts().plot(kind='bar')"
      ],
      "execution_count": null,
      "outputs": []
    },
    {
      "cell_type": "markdown",
      "metadata": {
        "id": "aSgZ0kFrrD78"
      },
      "source": [
        "> In our dataset common for most matches are held in March"
      ]
    },
    {
      "cell_type": "code",
      "metadata": {
        "id": "Rw99hbsXrjPR"
      },
      "source": [
        "results['away_score'].hist()"
      ],
      "execution_count": null,
      "outputs": []
    },
    {
      "cell_type": "markdown",
      "metadata": {
        "id": "I5Rnj7fuqiAk"
      },
      "source": [
        "#### Central Tendency"
      ]
    },
    {
      "cell_type": "code",
      "metadata": {
        "id": "LOlZDaLuqiAl"
      },
      "source": [
        "results.columns"
      ],
      "execution_count": null,
      "outputs": []
    },
    {
      "cell_type": "code",
      "metadata": {
        "id": "iUp0uaLkqiAo"
      },
      "source": [
        "numeric = results.drop(['date', 'home_team', 'away_team',\n",
        "       'tournament', 'city', 'country', 'neutral', 'day',\n",
        "       'month_number', 'month_name', 'status','month_year'],axis=1)\n",
        "col = list(numeric.columns)"
      ],
      "execution_count": null,
      "outputs": []
    },
    {
      "cell_type": "markdown",
      "metadata": {
        "id": "6hxeuClQqiAq"
      },
      "source": [
        "##### mean"
      ]
    },
    {
      "cell_type": "code",
      "metadata": {
        "id": "Y02FTastqiAr"
      },
      "source": [
        "for i in col:\n",
        "  mean = results[i].mean()\n",
        "  print(f'This is the mean of the {i} column: ')\n",
        "  print(f'{mean}')\n",
        "  print('  ')"
      ],
      "execution_count": null,
      "outputs": []
    },
    {
      "cell_type": "markdown",
      "metadata": {
        "id": "41gpNmkWqiAs"
      },
      "source": [
        "##### median"
      ]
    },
    {
      "cell_type": "code",
      "metadata": {
        "id": "GwYnWV_wqiAt"
      },
      "source": [
        "for i in col:\n",
        "  median = results[i].median()\n",
        "  print(f'This is the median of the {i} column: ')\n",
        "  print(f'{median}')\n",
        "  print('  ')"
      ],
      "execution_count": null,
      "outputs": []
    },
    {
      "cell_type": "markdown",
      "metadata": {
        "id": "LMYAsvPPqiAv"
      },
      "source": [
        "##### mode"
      ]
    },
    {
      "cell_type": "code",
      "metadata": {
        "id": "3l-QV1oaqiAv"
      },
      "source": [
        "mod = results.drop(['date', 'day',\n",
        "       'month_number','month_year'],axis=1)\n",
        "col = list(mod.columns)\n",
        "for i in col:\n",
        "  mode = results[i].mode()[0]\n",
        "  print(f'This is the mode of the {i} column: ')\n",
        "  print(f'{mode}')\n",
        "  print('  ')"
      ],
      "execution_count": null,
      "outputs": []
    },
    {
      "cell_type": "markdown",
      "metadata": {
        "id": "pywF1JCPqiAy"
      },
      "source": [
        "#### Dispersion"
      ]
    },
    {
      "cell_type": "markdown",
      "metadata": {
        "id": "OZf139X4qiAz"
      },
      "source": [
        "##### Standard Deviation"
      ]
    },
    {
      "cell_type": "code",
      "metadata": {
        "id": "tn_EV9OvqiAz"
      },
      "source": [
        "numeric = results.drop(['date', 'home_team', 'away_team',\n",
        "       'tournament', 'city', 'country', 'neutral', 'day',\n",
        "       'month_number', 'month_name', 'status', 'month_year'],axis=1)\n",
        "col = list(numeric.columns)\n",
        "\n",
        "for i in col:\n",
        "  mode = results[i].std()\n",
        "  print(f'This is the Standard Deviation of the {i} column: ')\n",
        "  print(f'{mode}')\n",
        "  print('  ')"
      ],
      "execution_count": null,
      "outputs": []
    },
    {
      "cell_type": "markdown",
      "metadata": {
        "id": "poyGN3W6qiA1"
      },
      "source": [
        "##### Variance"
      ]
    },
    {
      "cell_type": "code",
      "metadata": {
        "id": "9IqCJheEqiA1"
      },
      "source": [
        "for i in col:\n",
        "  variance = results[i].var()\n",
        "  print(f'This is the variance of the {i} column: ')\n",
        "  print(f'{variance}')\n",
        "  print('  ')"
      ],
      "execution_count": null,
      "outputs": []
    },
    {
      "cell_type": "markdown",
      "metadata": {
        "id": "lwIFfUnJqiA3"
      },
      "source": [
        "##### Maximum"
      ]
    },
    {
      "cell_type": "code",
      "metadata": {
        "id": "Lsk948abqiA4"
      },
      "source": [
        "for i in col:\n",
        "  max = results[i].max()\n",
        "  print(f'This is the largest value in the {i} column: ')\n",
        "  print(f'{max}')\n",
        "  print('  ')"
      ],
      "execution_count": null,
      "outputs": []
    },
    {
      "cell_type": "markdown",
      "metadata": {
        "id": "16Na6JzQqiA5"
      },
      "source": [
        "##### Minimum"
      ]
    },
    {
      "cell_type": "code",
      "metadata": {
        "id": "6xWd8sXZqiA6"
      },
      "source": [
        "for i in col:\n",
        "  min = results[i].min()\n",
        "  print(f'This is the small value in the {i} column: ')\n",
        "  print(f'{min}')\n",
        "  print('  ')"
      ],
      "execution_count": null,
      "outputs": []
    },
    {
      "cell_type": "markdown",
      "metadata": {
        "id": "EKqB8gmZqiA8"
      },
      "source": [
        "##### Range"
      ]
    },
    {
      "cell_type": "code",
      "metadata": {
        "id": "Cd1UU3JvqiA8"
      },
      "source": [
        "for i in col:\n",
        "  max = results[i].max()\n",
        "  min = results[i].min()\n",
        "  range = max - min\n",
        "  print(f'This is the range of the {i} column: ')\n",
        "  print(f'{range}')\n",
        "  print('  ')"
      ],
      "execution_count": null,
      "outputs": []
    },
    {
      "cell_type": "markdown",
      "metadata": {
        "id": "P7JcLDdQqiA-"
      },
      "source": [
        "##### Quantiles"
      ]
    },
    {
      "cell_type": "markdown",
      "metadata": {
        "id": "kJavbMYIqiA-"
      },
      "source": [
        "###### First Quantile"
      ]
    },
    {
      "cell_type": "code",
      "metadata": {
        "id": "Axi2mwbrqiA_"
      },
      "source": [
        "for i in col:\n",
        "  first_quantile = results[i].quantile(0.25)\n",
        "  print(f'This is the first quantile of the {i} column: ')\n",
        "  print(f'{first_quantile}')\n",
        "  print('  ')"
      ],
      "execution_count": null,
      "outputs": []
    },
    {
      "cell_type": "markdown",
      "metadata": {
        "id": "QTEn6KdHqiBC"
      },
      "source": [
        "###### Second Quantile"
      ]
    },
    {
      "cell_type": "code",
      "metadata": {
        "id": "RGr2WnorqiBC"
      },
      "source": [
        "for i in col:\n",
        "  second_quantile = results[i].quantile(0.5)\n",
        "  print(f'This is the second quantile of the {i} column: ')\n",
        "  print(f'{second_quantile}')\n",
        "  print('  ')"
      ],
      "execution_count": null,
      "outputs": []
    },
    {
      "cell_type": "markdown",
      "metadata": {
        "id": "By72OorjqiBE"
      },
      "source": [
        "###### Third Quantile"
      ]
    },
    {
      "cell_type": "code",
      "metadata": {
        "id": "ZTNVeWwDqiBE"
      },
      "source": [
        "for i in col:\n",
        "  third_quantile = results[i].quantile(0.75)\n",
        "  print(f'This is the third quantile of the {i} column: ')\n",
        "  print(f'{third_quantile}')\n",
        "  print('  ')"
      ],
      "execution_count": null,
      "outputs": []
    },
    {
      "cell_type": "markdown",
      "metadata": {
        "id": "S-f8srJbqiBG"
      },
      "source": [
        "#### Descriptions of the distribution curve"
      ]
    },
    {
      "cell_type": "markdown",
      "metadata": {
        "id": "LQm238akqiBH"
      },
      "source": [
        "##### Skewness"
      ]
    },
    {
      "cell_type": "code",
      "metadata": {
        "id": "l7_dwcQzqiBH"
      },
      "source": [
        "for i in col:\n",
        "  skewness = results[i].skew()\n",
        "  print(f'This is the skewness of the {i} column: ')\n",
        "  print(f'{skewness}')\n",
        "  print('  ')"
      ],
      "execution_count": null,
      "outputs": []
    },
    {
      "cell_type": "markdown",
      "metadata": {
        "id": "f1RBJ5rBqiBJ"
      },
      "source": [
        "##### Kurtosis"
      ]
    },
    {
      "cell_type": "code",
      "metadata": {
        "id": "nADGTj_vqiBJ"
      },
      "source": [
        "for i in col:\n",
        "  kurtosis = results[i].kurt()\n",
        "  print(f'This is the kurtosis of the {i} column: ')\n",
        "  print(f'{kurtosis}')\n",
        "  print('  ')"
      ],
      "execution_count": null,
      "outputs": []
    },
    {
      "cell_type": "markdown",
      "metadata": {
        "id": "sDHea8Hfjp1r"
      },
      "source": [
        "### Bivariate"
      ]
    },
    {
      "cell_type": "markdown",
      "metadata": {
        "id": "OcueVcOGYkfF"
      },
      "source": [
        "**First dataset**"
      ]
    },
    {
      "cell_type": "code",
      "metadata": {
        "id": "fAo5d6baZyh6"
      },
      "source": [
        "fifa.columns"
      ],
      "execution_count": null,
      "outputs": []
    },
    {
      "cell_type": "code",
      "metadata": {
        "id": "z61RxJ5NZ2q0"
      },
      "source": [
        "c_fifa = fifa.drop(['cur_year_avg',\n",
        "       'cur_year_avg_weighted', 'last_year_avg', 'last_year_avg_weighted',\n",
        "       'two_year_ago_avg', 'two_year_ago_weighted', 'three_year_ago_avg',\n",
        "       'three_year_ago_weighted', 'date', 'day', 'month_year'], axis=1)"
      ],
      "execution_count": null,
      "outputs": []
    },
    {
      "cell_type": "code",
      "metadata": {
        "id": "1wgAmrWGZIGs"
      },
      "source": [
        "plt.subplots(figsize=(15,15))\n",
        "sns.heatmap(c_fifa.corr(),annot=True, linewidths=5, linecolor='white')\n",
        "sns.set(font_scale=1)\n",
        "plt.show()"
      ],
      "execution_count": null,
      "outputs": []
    },
    {
      "cell_type": "markdown",
      "metadata": {
        "id": "0A4g6iNzYqfd"
      },
      "source": [
        "**Second dataset**"
      ]
    },
    {
      "cell_type": "code",
      "metadata": {
        "id": "eddZww_1ZRY8"
      },
      "source": [
        "sns.heatmap(results.corr(),annot=True)\n",
        "plt.show()"
      ],
      "execution_count": null,
      "outputs": []
    },
    {
      "cell_type": "markdown",
      "metadata": {
        "id": "vTbdjSrhVIiT"
      },
      "source": [
        "## \\ **Implementing the Solution**\\"
      ]
    },
    {
      "cell_type": "code",
      "metadata": {
        "id": "dITeb3KJNzD4"
      },
      "source": [
        "fifa.shape"
      ],
      "execution_count": null,
      "outputs": []
    },
    {
      "cell_type": "code",
      "metadata": {
        "id": "n8bS3dGUOfJe"
      },
      "source": [
        "results.columns"
      ],
      "execution_count": null,
      "outputs": []
    },
    {
      "cell_type": "code",
      "metadata": {
        "id": "YAJ3doNtRzSH"
      },
      "source": [
        "fifa_home = fifa[['rank', 'country_full', 'month_year']]\n",
        "fifa_home.rename(columns={'country_full':'home_team'}, inplace=True)\n",
        "fifa_away = fifa[['rank', 'country_full', 'month_year']]\n",
        "fifa_away.rename(columns={'country_full':'away_team'}, inplace=True)\n"
      ],
      "execution_count": null,
      "outputs": []
    },
    {
      "cell_type": "code",
      "metadata": {
        "id": "4VzyBtpuR3_a"
      },
      "source": [
        "results_1_home = results[['home_team','home_score', 'month_year','tournament','status']]"
      ],
      "execution_count": null,
      "outputs": []
    },
    {
      "cell_type": "code",
      "metadata": {
        "id": "Q3kRszhOR6Zv"
      },
      "source": [
        "results_1_home = results_1_home.merge(fifa_home, on=['month_year','home_team'], how='inner')"
      ],
      "execution_count": null,
      "outputs": []
    },
    {
      "cell_type": "code",
      "metadata": {
        "id": "RhG2fRe5k7qs"
      },
      "source": [
        "results_1_home.rename(columns={'rank':'home_team_rank'}, inplace=True)"
      ],
      "execution_count": null,
      "outputs": []
    },
    {
      "cell_type": "code",
      "metadata": {
        "id": "2KDB7fxbR9HS"
      },
      "source": [
        "results_1_away = results[['away_team','away_score', 'month_year','tournament','status']]"
      ],
      "execution_count": null,
      "outputs": []
    },
    {
      "cell_type": "code",
      "metadata": {
        "id": "B20mP1ICSBSa"
      },
      "source": [
        "results_1_away = results_1_away.merge(fifa_away, on=['month_year','away_team'])"
      ],
      "execution_count": null,
      "outputs": []
    },
    {
      "cell_type": "code",
      "metadata": {
        "id": "XFWHd02yj1T7"
      },
      "source": [
        "results_1_away.rename(columns={'rank':'away_team_rank'}, inplace=True)"
      ],
      "execution_count": null,
      "outputs": []
    },
    {
      "cell_type": "code",
      "metadata": {
        "id": "p82yRN9cjaKc"
      },
      "source": [
        "# results_1_home = pd.read_csv('results_home.csv', index_col=0)\n",
        "results_1_home[['home_team', 'home_score', 'month_year', 'tournament', 'status',\n",
        "       'home_team_rank']]"
      ],
      "execution_count": null,
      "outputs": []
    },
    {
      "cell_type": "code",
      "metadata": {
        "id": "x9vv-AUjjeAW"
      },
      "source": [
        "# results_1_away = pd.read_csv('results_away.csv', index_col=0)\n",
        "results_1_away[['away_team', 'away_score', 'month_year', 'tournament', 'status',\n",
        "       'away_team_rank']]"
      ],
      "execution_count": null,
      "outputs": []
    },
    {
      "cell_type": "code",
      "metadata": {
        "id": "DTdwe8PhjEKU"
      },
      "source": [
        "results_1 = results_1_home.merge(results_1_away, on=['month_year','tournament','status'])"
      ],
      "execution_count": null,
      "outputs": []
    },
    {
      "cell_type": "markdown",
      "metadata": {
        "id": "wMOwMrLZleE6"
      },
      "source": [
        "### Approach 1: Polynomial approach"
      ]
    },
    {
      "cell_type": "markdown",
      "metadata": {
        "id": "XKq2mJ_x46kq"
      },
      "source": [
        "##### Detecting multicollinearity"
      ]
    },
    {
      "cell_type": "code",
      "metadata": {
        "id": "aOu0gYJI8M-U"
      },
      "source": [
        "results_1 = results_1.dropna()"
      ],
      "execution_count": null,
      "outputs": []
    },
    {
      "cell_type": "code",
      "metadata": {
        "id": "o6LmOZAI6GZD"
      },
      "source": [
        "label_encoder = LabelEncoder()\n",
        "\n",
        "#transform to integer\n",
        "results_1['tournament'] = label_encoder.fit_transform(results_1['tournament'])"
      ],
      "execution_count": null,
      "outputs": []
    },
    {
      "cell_type": "code",
      "metadata": {
        "id": "62KUP6mszXOD"
      },
      "source": [
        "independent_only = results_1[['home_team_rank','away_team_rank','tournament','away_score']]\n",
        "independent_only.corr()"
      ],
      "execution_count": null,
      "outputs": []
    },
    {
      "cell_type": "code",
      "metadata": {
        "id": "62sVizx-M4mO"
      },
      "source": [
        "# Let's display the correlations between the variables\n",
        "correlations = independent_only.corr()\n",
        "correlations"
      ],
      "execution_count": null,
      "outputs": []
    },
    {
      "cell_type": "code",
      "metadata": {
        "id": "DV4ulVlN-Yp0"
      },
      "source": [
        "pd.DataFrame(np.linalg.inv(correlations.values), index = correlations.index, columns=correlations.columns)"
      ],
      "execution_count": null,
      "outputs": []
    },
    {
      "cell_type": "markdown",
      "metadata": {
        "id": "s_YDf_HZ1NF2"
      },
      "source": [
        "#### Model 1: Predict how many goals the home team scores."
      ]
    },
    {
      "cell_type": "markdown",
      "metadata": {
        "id": "XWGC4qPAHn0G"
      },
      "source": [
        "##### Residual plots and heteroskedasticity testing"
      ]
    },
    {
      "cell_type": "code",
      "metadata": {
        "id": "KT1cuCeX6osW"
      },
      "source": [
        "X = independent_only.values\n",
        "y = results_1['home_score'].values"
      ],
      "execution_count": null,
      "outputs": []
    },
    {
      "cell_type": "code",
      "metadata": {
        "id": "IsMRjud5HqSp"
      },
      "source": [
        "X_train, X_test, y_train, y_test = train_test_split(X, y, test_size = 0.3, random_state=0)\n",
        "\n",
        "# Fit polynomial Regression to the dataset\n",
        "poly_reg = PolynomialFeatures(degree = 2) \n",
        "X_poly = poly_reg.fit_transform(X_train)\n",
        "\n",
        "\n",
        "pol_reg = LinearRegression()\n",
        "pol_reg.fit(X_poly, y_train)\n",
        "\n",
        "# This is our prediction for score based on our model\n",
        "y_pred = pol_reg.predict(poly_reg.fit_transform(X_test))\n",
        "\n",
        "# We now create the residual by substracting the test value from the predicted \n",
        "# value for each row in our dataset\n",
        "\n",
        "residuals = np.subtract(y_pred, y_test)\n",
        "\n",
        "# Let's describe our residual:\n",
        "pd.DataFrame(residuals).describe()\n",
        "\n",
        "residuals.mean()"
      ],
      "execution_count": null,
      "outputs": []
    },
    {
      "cell_type": "code",
      "metadata": {
        "id": "pBuxfk8yR5Pm"
      },
      "source": [
        "import scipy as sp\n",
        "\n",
        "test_result, p_value = sp.stats.bartlett(y_pred, residuals)\n",
        "\n",
        "# To interpret the results we must also compute a critical value of the chi squared distribution\n",
        "degree_of_freedom = len(y_pred)-1\n",
        "probability = 1 - p_value\n",
        "\n",
        "critical_value = sp.stats.chi2.ppf(probability, degree_of_freedom)\n",
        "\n",
        "print(f'critical_value : {critical_value}')\n",
        "print(f'degree_of_freedom : {degree_of_freedom}')\n",
        "print(f'probability : {probability}')\n",
        "\n",
        "# If the test_result is greater than the critical value, then we reject our null\n",
        "# hypothesis. This would mean that there are patterns to the variance of the data\n",
        "\n",
        "# Otherwise, we can identify no patterns, and we accept the null hypothesis that \n",
        "# the variance is homogeneous across our data\n",
        "\n",
        "if (test_result > critical_value):\n",
        "  print('the variances are unequal, and the model should be reassessed')\n",
        "else:\n",
        "  print('the variances are homogeneous!')"
      ],
      "execution_count": null,
      "outputs": []
    },
    {
      "cell_type": "markdown",
      "metadata": {
        "id": "Xg6O-h_XM2lx"
      },
      "source": [
        "##### Creating modal"
      ]
    },
    {
      "cell_type": "code",
      "metadata": {
        "id": "gTnrrxI6VwLw"
      },
      "source": [
        "X = independent_only\n",
        "y = results_1['home_score']"
      ],
      "execution_count": null,
      "outputs": []
    },
    {
      "cell_type": "code",
      "metadata": {
        "id": "ue-OcnNyNOYX"
      },
      "source": [
        "from sklearn.model_selection import LeaveOneOut\n",
        "\n",
        "X = independent_only.values\n",
        "y = results_1['home_score'].values\n",
        "\n",
        "folds = KFold(n_splits=5)\n",
        "\n",
        "print('we are using ' +str(folds.get_n_splits(X)) + ' folds')\n",
        "\n",
        "RMSES = [] \n",
        "count = 0 \n",
        "for train_index, test_index in folds.split(X):\n",
        "  \n",
        "  X_train, X_test = X[train_index], X[test_index]\n",
        "  y_train, y_test = y[train_index], y[test_index]\n",
        "  \n",
        "  # Fit polynomial Regression to the dataset\n",
        "  poly_reg = PolynomialFeatures(degree = 2) \n",
        "  X_poly = poly_reg.fit_transform(X_train)\n",
        "\n",
        "\n",
        "  pol_reg = LinearRegression()\n",
        "  pol_reg.fit(X_poly, y_train)\n",
        "\n",
        "  # This is our prediction for admission based on our model\n",
        "  y_pred = pol_reg.predict(poly_reg.fit_transform(X_test))\n",
        "  \n",
        "  rmse_value =  np.sqrt(metrics.mean_squared_error(y_test, y_pred))\n",
        "  RMSES.append(rmse_value)\n",
        "  \n",
        "  count+=1\n",
        "print('trained ' + str(count) + ' models' )\n",
        "np.mean(RMSES)"
      ],
      "execution_count": null,
      "outputs": []
    },
    {
      "cell_type": "markdown",
      "metadata": {
        "id": "iAoJrJefRZlW"
      },
      "source": [
        "**RMSES**"
      ]
    },
    {
      "cell_type": "code",
      "metadata": {
        "id": "A8u4sRm_RWij"
      },
      "source": [
        "np.mean(RMSES)"
      ],
      "execution_count": null,
      "outputs": []
    },
    {
      "cell_type": "code",
      "metadata": {
        "id": "oK_NWnZNKf3T"
      },
      "source": [
        "print('Mean Absolute Error:', metrics.mean_absolute_error(y_test, y_pred))  \n",
        "print('Mean Squared Error:', metrics.mean_squared_error(y_test, y_pred))  \n",
        "print('Root Mean Squared Error:', np.sqrt(metrics.mean_squared_error(y_test, y_pred)))"
      ],
      "execution_count": null,
      "outputs": []
    },
    {
      "cell_type": "markdown",
      "metadata": {
        "id": "a63yUmNr1VTk"
      },
      "source": [
        "#### Model 2: Predict how many goals the away team scores."
      ]
    },
    {
      "cell_type": "markdown",
      "metadata": {
        "id": "h6AONw6qTPd2"
      },
      "source": [
        "##### Residual plots and heteroskedasticity testing"
      ]
    },
    {
      "cell_type": "code",
      "metadata": {
        "id": "U9__TVXgTPd4"
      },
      "source": [
        "X_train, X_test, y_train, y_test = train_test_split(X, y, test_size = 0.3, random_state=0)\n",
        "\n",
        "# Fit polynomial Regression to the dataset\n",
        "poly_reg = PolynomialFeatures(degree = 2) \n",
        "X_poly = poly_reg.fit_transform(X_train)\n",
        "\n",
        "\n",
        "pol_reg = LinearRegression()\n",
        "pol_reg.fit(X_poly, y_train)\n",
        "\n",
        "# This is our prediction for score based on our model\n",
        "y_pred = pol_reg.predict(poly_reg.fit_transform(X_test))\n",
        "\n",
        "# We now create the residual by substracting the test value from the predicted \n",
        "# value for each row in our dataset\n",
        "\n",
        "residuals = np.subtract(y_pred, y_test)\n",
        "\n",
        "# Let's describe our residual:\n",
        "pd.DataFrame(residuals).describe()\n",
        "\n",
        "residuals.mean()"
      ],
      "execution_count": null,
      "outputs": []
    },
    {
      "cell_type": "code",
      "metadata": {
        "id": "TURQsEy0TPd-"
      },
      "source": [
        "import scipy as sp\n",
        "\n",
        "test_result, p_value = sp.stats.bartlett(y_pred, residuals)\n",
        "\n",
        "# To interpret the results we must also compute a critical value of the chi squared distribution\n",
        "degree_of_freedom = len(y_pred)-1\n",
        "probability = 1 - p_value\n",
        "\n",
        "critical_value = sp.stats.chi2.ppf(probability, degree_of_freedom)\n",
        "\n",
        "print(f'critical_value : {critical_value}')\n",
        "print(f'degree_of_freedom : {degree_of_freedom}')\n",
        "print(f'probability : {probability}')\n",
        "\n",
        "# If the test_result is greater than the critical value, then we reject our null\n",
        "# hypothesis. This would mean that there are patterns to the variance of the data\n",
        "\n",
        "# Otherwise, we can identify no patterns, and we accept the null hypothesis that \n",
        "# the variance is homogeneous across our data\n",
        "\n",
        "if (test_result > critical_value):\n",
        "  print('the variances are unequal, and the model should be reassessed')\n",
        "else:\n",
        "  print('the variances are homogeneous!')"
      ],
      "execution_count": null,
      "outputs": []
    },
    {
      "cell_type": "markdown",
      "metadata": {
        "id": "zGVmAEhATPeB"
      },
      "source": [
        "##### Creating modal"
      ]
    },
    {
      "cell_type": "code",
      "metadata": {
        "id": "J-RgblIbTPeB"
      },
      "source": [
        "from sklearn.model_selection import LeaveOneOut\n",
        "\n",
        "X = independent_only.values\n",
        "y = results_1['away_score'].values\n",
        "\n",
        "folds = KFold(n_splits=5)\n",
        "\n",
        "print('we are using ' +str(folds.get_n_splits(X)) + ' folds')\n",
        "\n",
        "RMSES = [] \n",
        "count = 0 \n",
        "for train_index, test_index in folds.split(X):\n",
        "  \n",
        "  X_train, X_test = X[train_index], X[test_index]\n",
        "  y_train, y_test = y[train_index], y[test_index]\n",
        "  \n",
        "  # Fit polynomial Regression to the dataset\n",
        "  poly_reg = PolynomialFeatures(degree = 2) \n",
        "  X_poly = poly_reg.fit_transform(X_train)\n",
        "\n",
        "  pol_reg = LinearRegression()\n",
        "  pol_reg.fit(X_poly, y_train)\n",
        "\n",
        "  # This is our prediction for admission based on our model\n",
        "  y_pred = pol_reg.predict(poly_reg.fit_transform(X_test))\n",
        "  \n",
        "  rmse_value =  np.sqrt(metrics.mean_squared_error(y_test, y_pred))\n",
        "  RMSES.append(rmse_value)\n",
        "  \n",
        "  count+=1\n",
        "print('trained ' + str(count) + ' models' )\n",
        "np.mean(RMSES)"
      ],
      "execution_count": null,
      "outputs": []
    },
    {
      "cell_type": "markdown",
      "metadata": {
        "id": "H9tABI7eTPeF"
      },
      "source": [
        "**RMSES**"
      ]
    },
    {
      "cell_type": "code",
      "metadata": {
        "id": "Au8nbzSiTPeF"
      },
      "source": [
        "np.mean(RMSES)"
      ],
      "execution_count": null,
      "outputs": []
    },
    {
      "cell_type": "code",
      "metadata": {
        "id": "Q-JrqplRTPeJ"
      },
      "source": [
        "print('Mean Absolute Error:', metrics.mean_absolute_error(y_test, y_pred))  \n",
        "print('Mean Squared Error:', metrics.mean_squared_error(y_test, y_pred))  \n",
        "print('Root Mean Squared Error:', np.sqrt(metrics.mean_squared_error(y_test, y_pred)))"
      ],
      "execution_count": null,
      "outputs": []
    },
    {
      "cell_type": "markdown",
      "metadata": {
        "id": "-agwCjc2zTPJ"
      },
      "source": [
        "### Approach 2: Logistic approach"
      ]
    },
    {
      "cell_type": "code",
      "metadata": {
        "id": "hwl3DgKkwGRn"
      },
      "source": [
        "results_1 = results_1.drop(['home_team','away_team','month_year'],axis=1)\n",
        "\n",
        "label_encoder = LabelEncoder()\n",
        "\n",
        "#transform to integer\n",
        "results_1['status'] = label_encoder.fit_transform(results_1['status'])\n",
        "results_1['tournament'] = label_encoder.fit_transform(results_1['tournament'])"
      ],
      "execution_count": null,
      "outputs": []
    },
    {
      "cell_type": "code",
      "metadata": {
        "id": "Q5VNj10dzX98"
      },
      "source": [
        "X = results_1.drop('status',axis=1)\n",
        "y = results_1['status']\n",
        "\n",
        "X_train, X_test, y_train, y_test = train_test_split(X, y, test_size = .3, random_state=0)"
      ],
      "execution_count": null,
      "outputs": []
    },
    {
      "cell_type": "code",
      "metadata": {
        "id": "fdBbAEeb4OKj"
      },
      "source": [
        "LogReg = LogisticRegression()\n",
        "LogReg.fit(X_train, y_train)"
      ],
      "execution_count": null,
      "outputs": []
    },
    {
      "cell_type": "code",
      "metadata": {
        "id": "R5USRMeq4d9n"
      },
      "source": [
        "y_pred = LogReg.predict(X_test)"
      ],
      "execution_count": null,
      "outputs": []
    },
    {
      "cell_type": "code",
      "metadata": {
        "id": "O2hWe6664tfa"
      },
      "source": [
        "from sklearn.metrics import confusion_matrix\n",
        "confusion_matrix = confusion_matrix(y_test, y_pred)\n",
        "confusion_matrix"
      ],
      "execution_count": null,
      "outputs": []
    },
    {
      "cell_type": "markdown",
      "metadata": {
        "id": "xrmHVMVsVS--"
      },
      "source": [
        "## Follow up questions"
      ]
    },
    {
      "cell_type": "markdown",
      "metadata": {
        "id": "HPQviDmNtta8"
      },
      "source": [
        "### a). Did we have the right data?"
      ]
    },
    {
      "cell_type": "markdown",
      "metadata": {
        "id": "WfCPf_Ioii-p"
      },
      "source": [
        "> Yes, this dataset contain enough information to predict a home team score based on their rank. Through the rank system it more like for team with a higher rank can bet another team with a lower rank"
      ]
    },
    {
      "cell_type": "markdown",
      "metadata": {
        "id": "qjFHK1CKty7o"
      },
      "source": [
        "### b). Do we need other data to answer our question?"
      ]
    },
    {
      "cell_type": "markdown",
      "metadata": {
        "id": "TBpjb2ndkfAW"
      },
      "source": [
        "> Not really but I preffer to have source of the data set to draw more insit from the dataset."
      ]
    },
    {
      "cell_type": "markdown",
      "metadata": {
        "id": "HSsicSdvt4Zs"
      },
      "source": [
        "### c). Did we have the right question?"
      ]
    }
  ]
}