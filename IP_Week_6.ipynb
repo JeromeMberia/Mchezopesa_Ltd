{
  "nbformat": 4,
  "nbformat_minor": 0,
  "metadata": {
    "colab": {
      "name": "IP_Week_6.ipynb",
      "provenance": [],
      "collapsed_sections": [
        "qw9k9Lla1Ej8",
        "iUNbvIvnT7ep",
        "-F_uqUN3flRi",
        "VdHPl7gsgFBD",
        "rF2ABPsHUtbZ",
        "Fvlmri-u8xW-"
      ],
      "toc_visible": true,
      "include_colab_link": true
    },
    "kernelspec": {
      "display_name": "Python 3",
      "name": "python3"
    }
  },
  "cells": [
    {
      "cell_type": "markdown",
      "metadata": {
        "id": "view-in-github",
        "colab_type": "text"
      },
      "source": [
        "<a href=\"https://colab.research.google.com/github/JeromeMberia/Mchezopesa_Ltd/blob/main/IP_Week_6.ipynb\" target=\"_parent\"><img src=\"https://colab.research.google.com/assets/colab-badge.svg\" alt=\"Open In Colab\"/></a>"
      ]
    },
    {
      "cell_type": "markdown",
      "metadata": {
        "id": "xMxtPsqcTsSH"
      },
      "source": [
        "# Week 6 IP"
      ]
    },
    {
      "cell_type": "markdown",
      "metadata": {
        "id": "kLG2VTrnTvYL"
      },
      "source": [
        "## \\ **Defining the Question**\\"
      ]
    },
    {
      "cell_type": "markdown",
      "metadata": {
        "id": "XecOwPNorl2W"
      },
      "source": [
        "### Specifying the Question"
      ]
    },
    {
      "cell_type": "markdown",
      "metadata": {
        "id": "8l3-hBO6bODP"
      },
      "source": [
        "> predicting a team score based on  their rank.\n"
      ]
    },
    {
      "cell_type": "markdown",
      "metadata": {
        "id": "J4wfHZwQrs-t"
      },
      "source": [
        "### Defining the Metric for Success"
      ]
    },
    {
      "cell_type": "markdown",
      "metadata": {
        "id": "wlT_SuqT0MNg"
      },
      "source": [
        "> Getting the prediction a team score based on their rank."
      ]
    },
    {
      "cell_type": "markdown",
      "metadata": {
        "id": "a9BPYqunry97"
      },
      "source": [
        "### Understanding the context "
      ]
    },
    {
      "cell_type": "markdown",
      "metadata": {
        "id": "AFIZ1vbp0OXo"
      },
      "source": [
        "> Here"
      ]
    },
    {
      "cell_type": "markdown",
      "metadata": {
        "id": "7KMRBJ7zr9HD"
      },
      "source": [
        "### Recording the Experimental Design"
      ]
    },
    {
      "cell_type": "markdown",
      "metadata": {
        "id": "wiiEXFO40QkJ"
      },
      "source": [
        "> Here"
      ]
    },
    {
      "cell_type": "markdown",
      "metadata": {
        "id": "zSGyg6kWsBUl"
      },
      "source": [
        "### Data Relevance"
      ]
    },
    {
      "cell_type": "markdown",
      "metadata": {
        "id": "76Dp-zC30TFg"
      },
      "source": [
        "> The dataset's give relevenat to this prediction "
      ]
    },
    {
      "cell_type": "markdown",
      "metadata": {
        "id": "qw9k9Lla1Ej8"
      },
      "source": [
        "## \\ **Importing the Libraries**\\"
      ]
    },
    {
      "cell_type": "code",
      "metadata": {
        "id": "--c5Bj-71ibL"
      },
      "source": [
        "import pandas as pd\n",
        "import numpy as np\n",
        "import matplotlib.pyplot as plt\n",
        "import seaborn as sns\n",
        "from sklearn.preprocessing import LabelEncoder\n",
        "from sklearn import metrics\n",
        "from sklearn.model_selection import train_test_split\n",
        "from sklearn.preprocessing import PolynomialFeatures\n",
        "from sklearn.linear_model import LinearRegression\n",
        "from sklearn.model_selection import KFold\n",
        "from sklearn.linear_model import LogisticRegression\n",
        "from datetime import date"
      ],
      "execution_count": 257,
      "outputs": []
    },
    {
      "cell_type": "markdown",
      "metadata": {
        "id": "iUNbvIvnT7ep"
      },
      "source": [
        "## \\ **Reading the Data**\\"
      ]
    },
    {
      "cell_type": "markdown",
      "metadata": {
        "id": "2xBGih3f8iQh"
      },
      "source": [
        "### First Dataset"
      ]
    },
    {
      "cell_type": "code",
      "metadata": {
        "id": "XJn2KjW-WMlG"
      },
      "source": [
        "fifa = pd.read_csv('/content/fifa_ranking.csv')"
      ],
      "execution_count": 258,
      "outputs": []
    },
    {
      "cell_type": "markdown",
      "metadata": {
        "id": "JN2rnzoA8myZ"
      },
      "source": [
        "### Second Dataset"
      ]
    },
    {
      "cell_type": "code",
      "metadata": {
        "id": "YVGWZLcs8R2-"
      },
      "source": [
        "results = pd.read_csv('/content/results.csv')"
      ],
      "execution_count": 259,
      "outputs": []
    },
    {
      "cell_type": "markdown",
      "metadata": {
        "id": "OI3P3YnHUEBk"
      },
      "source": [
        "## \\ **Checking the Data**\\"
      ]
    },
    {
      "cell_type": "markdown",
      "metadata": {
        "id": "nGz5Hicp8xvM"
      },
      "source": [
        "### First Dataset"
      ]
    },
    {
      "cell_type": "code",
      "metadata": {
        "id": "YjSVNwgptHxY",
        "colab": {
          "base_uri": "https://localhost:8080/"
        },
        "outputId": "8d5c3dbd-f08b-4645-d222-444f9f5fa84a"
      },
      "source": [
        "# Determining the no. of records in our dataset\n",
        "#\n",
        "records = fifa.shape[0]\n",
        "print(f'{records} records')"
      ],
      "execution_count": 260,
      "outputs": [
        {
          "output_type": "stream",
          "text": [
            "57793 records\n"
          ],
          "name": "stdout"
        }
      ]
    },
    {
      "cell_type": "code",
      "metadata": {
        "id": "zXbvfyuy-gYD",
        "colab": {
          "base_uri": "https://localhost:8080/"
        },
        "outputId": "908dd519-ea26-46a1-88df-4965ea30ac37"
      },
      "source": [
        "# Number of columns and rows\n",
        "\n",
        "rows = fifa.shape[0]\n",
        "columns = fifa.shape[1]\n",
        "\n",
        "print(f'{rows} rows and {columns} columns')"
      ],
      "execution_count": 261,
      "outputs": [
        {
          "output_type": "stream",
          "text": [
            "57793 rows and 16 columns\n"
          ],
          "name": "stdout"
        }
      ]
    },
    {
      "cell_type": "code",
      "metadata": {
        "id": "X0NBBlXDnLB9",
        "colab": {
          "base_uri": "https://localhost:8080/"
        },
        "outputId": "1a3e6014-ddbf-4ad4-f822-04b4be5538ef"
      },
      "source": [
        "fifa.columns"
      ],
      "execution_count": 262,
      "outputs": [
        {
          "output_type": "execute_result",
          "data": {
            "text/plain": [
              "Index(['rank', 'country_full', 'country_abrv', 'total_points',\n",
              "       'previous_points', 'rank_change', 'cur_year_avg',\n",
              "       'cur_year_avg_weighted', 'last_year_avg', 'last_year_avg_weighted',\n",
              "       'two_year_ago_avg', 'two_year_ago_weighted', 'three_year_ago_avg',\n",
              "       'three_year_ago_weighted', 'confederation', 'rank_date'],\n",
              "      dtype='object')"
            ]
          },
          "metadata": {
            "tags": []
          },
          "execution_count": 262
        }
      ]
    },
    {
      "cell_type": "code",
      "metadata": {
        "id": "xHhTw5eKWr0n",
        "colab": {
          "base_uri": "https://localhost:8080/",
          "height": 531
        },
        "outputId": "4c8abb8a-2a52-4ba7-ec04-3c4cb8aa9eb4"
      },
      "source": [
        "# Previewing the top of our dataset\n",
        "#\n",
        "fifa.head(10)"
      ],
      "execution_count": 263,
      "outputs": [
        {
          "output_type": "execute_result",
          "data": {
            "text/html": [
              "<div>\n",
              "<style scoped>\n",
              "    .dataframe tbody tr th:only-of-type {\n",
              "        vertical-align: middle;\n",
              "    }\n",
              "\n",
              "    .dataframe tbody tr th {\n",
              "        vertical-align: top;\n",
              "    }\n",
              "\n",
              "    .dataframe thead th {\n",
              "        text-align: right;\n",
              "    }\n",
              "</style>\n",
              "<table border=\"1\" class=\"dataframe\">\n",
              "  <thead>\n",
              "    <tr style=\"text-align: right;\">\n",
              "      <th></th>\n",
              "      <th>rank</th>\n",
              "      <th>country_full</th>\n",
              "      <th>country_abrv</th>\n",
              "      <th>total_points</th>\n",
              "      <th>previous_points</th>\n",
              "      <th>rank_change</th>\n",
              "      <th>cur_year_avg</th>\n",
              "      <th>cur_year_avg_weighted</th>\n",
              "      <th>last_year_avg</th>\n",
              "      <th>last_year_avg_weighted</th>\n",
              "      <th>two_year_ago_avg</th>\n",
              "      <th>two_year_ago_weighted</th>\n",
              "      <th>three_year_ago_avg</th>\n",
              "      <th>three_year_ago_weighted</th>\n",
              "      <th>confederation</th>\n",
              "      <th>rank_date</th>\n",
              "    </tr>\n",
              "  </thead>\n",
              "  <tbody>\n",
              "    <tr>\n",
              "      <th>0</th>\n",
              "      <td>1</td>\n",
              "      <td>Germany</td>\n",
              "      <td>GER</td>\n",
              "      <td>0.0</td>\n",
              "      <td>57</td>\n",
              "      <td>0</td>\n",
              "      <td>0.0</td>\n",
              "      <td>0.0</td>\n",
              "      <td>0.0</td>\n",
              "      <td>0.0</td>\n",
              "      <td>0.0</td>\n",
              "      <td>0.0</td>\n",
              "      <td>0.0</td>\n",
              "      <td>0.0</td>\n",
              "      <td>UEFA</td>\n",
              "      <td>1993-08-08</td>\n",
              "    </tr>\n",
              "    <tr>\n",
              "      <th>1</th>\n",
              "      <td>2</td>\n",
              "      <td>Italy</td>\n",
              "      <td>ITA</td>\n",
              "      <td>0.0</td>\n",
              "      <td>57</td>\n",
              "      <td>0</td>\n",
              "      <td>0.0</td>\n",
              "      <td>0.0</td>\n",
              "      <td>0.0</td>\n",
              "      <td>0.0</td>\n",
              "      <td>0.0</td>\n",
              "      <td>0.0</td>\n",
              "      <td>0.0</td>\n",
              "      <td>0.0</td>\n",
              "      <td>UEFA</td>\n",
              "      <td>1993-08-08</td>\n",
              "    </tr>\n",
              "    <tr>\n",
              "      <th>2</th>\n",
              "      <td>3</td>\n",
              "      <td>Switzerland</td>\n",
              "      <td>SUI</td>\n",
              "      <td>0.0</td>\n",
              "      <td>50</td>\n",
              "      <td>9</td>\n",
              "      <td>0.0</td>\n",
              "      <td>0.0</td>\n",
              "      <td>0.0</td>\n",
              "      <td>0.0</td>\n",
              "      <td>0.0</td>\n",
              "      <td>0.0</td>\n",
              "      <td>0.0</td>\n",
              "      <td>0.0</td>\n",
              "      <td>UEFA</td>\n",
              "      <td>1993-08-08</td>\n",
              "    </tr>\n",
              "    <tr>\n",
              "      <th>3</th>\n",
              "      <td>4</td>\n",
              "      <td>Sweden</td>\n",
              "      <td>SWE</td>\n",
              "      <td>0.0</td>\n",
              "      <td>55</td>\n",
              "      <td>0</td>\n",
              "      <td>0.0</td>\n",
              "      <td>0.0</td>\n",
              "      <td>0.0</td>\n",
              "      <td>0.0</td>\n",
              "      <td>0.0</td>\n",
              "      <td>0.0</td>\n",
              "      <td>0.0</td>\n",
              "      <td>0.0</td>\n",
              "      <td>UEFA</td>\n",
              "      <td>1993-08-08</td>\n",
              "    </tr>\n",
              "    <tr>\n",
              "      <th>4</th>\n",
              "      <td>5</td>\n",
              "      <td>Argentina</td>\n",
              "      <td>ARG</td>\n",
              "      <td>0.0</td>\n",
              "      <td>51</td>\n",
              "      <td>5</td>\n",
              "      <td>0.0</td>\n",
              "      <td>0.0</td>\n",
              "      <td>0.0</td>\n",
              "      <td>0.0</td>\n",
              "      <td>0.0</td>\n",
              "      <td>0.0</td>\n",
              "      <td>0.0</td>\n",
              "      <td>0.0</td>\n",
              "      <td>CONMEBOL</td>\n",
              "      <td>1993-08-08</td>\n",
              "    </tr>\n",
              "    <tr>\n",
              "      <th>5</th>\n",
              "      <td>6</td>\n",
              "      <td>Republic of Ireland</td>\n",
              "      <td>IRL</td>\n",
              "      <td>0.0</td>\n",
              "      <td>54</td>\n",
              "      <td>0</td>\n",
              "      <td>0.0</td>\n",
              "      <td>0.0</td>\n",
              "      <td>0.0</td>\n",
              "      <td>0.0</td>\n",
              "      <td>0.0</td>\n",
              "      <td>0.0</td>\n",
              "      <td>0.0</td>\n",
              "      <td>0.0</td>\n",
              "      <td>UEFA</td>\n",
              "      <td>1993-08-08</td>\n",
              "    </tr>\n",
              "    <tr>\n",
              "      <th>6</th>\n",
              "      <td>7</td>\n",
              "      <td>Russia</td>\n",
              "      <td>RUS</td>\n",
              "      <td>0.0</td>\n",
              "      <td>52</td>\n",
              "      <td>1</td>\n",
              "      <td>0.0</td>\n",
              "      <td>0.0</td>\n",
              "      <td>0.0</td>\n",
              "      <td>0.0</td>\n",
              "      <td>0.0</td>\n",
              "      <td>0.0</td>\n",
              "      <td>0.0</td>\n",
              "      <td>0.0</td>\n",
              "      <td>UEFA</td>\n",
              "      <td>1993-08-08</td>\n",
              "    </tr>\n",
              "    <tr>\n",
              "      <th>7</th>\n",
              "      <td>8</td>\n",
              "      <td>Brazil</td>\n",
              "      <td>BRA</td>\n",
              "      <td>0.0</td>\n",
              "      <td>55</td>\n",
              "      <td>-5</td>\n",
              "      <td>0.0</td>\n",
              "      <td>0.0</td>\n",
              "      <td>0.0</td>\n",
              "      <td>0.0</td>\n",
              "      <td>0.0</td>\n",
              "      <td>0.0</td>\n",
              "      <td>0.0</td>\n",
              "      <td>0.0</td>\n",
              "      <td>CONMEBOL</td>\n",
              "      <td>1993-08-08</td>\n",
              "    </tr>\n",
              "    <tr>\n",
              "      <th>8</th>\n",
              "      <td>9</td>\n",
              "      <td>Norway</td>\n",
              "      <td>NOR</td>\n",
              "      <td>0.0</td>\n",
              "      <td>49</td>\n",
              "      <td>5</td>\n",
              "      <td>0.0</td>\n",
              "      <td>0.0</td>\n",
              "      <td>0.0</td>\n",
              "      <td>0.0</td>\n",
              "      <td>0.0</td>\n",
              "      <td>0.0</td>\n",
              "      <td>0.0</td>\n",
              "      <td>0.0</td>\n",
              "      <td>UEFA</td>\n",
              "      <td>1993-08-08</td>\n",
              "    </tr>\n",
              "    <tr>\n",
              "      <th>9</th>\n",
              "      <td>10</td>\n",
              "      <td>Denmark</td>\n",
              "      <td>DEN</td>\n",
              "      <td>0.0</td>\n",
              "      <td>51</td>\n",
              "      <td>-1</td>\n",
              "      <td>0.0</td>\n",
              "      <td>0.0</td>\n",
              "      <td>0.0</td>\n",
              "      <td>0.0</td>\n",
              "      <td>0.0</td>\n",
              "      <td>0.0</td>\n",
              "      <td>0.0</td>\n",
              "      <td>0.0</td>\n",
              "      <td>UEFA</td>\n",
              "      <td>1993-08-08</td>\n",
              "    </tr>\n",
              "  </tbody>\n",
              "</table>\n",
              "</div>"
            ],
            "text/plain": [
              "   rank         country_full  ... confederation   rank_date\n",
              "0     1              Germany  ...          UEFA  1993-08-08\n",
              "1     2                Italy  ...          UEFA  1993-08-08\n",
              "2     3          Switzerland  ...          UEFA  1993-08-08\n",
              "3     4               Sweden  ...          UEFA  1993-08-08\n",
              "4     5            Argentina  ...      CONMEBOL  1993-08-08\n",
              "5     6  Republic of Ireland  ...          UEFA  1993-08-08\n",
              "6     7               Russia  ...          UEFA  1993-08-08\n",
              "7     8               Brazil  ...      CONMEBOL  1993-08-08\n",
              "8     9               Norway  ...          UEFA  1993-08-08\n",
              "9    10              Denmark  ...          UEFA  1993-08-08\n",
              "\n",
              "[10 rows x 16 columns]"
            ]
          },
          "metadata": {
            "tags": []
          },
          "execution_count": 263
        }
      ]
    },
    {
      "cell_type": "code",
      "metadata": {
        "id": "e9AzGcZFrIIr",
        "colab": {
          "base_uri": "https://localhost:8080/",
          "height": 531
        },
        "outputId": "9cd6de69-7c22-493e-a7da-fae4f03373cb"
      },
      "source": [
        "# Previewing the bottom of our dataset\n",
        "# \n",
        "fifa.tail(10)"
      ],
      "execution_count": 264,
      "outputs": [
        {
          "output_type": "execute_result",
          "data": {
            "text/html": [
              "<div>\n",
              "<style scoped>\n",
              "    .dataframe tbody tr th:only-of-type {\n",
              "        vertical-align: middle;\n",
              "    }\n",
              "\n",
              "    .dataframe tbody tr th {\n",
              "        vertical-align: top;\n",
              "    }\n",
              "\n",
              "    .dataframe thead th {\n",
              "        text-align: right;\n",
              "    }\n",
              "</style>\n",
              "<table border=\"1\" class=\"dataframe\">\n",
              "  <thead>\n",
              "    <tr style=\"text-align: right;\">\n",
              "      <th></th>\n",
              "      <th>rank</th>\n",
              "      <th>country_full</th>\n",
              "      <th>country_abrv</th>\n",
              "      <th>total_points</th>\n",
              "      <th>previous_points</th>\n",
              "      <th>rank_change</th>\n",
              "      <th>cur_year_avg</th>\n",
              "      <th>cur_year_avg_weighted</th>\n",
              "      <th>last_year_avg</th>\n",
              "      <th>last_year_avg_weighted</th>\n",
              "      <th>two_year_ago_avg</th>\n",
              "      <th>two_year_ago_weighted</th>\n",
              "      <th>three_year_ago_avg</th>\n",
              "      <th>three_year_ago_weighted</th>\n",
              "      <th>confederation</th>\n",
              "      <th>rank_date</th>\n",
              "    </tr>\n",
              "  </thead>\n",
              "  <tbody>\n",
              "    <tr>\n",
              "      <th>57783</th>\n",
              "      <td>202</td>\n",
              "      <td>Cayman Islands</td>\n",
              "      <td>CAY</td>\n",
              "      <td>8.50</td>\n",
              "      <td>9</td>\n",
              "      <td>2</td>\n",
              "      <td>0.0</td>\n",
              "      <td>0.0</td>\n",
              "      <td>0.0</td>\n",
              "      <td>0.0</td>\n",
              "      <td>0.0</td>\n",
              "      <td>0.0</td>\n",
              "      <td>42.50</td>\n",
              "      <td>8.50</td>\n",
              "      <td>CONCACAF</td>\n",
              "      <td>2018-06-07</td>\n",
              "    </tr>\n",
              "    <tr>\n",
              "      <th>57784</th>\n",
              "      <td>203</td>\n",
              "      <td>San Marino</td>\n",
              "      <td>SMR</td>\n",
              "      <td>7.92</td>\n",
              "      <td>8</td>\n",
              "      <td>2</td>\n",
              "      <td>0.0</td>\n",
              "      <td>0.0</td>\n",
              "      <td>0.0</td>\n",
              "      <td>0.0</td>\n",
              "      <td>0.0</td>\n",
              "      <td>0.0</td>\n",
              "      <td>39.60</td>\n",
              "      <td>7.92</td>\n",
              "      <td>UEFA</td>\n",
              "      <td>2018-06-07</td>\n",
              "    </tr>\n",
              "    <tr>\n",
              "      <th>57785</th>\n",
              "      <td>204</td>\n",
              "      <td>British Virgin Islands</td>\n",
              "      <td>VGB</td>\n",
              "      <td>4.25</td>\n",
              "      <td>4</td>\n",
              "      <td>2</td>\n",
              "      <td>0.0</td>\n",
              "      <td>0.0</td>\n",
              "      <td>0.0</td>\n",
              "      <td>0.0</td>\n",
              "      <td>0.0</td>\n",
              "      <td>0.0</td>\n",
              "      <td>21.25</td>\n",
              "      <td>4.25</td>\n",
              "      <td>CONCACAF</td>\n",
              "      <td>2018-06-07</td>\n",
              "    </tr>\n",
              "    <tr>\n",
              "      <th>57786</th>\n",
              "      <td>204</td>\n",
              "      <td>Montserrat</td>\n",
              "      <td>MSR</td>\n",
              "      <td>4.25</td>\n",
              "      <td>17</td>\n",
              "      <td>-4</td>\n",
              "      <td>0.0</td>\n",
              "      <td>0.0</td>\n",
              "      <td>0.0</td>\n",
              "      <td>0.0</td>\n",
              "      <td>0.0</td>\n",
              "      <td>0.0</td>\n",
              "      <td>21.25</td>\n",
              "      <td>4.25</td>\n",
              "      <td>CONCACAF</td>\n",
              "      <td>2018-06-07</td>\n",
              "    </tr>\n",
              "    <tr>\n",
              "      <th>57787</th>\n",
              "      <td>206</td>\n",
              "      <td>Turks and Caicos Islands</td>\n",
              "      <td>TCA</td>\n",
              "      <td>0.00</td>\n",
              "      <td>13</td>\n",
              "      <td>-4</td>\n",
              "      <td>0.0</td>\n",
              "      <td>0.0</td>\n",
              "      <td>0.0</td>\n",
              "      <td>0.0</td>\n",
              "      <td>0.0</td>\n",
              "      <td>0.0</td>\n",
              "      <td>0.00</td>\n",
              "      <td>0.00</td>\n",
              "      <td>CONCACAF</td>\n",
              "      <td>2018-06-07</td>\n",
              "    </tr>\n",
              "    <tr>\n",
              "      <th>57788</th>\n",
              "      <td>206</td>\n",
              "      <td>Anguilla</td>\n",
              "      <td>AIA</td>\n",
              "      <td>0.00</td>\n",
              "      <td>0</td>\n",
              "      <td>1</td>\n",
              "      <td>0.0</td>\n",
              "      <td>0.0</td>\n",
              "      <td>0.0</td>\n",
              "      <td>0.0</td>\n",
              "      <td>0.0</td>\n",
              "      <td>0.0</td>\n",
              "      <td>0.00</td>\n",
              "      <td>0.00</td>\n",
              "      <td>CONCACAF</td>\n",
              "      <td>2018-06-07</td>\n",
              "    </tr>\n",
              "    <tr>\n",
              "      <th>57789</th>\n",
              "      <td>206</td>\n",
              "      <td>Bahamas</td>\n",
              "      <td>BAH</td>\n",
              "      <td>0.00</td>\n",
              "      <td>0</td>\n",
              "      <td>1</td>\n",
              "      <td>0.0</td>\n",
              "      <td>0.0</td>\n",
              "      <td>0.0</td>\n",
              "      <td>0.0</td>\n",
              "      <td>0.0</td>\n",
              "      <td>0.0</td>\n",
              "      <td>0.00</td>\n",
              "      <td>0.00</td>\n",
              "      <td>CONCACAF</td>\n",
              "      <td>2018-06-07</td>\n",
              "    </tr>\n",
              "    <tr>\n",
              "      <th>57790</th>\n",
              "      <td>206</td>\n",
              "      <td>Eritrea</td>\n",
              "      <td>ERI</td>\n",
              "      <td>0.00</td>\n",
              "      <td>0</td>\n",
              "      <td>1</td>\n",
              "      <td>0.0</td>\n",
              "      <td>0.0</td>\n",
              "      <td>0.0</td>\n",
              "      <td>0.0</td>\n",
              "      <td>0.0</td>\n",
              "      <td>0.0</td>\n",
              "      <td>0.00</td>\n",
              "      <td>0.00</td>\n",
              "      <td>CAF</td>\n",
              "      <td>2018-06-07</td>\n",
              "    </tr>\n",
              "    <tr>\n",
              "      <th>57791</th>\n",
              "      <td>206</td>\n",
              "      <td>Somalia</td>\n",
              "      <td>SOM</td>\n",
              "      <td>0.00</td>\n",
              "      <td>0</td>\n",
              "      <td>1</td>\n",
              "      <td>0.0</td>\n",
              "      <td>0.0</td>\n",
              "      <td>0.0</td>\n",
              "      <td>0.0</td>\n",
              "      <td>0.0</td>\n",
              "      <td>0.0</td>\n",
              "      <td>0.00</td>\n",
              "      <td>0.00</td>\n",
              "      <td>CAF</td>\n",
              "      <td>2018-06-07</td>\n",
              "    </tr>\n",
              "    <tr>\n",
              "      <th>57792</th>\n",
              "      <td>206</td>\n",
              "      <td>Tonga</td>\n",
              "      <td>TGA</td>\n",
              "      <td>0.00</td>\n",
              "      <td>0</td>\n",
              "      <td>1</td>\n",
              "      <td>0.0</td>\n",
              "      <td>0.0</td>\n",
              "      <td>0.0</td>\n",
              "      <td>0.0</td>\n",
              "      <td>0.0</td>\n",
              "      <td>0.0</td>\n",
              "      <td>0.00</td>\n",
              "      <td>0.00</td>\n",
              "      <td>OFC</td>\n",
              "      <td>2018-06-07</td>\n",
              "    </tr>\n",
              "  </tbody>\n",
              "</table>\n",
              "</div>"
            ],
            "text/plain": [
              "       rank              country_full  ... confederation   rank_date\n",
              "57783   202            Cayman Islands  ...      CONCACAF  2018-06-07\n",
              "57784   203                San Marino  ...          UEFA  2018-06-07\n",
              "57785   204    British Virgin Islands  ...      CONCACAF  2018-06-07\n",
              "57786   204                Montserrat  ...      CONCACAF  2018-06-07\n",
              "57787   206  Turks and Caicos Islands  ...      CONCACAF  2018-06-07\n",
              "57788   206                  Anguilla  ...      CONCACAF  2018-06-07\n",
              "57789   206                   Bahamas  ...      CONCACAF  2018-06-07\n",
              "57790   206                   Eritrea  ...           CAF  2018-06-07\n",
              "57791   206                   Somalia  ...           CAF  2018-06-07\n",
              "57792   206                     Tonga  ...           OFC  2018-06-07\n",
              "\n",
              "[10 rows x 16 columns]"
            ]
          },
          "metadata": {
            "tags": []
          },
          "execution_count": 264
        }
      ]
    },
    {
      "cell_type": "code",
      "metadata": {
        "id": "u-5Lu3C2_j2i",
        "colab": {
          "base_uri": "https://localhost:8080/"
        },
        "outputId": "98e5bd23-42f9-452e-ba14-7c88fb2cd0b2"
      },
      "source": [
        "fifa.info()"
      ],
      "execution_count": 265,
      "outputs": [
        {
          "output_type": "stream",
          "text": [
            "<class 'pandas.core.frame.DataFrame'>\n",
            "RangeIndex: 57793 entries, 0 to 57792\n",
            "Data columns (total 16 columns):\n",
            " #   Column                   Non-Null Count  Dtype  \n",
            "---  ------                   --------------  -----  \n",
            " 0   rank                     57793 non-null  int64  \n",
            " 1   country_full             57793 non-null  object \n",
            " 2   country_abrv             57793 non-null  object \n",
            " 3   total_points             57793 non-null  float64\n",
            " 4   previous_points          57793 non-null  int64  \n",
            " 5   rank_change              57793 non-null  int64  \n",
            " 6   cur_year_avg             57793 non-null  float64\n",
            " 7   cur_year_avg_weighted    57793 non-null  float64\n",
            " 8   last_year_avg            57793 non-null  float64\n",
            " 9   last_year_avg_weighted   57793 non-null  float64\n",
            " 10  two_year_ago_avg         57793 non-null  float64\n",
            " 11  two_year_ago_weighted    57793 non-null  float64\n",
            " 12  three_year_ago_avg       57793 non-null  float64\n",
            " 13  three_year_ago_weighted  57793 non-null  float64\n",
            " 14  confederation            57793 non-null  object \n",
            " 15  rank_date                57793 non-null  object \n",
            "dtypes: float64(9), int64(3), object(4)\n",
            "memory usage: 7.1+ MB\n"
          ],
          "name": "stdout"
        }
      ]
    },
    {
      "cell_type": "code",
      "metadata": {
        "id": "n8-dW4sQWzbc",
        "colab": {
          "base_uri": "https://localhost:8080/"
        },
        "outputId": "58be82d9-68d6-4fa3-e240-cbba3e69f2f7"
      },
      "source": [
        "# Checking whether each column has an appropriate datatype\n",
        "#\n",
        "fifa.dtypes"
      ],
      "execution_count": 266,
      "outputs": [
        {
          "output_type": "execute_result",
          "data": {
            "text/plain": [
              "rank                         int64\n",
              "country_full                object\n",
              "country_abrv                object\n",
              "total_points               float64\n",
              "previous_points              int64\n",
              "rank_change                  int64\n",
              "cur_year_avg               float64\n",
              "cur_year_avg_weighted      float64\n",
              "last_year_avg              float64\n",
              "last_year_avg_weighted     float64\n",
              "two_year_ago_avg           float64\n",
              "two_year_ago_weighted      float64\n",
              "three_year_ago_avg         float64\n",
              "three_year_ago_weighted    float64\n",
              "confederation               object\n",
              "rank_date                   object\n",
              "dtype: object"
            ]
          },
          "metadata": {
            "tags": []
          },
          "execution_count": 266
        }
      ]
    },
    {
      "cell_type": "code",
      "metadata": {
        "id": "9LJ7H0Ms_UYx",
        "colab": {
          "base_uri": "https://localhost:8080/"
        },
        "outputId": "f5d94670-c480-4b5b-9df5-895050b16423"
      },
      "source": [
        "fifa.nunique()"
      ],
      "execution_count": 267,
      "outputs": [
        {
          "output_type": "execute_result",
          "data": {
            "text/plain": [
              "rank                         209\n",
              "country_full                 216\n",
              "country_abrv                 216\n",
              "total_points               11114\n",
              "previous_points             1557\n",
              "rank_change                  121\n",
              "cur_year_avg                7419\n",
              "cur_year_avg_weighted       7419\n",
              "last_year_avg               7473\n",
              "last_year_avg_weighted      7001\n",
              "two_year_ago_avg            7575\n",
              "two_year_ago_weighted       6513\n",
              "three_year_ago_avg          7628\n",
              "three_year_ago_weighted     5849\n",
              "confederation                  6\n",
              "rank_date                    286\n",
              "dtype: int64"
            ]
          },
          "metadata": {
            "tags": []
          },
          "execution_count": 267
        }
      ]
    },
    {
      "cell_type": "code",
      "metadata": {
        "id": "fy0sBQc1DXEl",
        "colab": {
          "base_uri": "https://localhost:8080/"
        },
        "outputId": "8e705acb-9de4-4278-c456-2e27d115db52"
      },
      "source": [
        "col = list(fifa.columns)\n",
        "for i in col:\n",
        "  print(f'{i}')\n",
        "  print('')\n",
        "  a = fifa[i].unique()\n",
        "  print(a)\n",
        "  print('****************************************************************************')\n",
        "  print('')"
      ],
      "execution_count": 373,
      "outputs": [
        {
          "output_type": "stream",
          "text": [
            "rank\n",
            "\n",
            "[  1   2   3   4   5   6   7   8   9  10  11  12  13  14  15  16  17  18\n",
            "  19  20  21  22  23  24  25  26  27  28  29  30  31  32  33  34  35  36\n",
            "  37  38  39  40  41  42  43  44  45  46  47  48  49  50  51  52  53  54\n",
            "  55  56  57  58  59  60  61  62  63  64  65  66  67  68  69  70  71  72\n",
            "  73  74  75  76  77  78  79  80  81  82  83  84  85  86  87  88  89  90\n",
            "  91  92  93  94  95  96  97  98  99 100 101 102 103 104 105 106 107 108\n",
            " 109 110 111 112 113 114 115 116 117 118 119 120 121 122 123 124 125 126\n",
            " 127 128 129 130 131 132 133 134 135 136 137 138 139 140 141 142 143 144\n",
            " 145 146 148 149 150 151 152 153 154 155 156 157 158 159 160 161 162 163\n",
            " 164 165 166 167 147 168 169 170 171 172 173 174 176 175 177 178 179 180\n",
            " 181 182 183 184 185 186 187 188 189 190 191 192 193 194 195 196 197 198\n",
            " 199 200 201 202 203 204 205 207 206 208 209]\n",
            "****************************************************************************\n",
            "\n",
            "country_full\n",
            "\n",
            "['Germany' 'Italy' 'Switzerland' 'Sweden' 'Argentina'\n",
            " 'Republic of Ireland' 'Russia' 'Brazil' 'Norway' 'Denmark' 'England'\n",
            " 'France' 'Spain' 'Mexico' 'RCS' 'Netherlands' 'Nigeria' 'Belgium'\n",
            " 'Colombia' 'Poland' 'Romania' 'Uruguay' 'Portugal' 'Cameroon' 'Zambia'\n",
            " 'Egypt' 'Wales' 'USA' \"Côte d'Ivoire\" 'Scotland' 'Tunisia' 'Greece'\n",
            " 'Morocco' 'Algeria' 'Ecuador' 'Korea Republic' 'Bulgaria' 'Austria'\n",
            " 'Costa Rica' 'Northern Ireland' 'Honduras' 'Hungary' 'Japan'\n",
            " 'Saudi Arabia' 'China PR' 'Canada' 'Finland' 'Ghana' 'Chile' 'Zimbabwe'\n",
            " 'Qatar' 'Australia' 'Iceland' 'IR Iran' 'United Arab Emirates'\n",
            " 'Yugoslavia' 'Iraq' 'Senegal' 'Bolivia' 'Kuwait' 'Korea DPR'\n",
            " 'El Salvador' 'Turkey' 'Gabon' 'Guinea' 'Thailand' 'Paraguay' 'Malawi'\n",
            " 'Israel' 'Peru' 'Zaire' 'Cyprus' 'Singapore' 'Mali' 'Malaysia' 'Bermuda'\n",
            " 'Niger' 'Syria' 'Bahrain' 'New Zealand' 'Madagascar' 'Malta' 'Jamaica'\n",
            " 'Lithuania' 'Trinidad and Tobago' 'Sierra Leone' 'Jordan' 'Kenya'\n",
            " 'Latvia' 'Yemen' 'Tanzania' 'Albania' 'Angola' 'Venezuela' 'Ethiopia'\n",
            " 'Burundi' 'Oman' 'Indonesia' 'Liberia' 'Mozambique' 'Puerto Rico'\n",
            " 'Swaziland' 'Hong Kong' 'Uganda' 'Barbados' 'Myanmar' 'Congo' 'Lebanon'\n",
            " 'South Africa' 'Luxembourg' 'Faroe Islands' 'Guatemala' 'Burkina Faso'\n",
            " 'Togo' 'Suriname' 'Fiji' 'Croatia' 'Estonia' 'San Marino' 'Bangladesh'\n",
            " 'St Vincent and the Grenadines' 'Netherlands Antilles' 'Mauritius'\n",
            " 'Benin' 'Panama' 'Sudan' 'Antigua and Barbuda' 'Slovenia' 'India'\n",
            " 'Belarus' 'Ukraine' 'Vietnam' 'Guinea-Bissau' 'Guyana' 'Botswana'\n",
            " 'St Lucia' 'Tahiti' 'Grenada' 'Haiti' 'Libya' 'Laos' 'Mauritania'\n",
            " 'Cape Verde Islands' 'Solomon Islands' 'Brunei Darussalam' 'Lesotho'\n",
            " 'Dominican Republic' 'Pakistan' 'Nicaragua' 'Cuba' 'Seychelles'\n",
            " 'Central African Republic' 'Gambia' 'Namibia' 'Cayman Islands' 'Nepal'\n",
            " 'Liechtenstein' 'Equatorial Guinea' 'Chinese Taipei' 'Sri Lanka'\n",
            " 'Philippines' 'Chad' 'Vanuatu' 'Aruba' 'Bahamas' 'Maldives' 'Macau'\n",
            " 'Slovakia' 'St Kitts and Nevis' 'Czech Republic' 'Georgia'\n",
            " 'FYR Macedonia' 'Moldova' 'Armenia' 'Azerbaijan' 'Uzbekistan'\n",
            " 'Turkmenistan' 'Kazakhstan' 'Tajikistan' 'Kyrgyz Republic' 'Somalia'\n",
            " 'Djibouti' 'Dominica' 'Rwanda' 'Belize' 'Cambodia'\n",
            " 'Bosnia and Herzegovina' 'Guam' 'Papua New Guinea' 'Tonga' 'Samoa'\n",
            " 'Andorra' 'Cook Islands' 'British Virgin Islands' 'Anguilla'\n",
            " 'São Tomé e Príncipe' 'Eritrea' 'American Samoa' 'Palestine' 'Mongolia'\n",
            " 'Turks and Caicos Islands' 'US Virgin Islands' 'Montserrat' 'Congo DR'\n",
            " 'Bhutan' 'Serbia and Montenegro' 'Afghanistan' 'New Caledonia' 'Serbia'\n",
            " 'Timor-Leste' 'Comoros' 'Montenegro' 'Curaçao' 'South Sudan' 'Kosovo'\n",
            " 'Gibraltar']\n",
            "****************************************************************************\n",
            "\n",
            "country_abrv\n",
            "\n",
            "['GER' 'ITA' 'SUI' 'SWE' 'ARG' 'IRL' 'RUS' 'BRA' 'NOR' 'DEN' 'ENG' 'FRA'\n",
            " 'ESP' 'MEX' 'TCH' 'NED' 'NGA' 'BEL' 'COL' 'POL' 'ROU' 'URU' 'POR' 'CMR'\n",
            " 'ZAM' 'EGY' 'WAL' 'USA' 'CIV' 'SCO' 'TUN' 'GRE' 'MAR' 'ALG' 'ECU' 'KOR'\n",
            " 'BUL' 'AUT' 'CRC' 'NIR' 'HON' 'HUN' 'JPN' 'KSA' 'CHN' 'CAN' 'FIN' 'GHA'\n",
            " 'CHI' 'ZIM' 'QAT' 'AUS' 'ISL' 'IRN' 'UAE' 'YUG' 'IRQ' 'SEN' 'BOL' 'KUW'\n",
            " 'PRK' 'SLV' 'TUR' 'GAB' 'GUI' 'THA' 'PAR' 'MWI' 'ISR' 'PER' 'ZAI' 'CYP'\n",
            " 'SIN' 'MLI' 'MAS' 'BER' 'NIG' 'SYR' 'BHR' 'NZL' 'MAD' 'MLT' 'JAM' 'LTU'\n",
            " 'TRI' 'SLE' 'JOR' 'KEN' 'LVA' 'YEM' 'TAN' 'ALB' 'ANG' 'VEN' 'ETH' 'BDI'\n",
            " 'OMA' 'IDN' 'LBR' 'MOZ' 'PUR' 'SWZ' 'HKG' 'UGA' 'BRB' 'MYA' 'CGO' 'LIB'\n",
            " 'RSA' 'LUX' 'FRO' 'GUA' 'BFA' 'TOG' 'SUR' 'FIJ' 'CRO' 'EST' 'SMR' 'BAN'\n",
            " 'VIN' 'ANT' 'MRI' 'BEN' 'PAN' 'SDN' 'ATG' 'SVN' 'IND' 'BLR' 'UKR' 'VIE'\n",
            " 'GNB' 'GUY' 'BOT' 'LCA' 'TAH' 'GRN' 'HAI' 'LBY' 'LAO' 'MTN' 'CPV' 'SOL'\n",
            " 'BRU' 'LES' 'DOM' 'PAK' 'NCA' 'CUB' 'SEY' 'CTA' 'GAM' 'NAM' 'CAY' 'NEP'\n",
            " 'LIE' 'EQG' 'TPE' 'SRI' 'PHI' 'CHA' 'VAN' 'ARU' 'BAH' 'MDV' 'MAC' 'SVK'\n",
            " 'SKN' 'CZE' 'GEO' 'MKD' 'MDA' 'ARM' 'AZE' 'UZB' 'TKM' 'KAZ' 'TJK' 'KGZ'\n",
            " 'SOM' 'DJI' 'DMA' 'RWA' 'BLZ' 'CAM' 'BIH' 'GUM' 'PNG' 'TGA' 'SAM' 'AND'\n",
            " 'COK' 'VGB' 'AIA' 'STP' 'ERI' 'ASA' 'PLE' 'MNG' 'TCA' 'VIR' 'MSR' 'COD'\n",
            " 'BHU' 'SCG' 'AFG' 'NCL' 'SRB' 'TLS' 'COM' 'MNE' 'CUW' 'SSD' 'KVX' 'GIB']\n",
            "****************************************************************************\n",
            "\n",
            "total_points\n",
            "\n",
            "[   0.   1596.13 1563.45 ...   48.45   44.86   34.76]\n",
            "****************************************************************************\n",
            "\n",
            "previous_points\n",
            "\n",
            "[  57   50   55 ... 1185 1346 1118]\n",
            "****************************************************************************\n",
            "\n",
            "rank_change\n",
            "\n",
            "[  0   9   5   1  -5  -1  -6   7   2  11   3  -9  -4  16 -10  10  -2  -7\n",
            "   8  30  13 -11  23   4  -3 -27  25  28 -12 -21 -15 -18  18 -16 -23  31\n",
            "  19  21  46 -17  53  15 -29 -13 -20  14 -24 -14  -8   6  12  29  38  33\n",
            "  92  17  22  27  26  24  20  40  37  36  32 -28  41 -30 -34 -46 -41 -38\n",
            " -40 -37 -72 -26 -25  49  42  47  72  34 -19 -43 -31  39 -22  65 -32 -47\n",
            " -36  59  35 -33 -42 -39  55  44  52 -35  48  51  58  57  43  50  45 -45\n",
            " -50  54  60 -53  71  77  69  73  82 -44 -52 -49 -62]\n",
            "****************************************************************************\n",
            "\n",
            "cur_year_avg\n",
            "\n",
            "[  0.   748.05 589.59 ...  55.99  30.47  29.9 ]\n",
            "****************************************************************************\n",
            "\n",
            "cur_year_avg_weighted\n",
            "\n",
            "[  0.   748.05 589.59 ...  55.99  30.47  29.9 ]\n",
            "****************************************************************************\n",
            "\n",
            "last_year_avg\n",
            "\n",
            "[   0.    976.46 1074.04 ...   65.66   65.52   11.74]\n",
            "****************************************************************************\n",
            "\n",
            "last_year_avg_weighted\n",
            "\n",
            "[  0.   488.23 537.02 ...  32.83  32.76   5.87]\n",
            "****************************************************************************\n",
            "\n",
            "two_year_ago_avg\n",
            "\n",
            "[  0.   740.63 796.81 ... 208.25  58.32  35.13]\n",
            "****************************************************************************\n",
            "\n",
            "two_year_ago_weighted\n",
            "\n",
            "[  0.   222.19 239.04 ...  12.06  13.64  10.54]\n",
            "****************************************************************************\n",
            "\n",
            "three_year_ago_avg\n",
            "\n",
            "[  0.   688.31 989.   ...  62.31 170.   162.64]\n",
            "****************************************************************************\n",
            "\n",
            "three_year_ago_weighted\n",
            "\n",
            "[  0.   137.66 197.8  ...   9.39  34.    32.53]\n",
            "****************************************************************************\n",
            "\n",
            "confederation\n",
            "\n",
            "['UEFA' 'CONMEBOL' 'CONCACAF' 'CAF' 'AFC' 'OFC']\n",
            "****************************************************************************\n",
            "\n",
            "date\n",
            "\n",
            "['1993-08-08T00:00:00.000000000' '1993-09-23T00:00:00.000000000'\n",
            " '1993-10-22T00:00:00.000000000' '1993-11-19T00:00:00.000000000'\n",
            " '1993-12-23T00:00:00.000000000' '1994-02-15T00:00:00.000000000'\n",
            " '1994-03-15T00:00:00.000000000' '1994-04-19T00:00:00.000000000'\n",
            " '1994-05-17T00:00:00.000000000' '1994-06-14T00:00:00.000000000'\n",
            " '1994-07-21T00:00:00.000000000' '1994-09-13T00:00:00.000000000'\n",
            " '1994-10-25T00:00:00.000000000' '1994-11-22T00:00:00.000000000'\n",
            " '1994-12-20T00:00:00.000000000' '1995-02-20T00:00:00.000000000'\n",
            " '1995-04-19T00:00:00.000000000' '1995-05-16T00:00:00.000000000'\n",
            " '1995-06-13T00:00:00.000000000' '1995-07-25T00:00:00.000000000'\n",
            " '1995-08-22T00:00:00.000000000' '1995-09-19T00:00:00.000000000'\n",
            " '1995-10-17T00:00:00.000000000' '1995-11-21T00:00:00.000000000'\n",
            " '1995-12-19T00:00:00.000000000' '1996-01-24T00:00:00.000000000'\n",
            " '1996-02-21T00:00:00.000000000' '1996-04-24T00:00:00.000000000'\n",
            " '1996-05-22T00:00:00.000000000' '1996-07-03T00:00:00.000000000'\n",
            " '1996-08-28T00:00:00.000000000' '1996-09-25T00:00:00.000000000'\n",
            " '1996-10-23T00:00:00.000000000' '1996-11-20T00:00:00.000000000'\n",
            " '1996-12-18T00:00:00.000000000' '1997-02-27T00:00:00.000000000'\n",
            " '1997-04-09T00:00:00.000000000' '1997-05-14T00:00:00.000000000'\n",
            " '1997-06-18T00:00:00.000000000' '1997-07-16T00:00:00.000000000'\n",
            " '1997-08-20T00:00:00.000000000' '1997-09-17T00:00:00.000000000'\n",
            " '1997-10-17T00:00:00.000000000' '1997-11-19T00:00:00.000000000'\n",
            " '1997-12-23T00:00:00.000000000' '1998-02-18T00:00:00.000000000'\n",
            " '1998-03-18T00:00:00.000000000' '1998-04-22T00:00:00.000000000'\n",
            " '1998-05-20T00:00:00.000000000' '1998-07-15T00:00:00.000000000'\n",
            " '1998-08-19T00:00:00.000000000' '1998-09-16T00:00:00.000000000'\n",
            " '1998-10-21T00:00:00.000000000' '1998-11-18T00:00:00.000000000'\n",
            " '1998-12-23T00:00:00.000000000' '1999-01-27T00:00:00.000000000'\n",
            " '1999-02-24T00:00:00.000000000' '1999-03-24T00:00:00.000000000'\n",
            " '1999-04-21T00:00:00.000000000' '1999-05-19T00:00:00.000000000'\n",
            " '1999-06-16T00:00:00.000000000' '1999-07-21T00:00:00.000000000'\n",
            " '1999-08-18T00:00:00.000000000' '1999-09-15T00:00:00.000000000'\n",
            " '1999-10-13T00:00:00.000000000' '1999-11-17T00:00:00.000000000'\n",
            " '1999-12-22T00:00:00.000000000' '2000-01-19T00:00:00.000000000'\n",
            " '2000-02-16T00:00:00.000000000' '2000-03-15T00:00:00.000000000'\n",
            " '2000-04-12T00:00:00.000000000' '2000-05-10T00:00:00.000000000'\n",
            " '2000-06-07T00:00:00.000000000' '2000-07-05T00:00:00.000000000'\n",
            " '2000-08-09T00:00:00.000000000' '2000-09-06T00:00:00.000000000'\n",
            " '2000-10-11T00:00:00.000000000' '2000-11-15T00:00:00.000000000'\n",
            " '2000-12-20T00:00:00.000000000' '2001-01-17T00:00:00.000000000'\n",
            " '2001-02-14T00:00:00.000000000' '2001-03-14T00:00:00.000000000'\n",
            " '2001-04-11T00:00:00.000000000' '2001-05-16T00:00:00.000000000'\n",
            " '2001-06-20T00:00:00.000000000' '2001-07-18T00:00:00.000000000'\n",
            " '2001-08-22T00:00:00.000000000' '2001-09-19T00:00:00.000000000'\n",
            " '2001-10-17T00:00:00.000000000' '2001-11-21T00:00:00.000000000'\n",
            " '2001-12-19T00:00:00.000000000' '2002-01-16T00:00:00.000000000'\n",
            " '2002-02-13T00:00:00.000000000' '2002-03-20T00:00:00.000000000'\n",
            " '2002-04-17T00:00:00.000000000' '2002-05-15T00:00:00.000000000'\n",
            " '2002-07-03T00:00:00.000000000' '2002-08-14T00:00:00.000000000'\n",
            " '2002-09-18T00:00:00.000000000' '2002-10-23T00:00:00.000000000'\n",
            " '2002-11-20T00:00:00.000000000' '2002-12-18T00:00:00.000000000'\n",
            " '2003-01-15T00:00:00.000000000' '2003-02-19T00:00:00.000000000'\n",
            " '2003-03-26T00:00:00.000000000' '2003-04-23T00:00:00.000000000'\n",
            " '2003-05-21T00:00:00.000000000' '2003-06-25T00:00:00.000000000'\n",
            " '2003-07-30T00:00:00.000000000' '2003-08-27T00:00:00.000000000'\n",
            " '2003-09-24T00:00:00.000000000' '2003-10-22T00:00:00.000000000'\n",
            " '2003-11-19T00:00:00.000000000' '2003-12-15T00:00:00.000000000'\n",
            " '2004-01-14T00:00:00.000000000' '2004-02-18T00:00:00.000000000'\n",
            " '2004-03-17T00:00:00.000000000' '2004-04-14T00:00:00.000000000'\n",
            " '2004-05-12T00:00:00.000000000' '2004-06-09T00:00:00.000000000'\n",
            " '2004-07-07T00:00:00.000000000' '2004-08-04T00:00:00.000000000'\n",
            " '2004-09-01T00:00:00.000000000' '2004-10-06T00:00:00.000000000'\n",
            " '2004-11-10T00:00:00.000000000' '2004-12-20T00:00:00.000000000'\n",
            " '2005-01-19T00:00:00.000000000' '2005-02-16T00:00:00.000000000'\n",
            " '2005-03-23T00:00:00.000000000' '2005-04-20T00:00:00.000000000'\n",
            " '2005-05-18T00:00:00.000000000' '2005-06-15T00:00:00.000000000'\n",
            " '2005-07-20T00:00:00.000000000' '2005-08-17T00:00:00.000000000'\n",
            " '2005-09-12T00:00:00.000000000' '2005-10-17T00:00:00.000000000'\n",
            " '2005-11-21T00:00:00.000000000' '2005-12-16T00:00:00.000000000'\n",
            " '2006-01-18T00:00:00.000000000' '2006-02-15T00:00:00.000000000'\n",
            " '2006-03-15T00:00:00.000000000' '2006-04-19T00:00:00.000000000'\n",
            " '2006-05-17T00:00:00.000000000' '2006-07-12T00:00:00.000000000'\n",
            " '2006-08-16T00:00:00.000000000' '2006-09-13T00:00:00.000000000'\n",
            " '2006-10-18T00:00:00.000000000' '2006-11-22T00:00:00.000000000'\n",
            " '2006-12-18T00:00:00.000000000' '2007-01-17T00:00:00.000000000'\n",
            " '2007-02-14T00:00:00.000000000' '2007-03-14T00:00:00.000000000'\n",
            " '2007-04-18T00:00:00.000000000' '2007-05-16T00:00:00.000000000'\n",
            " '2007-06-13T00:00:00.000000000' '2007-07-18T00:00:00.000000000'\n",
            " '2007-08-22T00:00:00.000000000' '2007-09-19T00:00:00.000000000'\n",
            " '2007-10-24T00:00:00.000000000' '2007-11-23T00:00:00.000000000'\n",
            " '2007-12-17T00:00:00.000000000' '2008-01-16T00:00:00.000000000'\n",
            " '2008-02-13T00:00:00.000000000' '2008-03-12T00:00:00.000000000'\n",
            " '2008-04-09T00:00:00.000000000' '2008-05-07T00:00:00.000000000'\n",
            " '2008-06-04T00:00:00.000000000' '2008-07-02T00:00:00.000000000'\n",
            " '2008-08-06T00:00:00.000000000' '2008-09-03T00:00:00.000000000'\n",
            " '2008-10-08T00:00:00.000000000' '2008-11-12T00:00:00.000000000'\n",
            " '2008-12-17T00:00:00.000000000' '2009-01-14T00:00:00.000000000'\n",
            " '2009-02-11T00:00:00.000000000' '2009-03-11T00:00:00.000000000'\n",
            " '2009-04-08T00:00:00.000000000' '2009-05-06T00:00:00.000000000'\n",
            " '2009-06-03T00:00:00.000000000' '2009-07-01T00:00:00.000000000'\n",
            " '2009-08-05T00:00:00.000000000' '2009-09-02T00:00:00.000000000'\n",
            " '2009-10-16T00:00:00.000000000' '2009-11-20T00:00:00.000000000'\n",
            " '2009-12-16T00:00:00.000000000' '2010-02-03T00:00:00.000000000'\n",
            " '2010-03-03T00:00:00.000000000' '2010-03-31T00:00:00.000000000'\n",
            " '2010-04-28T00:00:00.000000000' '2010-05-26T00:00:00.000000000'\n",
            " '2010-07-14T00:00:00.000000000' '2010-08-11T00:00:00.000000000'\n",
            " '2010-09-15T00:00:00.000000000' '2010-10-20T00:00:00.000000000'\n",
            " '2010-11-17T00:00:00.000000000' '2010-12-15T00:00:00.000000000'\n",
            " '2011-01-12T00:00:00.000000000' '2011-02-02T00:00:00.000000000'\n",
            " '2011-03-09T00:00:00.000000000' '2011-04-13T00:00:00.000000000'\n",
            " '2011-05-18T00:00:00.000000000' '2011-06-29T00:00:00.000000000'\n",
            " '2011-07-27T00:00:00.000000000' '2011-08-24T00:00:00.000000000'\n",
            " '2011-09-21T00:00:00.000000000' '2011-10-19T00:00:00.000000000'\n",
            " '2011-11-23T00:00:00.000000000' '2011-12-21T00:00:00.000000000'\n",
            " '2012-01-18T00:00:00.000000000' '2012-02-15T00:00:00.000000000'\n",
            " '2012-03-07T00:00:00.000000000' '2012-04-11T00:00:00.000000000'\n",
            " '2012-05-09T00:00:00.000000000' '2012-06-06T00:00:00.000000000'\n",
            " '2012-07-04T00:00:00.000000000' '2012-08-08T00:00:00.000000000'\n",
            " '2012-09-05T00:00:00.000000000' '2012-10-03T00:00:00.000000000'\n",
            " '2012-11-07T00:00:00.000000000' '2012-12-19T00:00:00.000000000'\n",
            " '2013-01-17T00:00:00.000000000' '2013-02-14T00:00:00.000000000'\n",
            " '2013-03-14T00:00:00.000000000' '2013-04-11T00:00:00.000000000'\n",
            " '2013-05-09T00:00:00.000000000' '2013-06-06T00:00:00.000000000'\n",
            " '2013-07-04T00:00:00.000000000' '2013-08-08T00:00:00.000000000'\n",
            " '2013-09-12T00:00:00.000000000' '2013-10-17T00:00:00.000000000'\n",
            " '2013-11-28T00:00:00.000000000' '2013-12-19T00:00:00.000000000'\n",
            " '2014-01-16T00:00:00.000000000' '2014-02-13T00:00:00.000000000'\n",
            " '2014-03-13T00:00:00.000000000' '2014-04-10T00:00:00.000000000'\n",
            " '2014-05-08T00:00:00.000000000' '2014-06-05T00:00:00.000000000'\n",
            " '2014-07-17T00:00:00.000000000' '2014-08-14T00:00:00.000000000'\n",
            " '2014-09-18T00:00:00.000000000' '2014-10-23T00:00:00.000000000'\n",
            " '2014-11-27T00:00:00.000000000' '2014-12-18T00:00:00.000000000'\n",
            " '2015-01-08T00:00:00.000000000' '2015-02-12T00:00:00.000000000'\n",
            " '2015-03-12T00:00:00.000000000' '2015-04-09T00:00:00.000000000'\n",
            " '2015-05-07T00:00:00.000000000' '2015-06-04T00:00:00.000000000'\n",
            " '2015-07-09T00:00:00.000000000' '2015-08-06T00:00:00.000000000'\n",
            " '2015-09-03T00:00:00.000000000' '2015-10-01T00:00:00.000000000'\n",
            " '2015-11-05T00:00:00.000000000' '2015-12-03T00:00:00.000000000'\n",
            " '2016-01-07T00:00:00.000000000' '2016-02-04T00:00:00.000000000'\n",
            " '2016-03-03T00:00:00.000000000' '2016-04-07T00:00:00.000000000'\n",
            " '2016-05-05T00:00:00.000000000' '2016-06-02T00:00:00.000000000'\n",
            " '2016-07-14T00:00:00.000000000' '2016-08-11T00:00:00.000000000'\n",
            " '2016-09-15T00:00:00.000000000' '2016-10-20T00:00:00.000000000'\n",
            " '2016-11-24T00:00:00.000000000' '2016-12-22T00:00:00.000000000'\n",
            " '2017-01-12T00:00:00.000000000' '2017-02-09T00:00:00.000000000'\n",
            " '2017-03-09T00:00:00.000000000' '2017-04-06T00:00:00.000000000'\n",
            " '2017-05-04T00:00:00.000000000' '2017-06-01T00:00:00.000000000'\n",
            " '2017-07-06T00:00:00.000000000' '2017-08-10T00:00:00.000000000'\n",
            " '2017-09-14T00:00:00.000000000' '2017-10-16T00:00:00.000000000'\n",
            " '2017-11-23T00:00:00.000000000' '2017-12-21T00:00:00.000000000'\n",
            " '2018-01-18T00:00:00.000000000' '2018-02-15T00:00:00.000000000'\n",
            " '2018-03-15T00:00:00.000000000' '2018-04-12T00:00:00.000000000'\n",
            " '2018-05-17T00:00:00.000000000' '2018-06-07T00:00:00.000000000']\n",
            "****************************************************************************\n",
            "\n",
            "year\n",
            "\n",
            "[1993 1994 1995 1996 1997 1998 1999 2000 2001 2002 2003 2004 2005 2006\n",
            " 2007 2008 2009 2010 2011 2012 2013 2014 2015 2016 2017 2018]\n",
            "****************************************************************************\n",
            "\n",
            "month_year\n",
            "\n",
            "<PeriodArray>\n",
            "['1993-08', '1993-09', '1993-10', '1993-11', '1993-12', '1994-02', '1994-03',\n",
            " '1994-04', '1994-05', '1994-06',\n",
            " ...\n",
            " '2017-09', '2017-10', '2017-11', '2017-12', '2018-01', '2018-02', '2018-03',\n",
            " '2018-04', '2018-05', '2018-06']\n",
            "Length: 285, dtype: period[M]\n",
            "****************************************************************************\n",
            "\n",
            "day\n",
            "\n",
            "[ 8 23 22 19 15 17 14 21 13 25 20 16 24  3 28 18 27  9 12 10  7  5  6 11\n",
            " 26 30  4  1  2 31 29]\n",
            "****************************************************************************\n",
            "\n",
            "month_number\n",
            "\n",
            "[ 8  9 10 11 12  2  3  4  5  6  7  1]\n",
            "****************************************************************************\n",
            "\n",
            "month_name\n",
            "\n",
            "['August' 'September' 'October' 'November' 'December' 'February' 'March'\n",
            " 'April' 'May' 'June' 'July' 'January']\n",
            "****************************************************************************\n",
            "\n"
          ],
          "name": "stdout"
        }
      ]
    },
    {
      "cell_type": "code",
      "metadata": {
        "id": "dxwmbbm6A37h",
        "colab": {
          "base_uri": "https://localhost:8080/",
          "height": 304
        },
        "outputId": "fd1cb124-f45e-45ba-cd4b-9362dc2b89c4"
      },
      "source": [
        "fifa.describe()"
      ],
      "execution_count": 269,
      "outputs": [
        {
          "output_type": "execute_result",
          "data": {
            "text/html": [
              "<div>\n",
              "<style scoped>\n",
              "    .dataframe tbody tr th:only-of-type {\n",
              "        vertical-align: middle;\n",
              "    }\n",
              "\n",
              "    .dataframe tbody tr th {\n",
              "        vertical-align: top;\n",
              "    }\n",
              "\n",
              "    .dataframe thead th {\n",
              "        text-align: right;\n",
              "    }\n",
              "</style>\n",
              "<table border=\"1\" class=\"dataframe\">\n",
              "  <thead>\n",
              "    <tr style=\"text-align: right;\">\n",
              "      <th></th>\n",
              "      <th>rank</th>\n",
              "      <th>total_points</th>\n",
              "      <th>previous_points</th>\n",
              "      <th>rank_change</th>\n",
              "      <th>cur_year_avg</th>\n",
              "      <th>cur_year_avg_weighted</th>\n",
              "      <th>last_year_avg</th>\n",
              "      <th>last_year_avg_weighted</th>\n",
              "      <th>two_year_ago_avg</th>\n",
              "      <th>two_year_ago_weighted</th>\n",
              "      <th>three_year_ago_avg</th>\n",
              "      <th>three_year_ago_weighted</th>\n",
              "    </tr>\n",
              "  </thead>\n",
              "  <tbody>\n",
              "    <tr>\n",
              "      <th>count</th>\n",
              "      <td>57793.000000</td>\n",
              "      <td>57793.000000</td>\n",
              "      <td>57793.000000</td>\n",
              "      <td>57793.000000</td>\n",
              "      <td>57793.000000</td>\n",
              "      <td>57793.000000</td>\n",
              "      <td>57793.000000</td>\n",
              "      <td>57793.000000</td>\n",
              "      <td>57793.000000</td>\n",
              "      <td>57793.000000</td>\n",
              "      <td>57793.000000</td>\n",
              "      <td>57793.000000</td>\n",
              "    </tr>\n",
              "    <tr>\n",
              "      <th>mean</th>\n",
              "      <td>101.628086</td>\n",
              "      <td>122.068637</td>\n",
              "      <td>332.302926</td>\n",
              "      <td>-0.009897</td>\n",
              "      <td>61.798602</td>\n",
              "      <td>61.798602</td>\n",
              "      <td>61.004602</td>\n",
              "      <td>30.502377</td>\n",
              "      <td>59.777462</td>\n",
              "      <td>17.933277</td>\n",
              "      <td>59.173916</td>\n",
              "      <td>11.834811</td>\n",
              "    </tr>\n",
              "    <tr>\n",
              "      <th>std</th>\n",
              "      <td>58.618424</td>\n",
              "      <td>260.426863</td>\n",
              "      <td>302.872948</td>\n",
              "      <td>5.804309</td>\n",
              "      <td>138.014883</td>\n",
              "      <td>138.014883</td>\n",
              "      <td>137.688204</td>\n",
              "      <td>68.844143</td>\n",
              "      <td>136.296079</td>\n",
              "      <td>40.888849</td>\n",
              "      <td>135.533343</td>\n",
              "      <td>27.106675</td>\n",
              "    </tr>\n",
              "    <tr>\n",
              "      <th>min</th>\n",
              "      <td>1.000000</td>\n",
              "      <td>0.000000</td>\n",
              "      <td>0.000000</td>\n",
              "      <td>-72.000000</td>\n",
              "      <td>0.000000</td>\n",
              "      <td>0.000000</td>\n",
              "      <td>0.000000</td>\n",
              "      <td>0.000000</td>\n",
              "      <td>0.000000</td>\n",
              "      <td>0.000000</td>\n",
              "      <td>0.000000</td>\n",
              "      <td>0.000000</td>\n",
              "    </tr>\n",
              "    <tr>\n",
              "      <th>25%</th>\n",
              "      <td>51.000000</td>\n",
              "      <td>0.000000</td>\n",
              "      <td>56.000000</td>\n",
              "      <td>-2.000000</td>\n",
              "      <td>0.000000</td>\n",
              "      <td>0.000000</td>\n",
              "      <td>0.000000</td>\n",
              "      <td>0.000000</td>\n",
              "      <td>0.000000</td>\n",
              "      <td>0.000000</td>\n",
              "      <td>0.000000</td>\n",
              "      <td>0.000000</td>\n",
              "    </tr>\n",
              "    <tr>\n",
              "      <th>50%</th>\n",
              "      <td>101.000000</td>\n",
              "      <td>0.000000</td>\n",
              "      <td>272.000000</td>\n",
              "      <td>0.000000</td>\n",
              "      <td>0.000000</td>\n",
              "      <td>0.000000</td>\n",
              "      <td>0.000000</td>\n",
              "      <td>0.000000</td>\n",
              "      <td>0.000000</td>\n",
              "      <td>0.000000</td>\n",
              "      <td>0.000000</td>\n",
              "      <td>0.000000</td>\n",
              "    </tr>\n",
              "    <tr>\n",
              "      <th>75%</th>\n",
              "      <td>152.000000</td>\n",
              "      <td>92.790000</td>\n",
              "      <td>525.000000</td>\n",
              "      <td>1.000000</td>\n",
              "      <td>32.250000</td>\n",
              "      <td>32.250000</td>\n",
              "      <td>26.660000</td>\n",
              "      <td>13.330000</td>\n",
              "      <td>21.500000</td>\n",
              "      <td>6.450000</td>\n",
              "      <td>21.250000</td>\n",
              "      <td>4.250000</td>\n",
              "    </tr>\n",
              "    <tr>\n",
              "      <th>max</th>\n",
              "      <td>209.000000</td>\n",
              "      <td>1775.030000</td>\n",
              "      <td>1920.000000</td>\n",
              "      <td>92.000000</td>\n",
              "      <td>1158.660000</td>\n",
              "      <td>1158.660000</td>\n",
              "      <td>1169.570000</td>\n",
              "      <td>584.790000</td>\n",
              "      <td>1159.710000</td>\n",
              "      <td>347.910000</td>\n",
              "      <td>1200.770000</td>\n",
              "      <td>240.150000</td>\n",
              "    </tr>\n",
              "  </tbody>\n",
              "</table>\n",
              "</div>"
            ],
            "text/plain": [
              "               rank  total_points  ...  three_year_ago_avg  three_year_ago_weighted\n",
              "count  57793.000000  57793.000000  ...        57793.000000             57793.000000\n",
              "mean     101.628086    122.068637  ...           59.173916                11.834811\n",
              "std       58.618424    260.426863  ...          135.533343                27.106675\n",
              "min        1.000000      0.000000  ...            0.000000                 0.000000\n",
              "25%       51.000000      0.000000  ...            0.000000                 0.000000\n",
              "50%      101.000000      0.000000  ...            0.000000                 0.000000\n",
              "75%      152.000000     92.790000  ...           21.250000                 4.250000\n",
              "max      209.000000   1775.030000  ...         1200.770000               240.150000\n",
              "\n",
              "[8 rows x 12 columns]"
            ]
          },
          "metadata": {
            "tags": []
          },
          "execution_count": 269
        }
      ]
    },
    {
      "cell_type": "markdown",
      "metadata": {
        "id": "VWUDGhIxBM49"
      },
      "source": [
        "### Second Dataset"
      ]
    },
    {
      "cell_type": "code",
      "metadata": {
        "id": "7yWRobtrBM5D",
        "colab": {
          "base_uri": "https://localhost:8080/"
        },
        "outputId": "b932544c-7f45-4519-a6f2-d16a38b6a214"
      },
      "source": [
        "# Determining the no. of records in our dataset\n",
        "records = results.shape[0]\n",
        "print(f'{records} records')"
      ],
      "execution_count": 270,
      "outputs": [
        {
          "output_type": "stream",
          "text": [
            "40839 records\n"
          ],
          "name": "stdout"
        }
      ]
    },
    {
      "cell_type": "code",
      "metadata": {
        "id": "Gxy_UZLsBM5T",
        "colab": {
          "base_uri": "https://localhost:8080/"
        },
        "outputId": "26fe3f11-10f5-4616-a8d3-47eeb1b735d0"
      },
      "source": [
        "# Number of columns and rows\n",
        "rows = results.shape[0]\n",
        "columns = results.shape[1]\n",
        "\n",
        "print(f'{rows} rows and {columns} columns')"
      ],
      "execution_count": 271,
      "outputs": [
        {
          "output_type": "stream",
          "text": [
            "40839 rows and 9 columns\n"
          ],
          "name": "stdout"
        }
      ]
    },
    {
      "cell_type": "code",
      "metadata": {
        "id": "tlfTqxL9MOsE",
        "colab": {
          "base_uri": "https://localhost:8080/"
        },
        "outputId": "c758478f-def7-47d2-9a4f-bc567e394018"
      },
      "source": [
        "results.columns"
      ],
      "execution_count": 272,
      "outputs": [
        {
          "output_type": "execute_result",
          "data": {
            "text/plain": [
              "Index(['date', 'home_team', 'away_team', 'home_score', 'away_score',\n",
              "       'tournament', 'city', 'country', 'neutral'],\n",
              "      dtype='object')"
            ]
          },
          "metadata": {
            "tags": []
          },
          "execution_count": 272
        }
      ]
    },
    {
      "cell_type": "code",
      "metadata": {
        "id": "QoLjV8iOBM5Z",
        "colab": {
          "base_uri": "https://localhost:8080/",
          "height": 299
        },
        "outputId": "bd19f9e3-dde3-4c29-a47d-b2144dc9c86e"
      },
      "source": [
        "# Previewing the top of our dataset\n",
        "results.head()"
      ],
      "execution_count": 273,
      "outputs": [
        {
          "output_type": "execute_result",
          "data": {
            "text/html": [
              "<div>\n",
              "<style scoped>\n",
              "    .dataframe tbody tr th:only-of-type {\n",
              "        vertical-align: middle;\n",
              "    }\n",
              "\n",
              "    .dataframe tbody tr th {\n",
              "        vertical-align: top;\n",
              "    }\n",
              "\n",
              "    .dataframe thead th {\n",
              "        text-align: right;\n",
              "    }\n",
              "</style>\n",
              "<table border=\"1\" class=\"dataframe\">\n",
              "  <thead>\n",
              "    <tr style=\"text-align: right;\">\n",
              "      <th></th>\n",
              "      <th>date</th>\n",
              "      <th>home_team</th>\n",
              "      <th>away_team</th>\n",
              "      <th>home_score</th>\n",
              "      <th>away_score</th>\n",
              "      <th>tournament</th>\n",
              "      <th>city</th>\n",
              "      <th>country</th>\n",
              "      <th>neutral</th>\n",
              "    </tr>\n",
              "  </thead>\n",
              "  <tbody>\n",
              "    <tr>\n",
              "      <th>0</th>\n",
              "      <td>1872-11-30</td>\n",
              "      <td>Scotland</td>\n",
              "      <td>England</td>\n",
              "      <td>0</td>\n",
              "      <td>0</td>\n",
              "      <td>Friendly</td>\n",
              "      <td>Glasgow</td>\n",
              "      <td>Scotland</td>\n",
              "      <td>False</td>\n",
              "    </tr>\n",
              "    <tr>\n",
              "      <th>1</th>\n",
              "      <td>1873-03-08</td>\n",
              "      <td>England</td>\n",
              "      <td>Scotland</td>\n",
              "      <td>4</td>\n",
              "      <td>2</td>\n",
              "      <td>Friendly</td>\n",
              "      <td>London</td>\n",
              "      <td>England</td>\n",
              "      <td>False</td>\n",
              "    </tr>\n",
              "    <tr>\n",
              "      <th>2</th>\n",
              "      <td>1874-03-07</td>\n",
              "      <td>Scotland</td>\n",
              "      <td>England</td>\n",
              "      <td>2</td>\n",
              "      <td>1</td>\n",
              "      <td>Friendly</td>\n",
              "      <td>Glasgow</td>\n",
              "      <td>Scotland</td>\n",
              "      <td>False</td>\n",
              "    </tr>\n",
              "    <tr>\n",
              "      <th>3</th>\n",
              "      <td>1875-03-06</td>\n",
              "      <td>England</td>\n",
              "      <td>Scotland</td>\n",
              "      <td>2</td>\n",
              "      <td>2</td>\n",
              "      <td>Friendly</td>\n",
              "      <td>London</td>\n",
              "      <td>England</td>\n",
              "      <td>False</td>\n",
              "    </tr>\n",
              "    <tr>\n",
              "      <th>4</th>\n",
              "      <td>1876-03-04</td>\n",
              "      <td>Scotland</td>\n",
              "      <td>England</td>\n",
              "      <td>3</td>\n",
              "      <td>0</td>\n",
              "      <td>Friendly</td>\n",
              "      <td>Glasgow</td>\n",
              "      <td>Scotland</td>\n",
              "      <td>False</td>\n",
              "    </tr>\n",
              "  </tbody>\n",
              "</table>\n",
              "</div>"
            ],
            "text/plain": [
              "         date home_team away_team  ...     city   country neutral\n",
              "0  1872-11-30  Scotland   England  ...  Glasgow  Scotland   False\n",
              "1  1873-03-08   England  Scotland  ...   London   England   False\n",
              "2  1874-03-07  Scotland   England  ...  Glasgow  Scotland   False\n",
              "3  1875-03-06   England  Scotland  ...   London   England   False\n",
              "4  1876-03-04  Scotland   England  ...  Glasgow  Scotland   False\n",
              "\n",
              "[5 rows x 9 columns]"
            ]
          },
          "metadata": {
            "tags": []
          },
          "execution_count": 273
        }
      ]
    },
    {
      "cell_type": "code",
      "metadata": {
        "id": "FxeaDvnWBM5d",
        "colab": {
          "base_uri": "https://localhost:8080/",
          "height": 316
        },
        "outputId": "500f28ae-8e41-4512-a396-150eab376a7e"
      },
      "source": [
        "# Previewing the bottom of our dataset \n",
        "results.tail()"
      ],
      "execution_count": 274,
      "outputs": [
        {
          "output_type": "execute_result",
          "data": {
            "text/html": [
              "<div>\n",
              "<style scoped>\n",
              "    .dataframe tbody tr th:only-of-type {\n",
              "        vertical-align: middle;\n",
              "    }\n",
              "\n",
              "    .dataframe tbody tr th {\n",
              "        vertical-align: top;\n",
              "    }\n",
              "\n",
              "    .dataframe thead th {\n",
              "        text-align: right;\n",
              "    }\n",
              "</style>\n",
              "<table border=\"1\" class=\"dataframe\">\n",
              "  <thead>\n",
              "    <tr style=\"text-align: right;\">\n",
              "      <th></th>\n",
              "      <th>date</th>\n",
              "      <th>home_team</th>\n",
              "      <th>away_team</th>\n",
              "      <th>home_score</th>\n",
              "      <th>away_score</th>\n",
              "      <th>tournament</th>\n",
              "      <th>city</th>\n",
              "      <th>country</th>\n",
              "      <th>neutral</th>\n",
              "    </tr>\n",
              "  </thead>\n",
              "  <tbody>\n",
              "    <tr>\n",
              "      <th>40834</th>\n",
              "      <td>2019-07-18</td>\n",
              "      <td>American Samoa</td>\n",
              "      <td>Tahiti</td>\n",
              "      <td>8</td>\n",
              "      <td>1</td>\n",
              "      <td>Pacific Games</td>\n",
              "      <td>Apia</td>\n",
              "      <td>Samoa</td>\n",
              "      <td>True</td>\n",
              "    </tr>\n",
              "    <tr>\n",
              "      <th>40835</th>\n",
              "      <td>2019-07-18</td>\n",
              "      <td>Fiji</td>\n",
              "      <td>Solomon Islands</td>\n",
              "      <td>4</td>\n",
              "      <td>4</td>\n",
              "      <td>Pacific Games</td>\n",
              "      <td>Apia</td>\n",
              "      <td>Samoa</td>\n",
              "      <td>True</td>\n",
              "    </tr>\n",
              "    <tr>\n",
              "      <th>40836</th>\n",
              "      <td>2019-07-19</td>\n",
              "      <td>Senegal</td>\n",
              "      <td>Algeria</td>\n",
              "      <td>0</td>\n",
              "      <td>1</td>\n",
              "      <td>African Cup of Nations</td>\n",
              "      <td>Cairo</td>\n",
              "      <td>Egypt</td>\n",
              "      <td>True</td>\n",
              "    </tr>\n",
              "    <tr>\n",
              "      <th>40837</th>\n",
              "      <td>2019-07-19</td>\n",
              "      <td>Tajikistan</td>\n",
              "      <td>North Korea</td>\n",
              "      <td>0</td>\n",
              "      <td>1</td>\n",
              "      <td>Intercontinental Cup</td>\n",
              "      <td>Ahmedabad</td>\n",
              "      <td>India</td>\n",
              "      <td>True</td>\n",
              "    </tr>\n",
              "    <tr>\n",
              "      <th>40838</th>\n",
              "      <td>2019-07-20</td>\n",
              "      <td>Papua New Guinea</td>\n",
              "      <td>Fiji</td>\n",
              "      <td>1</td>\n",
              "      <td>1</td>\n",
              "      <td>Pacific Games</td>\n",
              "      <td>Apia</td>\n",
              "      <td>Samoa</td>\n",
              "      <td>True</td>\n",
              "    </tr>\n",
              "  </tbody>\n",
              "</table>\n",
              "</div>"
            ],
            "text/plain": [
              "             date         home_team  ... country  neutral\n",
              "40834  2019-07-18    American Samoa  ...   Samoa     True\n",
              "40835  2019-07-18              Fiji  ...   Samoa     True\n",
              "40836  2019-07-19           Senegal  ...   Egypt     True\n",
              "40837  2019-07-19        Tajikistan  ...   India     True\n",
              "40838  2019-07-20  Papua New Guinea  ...   Samoa     True\n",
              "\n",
              "[5 rows x 9 columns]"
            ]
          },
          "metadata": {
            "tags": []
          },
          "execution_count": 274
        }
      ]
    },
    {
      "cell_type": "code",
      "metadata": {
        "id": "pZaoHE1FBM5h",
        "colab": {
          "base_uri": "https://localhost:8080/"
        },
        "outputId": "3914c034-040c-4345-9cd0-4221f4adf72e"
      },
      "source": [
        "results.info()"
      ],
      "execution_count": 275,
      "outputs": [
        {
          "output_type": "stream",
          "text": [
            "<class 'pandas.core.frame.DataFrame'>\n",
            "RangeIndex: 40839 entries, 0 to 40838\n",
            "Data columns (total 9 columns):\n",
            " #   Column      Non-Null Count  Dtype \n",
            "---  ------      --------------  ----- \n",
            " 0   date        40839 non-null  object\n",
            " 1   home_team   40839 non-null  object\n",
            " 2   away_team   40839 non-null  object\n",
            " 3   home_score  40839 non-null  int64 \n",
            " 4   away_score  40839 non-null  int64 \n",
            " 5   tournament  40839 non-null  object\n",
            " 6   city        40839 non-null  object\n",
            " 7   country     40839 non-null  object\n",
            " 8   neutral     40839 non-null  bool  \n",
            "dtypes: bool(1), int64(2), object(6)\n",
            "memory usage: 2.5+ MB\n"
          ],
          "name": "stdout"
        }
      ]
    },
    {
      "cell_type": "code",
      "metadata": {
        "id": "Gph_RPRjBM5k",
        "colab": {
          "base_uri": "https://localhost:8080/"
        },
        "outputId": "11a2508c-7c29-49dd-da2c-b044c68be7d0"
      },
      "source": [
        "# Checking whether each column has an appropriate datatype\n",
        "results.dtypes"
      ],
      "execution_count": 276,
      "outputs": [
        {
          "output_type": "execute_result",
          "data": {
            "text/plain": [
              "date          object\n",
              "home_team     object\n",
              "away_team     object\n",
              "home_score     int64\n",
              "away_score     int64\n",
              "tournament    object\n",
              "city          object\n",
              "country       object\n",
              "neutral         bool\n",
              "dtype: object"
            ]
          },
          "metadata": {
            "tags": []
          },
          "execution_count": 276
        }
      ]
    },
    {
      "cell_type": "code",
      "metadata": {
        "id": "z-qYTZrkBM5m",
        "colab": {
          "base_uri": "https://localhost:8080/"
        },
        "outputId": "160d1304-27cc-469c-d632-e1612d715058"
      },
      "source": [
        "results.nunique()"
      ],
      "execution_count": 277,
      "outputs": [
        {
          "output_type": "execute_result",
          "data": {
            "text/plain": [
              "date          15115\n",
              "home_team       309\n",
              "away_team       306\n",
              "home_score       26\n",
              "away_score       22\n",
              "tournament      109\n",
              "city           1960\n",
              "country         266\n",
              "neutral           2\n",
              "dtype: int64"
            ]
          },
          "metadata": {
            "tags": []
          },
          "execution_count": 277
        }
      ]
    },
    {
      "cell_type": "code",
      "metadata": {
        "id": "jscK3gQ9BuEc",
        "colab": {
          "base_uri": "https://localhost:8080/"
        },
        "outputId": "6e3c7565-f9c0-441e-e879-459dcda5cdd0"
      },
      "source": [
        "col = list(results.columns)\n",
        "for i in col:\n",
        "  print(f'{i}')\n",
        "  print('')\n",
        "  a = results[i].unique()\n",
        "  print(a)\n",
        "  print('')\n",
        "  print('****************************************************************************')\n",
        "  print('')"
      ],
      "execution_count": 278,
      "outputs": [
        {
          "output_type": "stream",
          "text": [
            "date\n",
            "\n",
            "['1872-11-30' '1873-03-08' '1874-03-07' ... '2019-07-18' '2019-07-19'\n",
            " '2019-07-20']\n",
            "\n",
            "****************************************************************************\n",
            "\n",
            "home_team\n",
            "\n",
            "['Scotland' 'England' 'Wales' 'Northern Ireland' 'United States' 'Uruguay'\n",
            " 'Austria' 'Hungary' 'Argentina' 'Belgium' 'France' 'Netherlands'\n",
            " 'Czechoslovakia' 'Switzerland' 'Sweden' 'Germany' 'Italy' 'Chile'\n",
            " 'Norway' 'Finland' 'Luxembourg' 'Russia' 'Denmark' 'Catalonia'\n",
            " 'Basque Country' 'Brazil' 'Japan' 'Paraguay' 'Canada' 'Estonia'\n",
            " 'Costa Rica' 'Guatemala' 'Spain' 'Brittany' 'Poland' 'Yugoslavia'\n",
            " 'New Zealand' 'Romania' 'Latvia' 'Galicia' 'Portugal' 'Andalusia'\n",
            " 'China PR' 'Australia' 'Lithuania' 'Turkey' 'Central Spain' 'Mexico'\n",
            " 'Aruba' 'Egypt' 'Haiti' 'Philippines' 'Bulgaria' 'Jamaica' 'Kenya'\n",
            " 'Bolivia' 'Peru' 'Honduras' 'Guyana' 'Uganda' 'Belarus' 'El Salvador'\n",
            " 'Barbados' 'Republic of Ireland' 'Trinidad and Tobago' 'Greece' 'Curaçao'\n",
            " 'Dominica' 'Silesia' 'Guadeloupe' 'Israel' 'Suriname' 'French Guiana'\n",
            " 'Cuba' 'Colombia' 'Ecuador' 'Saint Kitts and Nevis' 'Panama' 'Slovakia'\n",
            " 'Manchukuo' 'Croatia' 'Nicaragua' 'Afghanistan' 'India' 'Martinique'\n",
            " 'Zimbabwe' 'Iceland' 'Albania' 'Madagascar' 'Zambia' 'Mauritius'\n",
            " 'Tanzania' 'Iran' 'Djibouti' 'DR Congo' 'Vietnam' 'Macau' 'Ethiopia'\n",
            " 'Puerto Rico' 'Réunion' 'Sierra Leone' 'Zanzibar' 'South Korea' 'Ghana'\n",
            " 'South Africa' 'New Caledonia' 'Fiji' 'Nigeria' 'Venezuela' 'Burma'\n",
            " 'Sri Lanka' 'Tahiti' 'Gambia' 'Hong Kong' 'Singapore' 'Malaysia'\n",
            " 'Indonesia' 'Guinea-Bissau' 'German DR' 'Vanuatu' 'Kernow' 'Saarland'\n",
            " 'Cambodia' 'Lebanon' 'Pakistan' 'Vietnam Republic' 'North Korea' 'Togo'\n",
            " 'Sudan' 'Malta' 'Syria' 'Tunisia' 'Malawi' 'Morocco' 'Benin' 'Cameroon'\n",
            " 'Central African Republic' 'Gabon' 'Ivory Coast' 'Congo' 'Mali'\n",
            " 'North Vietnam' 'Mongolia' 'Chinese Taipei' 'Cyprus' 'Iraq' 'Saint Lucia'\n",
            " 'Grenada' 'Thailand' 'Senegal' 'Libya' 'Guinea' 'Algeria' 'Kuwait'\n",
            " 'Jordan' 'Solomon Islands' 'Liberia' 'Laos'\n",
            " 'Saint Vincent and the Grenadines' 'Bermuda' 'Niger' 'Bahrain'\n",
            " 'Montenegro' 'Palestine' 'Papua New Guinea' 'Burkina Faso' 'Mauritania'\n",
            " 'Saudi Arabia' 'Eswatini' 'Somalia' 'Lesotho' 'Cook Islands' 'Qatar'\n",
            " 'Antigua and Barbuda' 'Faroe Islands' 'Bangladesh' 'Oman' 'Yemen DPR'\n",
            " 'Burundi' 'Yemen' 'Mozambique' 'Guam' 'Chad' 'Angola'\n",
            " 'Dominican Republic' 'Seychelles' 'Rwanda' 'São Tomé and Príncipe'\n",
            " 'Botswana' 'Northern Cyprus' 'Cape Verde' 'Kyrgyzstan' 'Georgia'\n",
            " 'Azerbaijan' 'Kiribati' 'Tonga' 'Wallis Islands and Futuna'\n",
            " 'United Arab Emirates' 'Brunei' 'Equatorial Guinea' 'Liechtenstein'\n",
            " 'Nepal' 'Greenland' 'Niue' 'Samoa' 'American Samoa' 'Belize' 'Anguilla'\n",
            " 'Cayman Islands' 'Palau' 'Sint Maarten' 'Namibia' 'Åland Islands'\n",
            " 'Ynys Môn' 'Saint Martin' 'San Marino' 'Slovenia' 'Jersey' 'Shetland'\n",
            " 'Isle of Wight' 'Moldova' 'Ukraine' 'Kazakhstan' 'Tajikistan'\n",
            " 'Uzbekistan' 'Turkmenistan' 'Armenia' 'Czech Republic' 'Guernsey'\n",
            " 'Gibraltar' 'Isle of Man' 'North Macedonia' 'Montserrat' 'Serbia'\n",
            " 'Canary Islands' 'Bosnia and Herzegovina' 'Maldives' 'Andorra'\n",
            " 'British Virgin Islands' 'Frøya' 'Hitra' 'U.S. Virgin Islands' 'Corsica'\n",
            " 'Eritrea' 'Bahamas' 'Gotland' 'Saare County' 'Rhodes' 'Micronesia'\n",
            " 'Bhutan' 'Orkney' 'Monaco' 'Tuvalu' 'Sark' 'Alderney' 'Mayotte'\n",
            " 'Turks and Caicos Islands' 'East Timor' 'Western Isles'\n",
            " 'Falkland Islands' 'Kosovo' 'Republic of St. Pauli' 'Găgăuzia' 'Tibet'\n",
            " 'Crimea' 'Occitania' 'Sápmi' 'Northern Mariana Islands' 'Menorca'\n",
            " 'Comoros' 'Provence' 'Arameans Suryoye' 'Padania' 'Iraqi Kurdistan'\n",
            " 'Gozo' 'Bonaire' 'Western Sahara' 'Raetia' 'Darfur' 'Tamil Eelam'\n",
            " 'South Sudan' 'Abkhazia' 'St. Pierre & Miquelon' 'Artsakh' 'Madrid'\n",
            " 'Vatican City' 'Ellan Vannin' 'South Ossetia' 'County of Nice'\n",
            " 'Székely Land' 'Romani people' 'Felvidék' 'Chagos Islands'\n",
            " 'United Koreans in Japan' 'Somaliland' 'Western Armenia' 'Barawa'\n",
            " 'Kárpátalja' 'Yorkshire' 'Panjab' 'Matabeleland' 'Cascadia' 'Kabylia'\n",
            " 'Timor-Leste' 'Myanmar' 'Parishes of Jersey' 'Chameria' 'Saint Helena'\n",
            " 'Curacao']\n",
            "\n",
            "****************************************************************************\n",
            "\n",
            "away_team\n",
            "\n",
            "['England' 'Scotland' 'Wales' 'Northern Ireland' 'Canada' 'Argentina'\n",
            " 'Hungary' 'Czechoslovakia' 'Uruguay' 'France' 'Austria' 'Switzerland'\n",
            " 'Netherlands' 'Belgium' 'Germany' 'Norway' 'Sweden' 'Italy' 'Chile'\n",
            " 'Catalonia' 'Finland' 'Russia' 'Luxembourg' 'Denmark' 'Brazil'\n",
            " 'Basque Country' 'United States' 'Philippines' 'Estonia' 'Provence'\n",
            " 'El Salvador' 'Costa Rica' 'Paraguay' 'Yugoslavia' 'Poland' 'Portugal'\n",
            " 'Spain' 'Romania' 'Australia' 'Central Spain' 'Mexico' 'Galicia'\n",
            " 'Brittany' 'Asturias' 'China PR' 'New Zealand' 'Latvia' 'Guatemala'\n",
            " 'Curaçao' 'Bulgaria' 'Lithuania' 'Turkey' 'Egypt' 'South Africa'\n",
            " 'Jamaica' 'Japan' 'Republic of Ireland' 'Uganda' 'Bolivia' 'Haiti'\n",
            " 'Trinidad and Tobago' 'Kenya' 'Ukraine' 'Honduras' 'Nicaragua' 'Greece'\n",
            " 'Guyana' 'Peru' 'Aruba' 'Martinique' 'Barbados' 'Cuba' 'Israel'\n",
            " 'Indonesia' 'Suriname' 'Saint Lucia' 'Ecuador' 'Venezuela' 'Grenada'\n",
            " 'India' 'Panama' 'Slovakia' 'Croatia' 'Lebanon' 'Manchukuo' 'Puerto Rico'\n",
            " 'Iran' 'Guadeloupe' 'Mongolia' 'Colombia' 'Tanzania' 'Zambia'\n",
            " 'Montenegro' 'Mauritius' 'Zimbabwe' 'French Guiana' 'Réunion' 'Albania'\n",
            " 'Zanzibar' 'Ethiopia' 'Madagascar' 'Dominica' 'South Korea' 'Djibouti'\n",
            " 'Dominican Republic' 'Cyprus' 'Iceland' 'Nigeria' 'Syria' 'DR Congo'\n",
            " 'Serbia' 'Chinese Taipei' 'Afghanistan' 'Vanuatu' 'Ghana' 'Pakistan'\n",
            " 'German DR' 'Sierra Leone' 'Guinea-Bissau' 'Gambia' 'Saarland' 'Tahiti'\n",
            " 'Burundi' 'Sri Lanka' 'Thailand' 'Burma' 'New Caledonia' 'Cambodia'\n",
            " 'Malaysia' 'Vietnam Republic' 'Kyrgyzstan' 'Belarus' 'Moldova'\n",
            " 'North Vietnam' 'Togo' 'North Korea' 'Sudan' 'Libya' 'Hong Kong'\n",
            " 'Singapore' 'Malta' 'Benin' 'Cape Verde' 'Mali' 'Burkina Faso'\n",
            " 'Ivory Coast' 'Cameroon' 'Iraq' 'Tunisia' 'Morocco'\n",
            " 'Saint Vincent and the Grenadines' 'Guinea' 'Congo' 'Gabon' 'Malawi'\n",
            " 'Jordan' 'Senegal' 'Kuwait' 'Papua New Guinea' 'Solomon Islands'\n",
            " 'Liberia' 'Somalia' 'Laos' 'Saudi Arabia' 'Algeria' 'Chad'\n",
            " 'Central African Republic' 'Bermuda' 'Palestine' 'Yemen' 'Bahrain'\n",
            " 'Wallis Islands and Futuna' 'Niger' 'Corsica' 'Western Australia'\n",
            " 'Botswana' 'Fiji' 'Eswatini' 'Qatar' 'Lesotho' 'Bahamas' 'Brunei'\n",
            " 'Cook Islands' 'Yemen DPR' 'United Arab Emirates' 'Faroe Islands' 'Nepal'\n",
            " 'Antigua and Barbuda' 'Bangladesh' 'Seychelles' 'Oman'\n",
            " 'Equatorial Guinea' 'Mozambique' 'Mauritania' 'Angola'\n",
            " 'São Tomé and Príncipe' 'Macau' 'Saint Kitts and Nevis' 'Armenia'\n",
            " 'Kazakhstan' 'Tonga' 'Kiribati' 'Tuvalu' 'Samoa' 'Greenland'\n",
            " 'Northern Cyprus' 'Rwanda' 'Liechtenstein' 'Bhutan' 'American Samoa'\n",
            " 'Cayman Islands' 'British Virgin Islands' 'Sint Maarten' 'Ynys Môn'\n",
            " 'Shetland' 'Åland Islands' 'Saint Martin' 'San Marino' 'Montserrat'\n",
            " 'Anguilla' 'Guernsey' 'Isle of Wight' 'Jersey' 'Georgia' 'Guam'\n",
            " 'Turkmenistan' 'Slovenia' 'Uzbekistan' 'Eritrea' 'Tajikistan' 'Namibia'\n",
            " 'Azerbaijan' 'Czech Republic' 'Vietnam' 'Isle of Man' 'Gibraltar'\n",
            " 'North Macedonia' 'Belize' 'Bosnia and Herzegovina' 'Maldives' 'Andorra'\n",
            " 'Frøya' 'Hitra' 'Northern Mariana Islands' 'Kernow'\n",
            " 'Turks and Caicos Islands' 'U.S. Virgin Islands' 'Micronesia'\n",
            " 'Saare County' 'Rhodes' 'Tibet' 'Orkney' 'Falkland Islands' 'Mayotte'\n",
            " 'Monaco' 'Vatican City' 'East Timor' 'Gotland' 'Alderney' 'Sark'\n",
            " 'Western Isles' 'Sápmi' 'Crimea' 'Comoros' 'Menorca' 'Iraqi Kurdistan'\n",
            " 'Padania' 'Arameans Suryoye' 'Occitania' 'Gozo' 'Two Sicilies'\n",
            " 'St. Pierre & Miquelon' 'Bonaire' 'Western Sahara' 'Raetia' 'Darfur'\n",
            " 'Tamil Eelam' 'Artsakh' 'Abkhazia' 'South Sudan' 'Andalusia'\n",
            " 'South Ossetia' 'County of Nice' 'Ellan Vannin' 'Romani people'\n",
            " 'Felvidék' 'Chagos Islands' 'Székely Land' 'Somaliland' 'Western Armenia'\n",
            " 'Panjab' 'Kosovo' 'Kárpátalja' 'Yorkshire' 'Surrey' 'Cascadia'\n",
            " 'Matabeleland' 'Kabylia' 'United Koreans in Japan' 'Timor-Leste'\n",
            " 'Myanmar' 'Barawa' 'Parishes of Jersey' 'Chameria' 'Saint Helena'\n",
            " 'Curacao']\n",
            "\n",
            "****************************************************************************\n",
            "\n",
            "home_score\n",
            "\n",
            "[ 0  4  2  3  1  7  9  5  6  8 11 13 12 10 15 14 30 24 18 16 19 20 17 22\n",
            " 31 21]\n",
            "\n",
            "****************************************************************************\n",
            "\n",
            "away_score\n",
            "\n",
            "[ 0  2  1  3  4  6  5 13  8  7 10  9 11 12 15 18 16 14 19 20 17 21]\n",
            "\n",
            "****************************************************************************\n",
            "\n",
            "tournament\n",
            "\n",
            "['Friendly' 'British Championship' 'Copa Lipton' 'Copa Newton'\n",
            " 'Copa Premio Honor Argentino' 'Copa Premio Honor Uruguayo' 'Copa Roca'\n",
            " 'Copa América' 'Copa Chevallier Boutell' 'Nordic Championship'\n",
            " 'International Cup' 'Baltic Cup' 'Balkan Cup' 'FIFA World Cup'\n",
            " 'Copa Rio Branco' 'FIFA World Cup qualification' 'CCCF Championship'\n",
            " 'NAFU Championship' 'Copa Oswaldo Cruz' 'Pan American Championship'\n",
            " 'Copa del Pacífico' \"Copa Bernardo O'Higgins\"\n",
            " 'AFC Asian Cup qualification' 'Atlantic Cup' 'AFC Asian Cup'\n",
            " 'African Cup of Nations' 'Copa Paz del Chaco' 'Merdeka Tournament'\n",
            " 'UEFA Euro qualification' 'UEFA Euro' 'Windward Islands Tournament'\n",
            " 'African Cup of Nations qualification' 'Vietnam Independence Cup'\n",
            " 'Copa Carlos Dittborn' 'CONCACAF Championship' 'Copa Juan Pinto Durán'\n",
            " 'UAFA Cup' 'South Pacific Games' 'CONCACAF Championship qualification'\n",
            " 'Copa Artigas' 'GaNEFo' \"King's Cup\" 'Gulf Cup' 'Indonesia Tournament'\n",
            " 'Korea Cup' 'Brazil Independence Cup' 'Copa Ramón Castilla'\n",
            " 'Oceania Nations Cup' 'CECAFA Cup' 'Copa Félix Bogado' 'Kirin Cup'\n",
            " 'CFU Caribbean Cup qualification' 'CFU Caribbean Cup'\n",
            " 'Amílcar Cabral Cup' 'Mundialito' 'West African Cup' 'Nehru Cup'\n",
            " 'Merlion Cup' 'UDEAC Cup' 'Rous Cup' 'Lunar New Year Cup'\n",
            " 'Tournoi de France' 'Malta International Tournament' 'Island Games'\n",
            " 'Dynasty Cup' 'UNCAF Cup' 'Gold Cup' 'USA Cup'\n",
            " 'Jordan International Tournament' 'Confederations Cup'\n",
            " 'United Arab Emirates Friendship Tournament'\n",
            " 'Oceania Nations Cup qualification' 'Simba Tournament' 'SAFF Cup'\n",
            " 'AFF Championship' 'King Hassan II Tournament'\n",
            " 'Cyprus International Tournament' 'Dunhill Cup' 'COSAFA Cup'\n",
            " 'Gold Cup qualification' 'SKN Football Festival' 'UNIFFAC Cup'\n",
            " 'WAFF Championship' 'Millennium Cup' \"Prime Minister's Cup\"\n",
            " 'EAFF Championship' 'AFC Challenge Cup' 'FIFI Wild Cup' 'ELF Cup'\n",
            " 'Viva World Cup' 'UAFA Cup qualification'\n",
            " 'AFC Challenge Cup qualification' 'African Nations Championship'\n",
            " 'VFF Cup' 'Dragon Cup' 'ABCS Tournament' 'Nile Basin Tournament'\n",
            " 'Nations Cup' 'Pacific Games' 'OSN Cup' 'CONIFA World Football Cup'\n",
            " 'CONIFA European Football Cup' 'Copa América qualification'\n",
            " 'World Unity Cup' 'Intercontinental Cup' 'AFF Championship qualification'\n",
            " 'UEFA Nations League' 'Atlantic Heritage Cup'\n",
            " 'Inter Games Football Tournament']\n",
            "\n",
            "****************************************************************************\n",
            "\n",
            "city\n",
            "\n",
            "['Glasgow' 'London' 'Wrexham' ... 'New Jersey' 'Ahmedabad' 'Ismaila']\n",
            "\n",
            "****************************************************************************\n",
            "\n",
            "country\n",
            "\n",
            "['Scotland' 'England' 'Wales' 'Republic of Ireland' 'United States'\n",
            " 'Uruguay' 'Austria' 'Hungary' 'Argentina' 'Belgium' 'France'\n",
            " 'Netherlands' 'Bohemia' 'Switzerland' 'Sweden' 'Germany' 'Italy' 'Chile'\n",
            " 'Norway' 'Finland' 'Luxembourg' 'Russia' 'Denmark' 'Spain' 'Japan'\n",
            " 'Brazil' 'Paraguay' 'China PR' 'Canada' 'Estonia' 'Guatemala'\n",
            " 'Czechoslovakia' 'Poland' 'Yugoslavia' 'New Zealand' 'Romania' 'Latvia'\n",
            " 'Portugal' 'Northern Ireland' 'Australia' 'Lithuania' 'Turkey' 'Mexico'\n",
            " 'Aruba' 'Soviet Union' 'Haiti' 'Philippines' 'Bulgaria' 'Jamaica' 'Kenya'\n",
            " 'Czech Republic' 'Peru' 'Honduras' 'British Guyana' 'Uganda'\n",
            " 'El Salvador' 'Barbados' 'Irish Free State' 'Trinidad and Tobago'\n",
            " 'Greece' 'Curaçao' 'Egypt' 'Dominica' 'Guadeloupe' 'Palestine'\n",
            " 'Netherlands Guyana' 'French Guiana' 'Cuba' 'Colombia'\n",
            " 'Saint Kitts and Nevis' 'Éire' 'Panama' 'Bohemia and Moravia' 'Slovakia'\n",
            " 'Manchuria' 'Croatia' 'Costa Rica' 'Afghanistan' 'Martinique'\n",
            " 'Southern Rhodesia' 'Iceland' 'Albania' 'Madagascar' 'Northern Rhodesia'\n",
            " 'Tanganyika' 'Iran' 'Ecuador' 'French Somaliland' 'Belgian Congo'\n",
            " 'Mauritius' 'Hong Kong' 'Vietnam' 'Macau' 'Ethiopia' 'Suriname'\n",
            " 'Puerto Rico' 'Réunion' 'Israel' 'Sierra Leone' 'Zanzibar' 'Bolivia'\n",
            " 'Gold Coast' 'South Africa' 'Netherlands Antilles' 'New Caledonia' 'Fiji'\n",
            " 'Nigeria' 'Venezuela' 'Ceylon' 'French Polynesia' 'Gambia' 'Singapore'\n",
            " 'Portuguese Guinea' 'German DR' 'New Hebrides' 'Burma' 'Saarland'\n",
            " 'Cambodia' 'India' 'Lebanon' 'Pakistan' 'Malaya' 'South Korea'\n",
            " 'Vietnam Republic' 'Togo' 'Indonesia' 'Sudan' 'Malta' 'Syria' 'Tunisia'\n",
            " 'Nyasaland' 'Ghana' 'Morocco' 'United Arab Republic' 'North Korea'\n",
            " 'Dahomey' 'Guinea-Bissau' 'Mali Federation' 'Mali' 'Vietnam DR' 'Cyprus'\n",
            " 'Iraq' 'Saint Lucia' 'Senegal' 'Libya' 'Gabon' 'Thailand' 'Congo'\n",
            " 'Tanzania' 'Grenada' 'Guinea' 'Central African Republic' 'Cameroon'\n",
            " 'Algeria' 'Kuwait' 'Ivory Coast' 'Lautoka' 'Liberia' 'Malaysia' 'Jordan'\n",
            " 'Zambia' 'Saint Vincent and the Grenadines' 'Bermuda' 'Niger' 'Malawi'\n",
            " 'DR Congo' 'Upper Volta' 'Chinese Taipei' 'Guyana' 'Mauritania'\n",
            " 'Rhodesia' 'Saudi Arabia' 'Eswatini' 'Mozambique' 'Papua New Guinea'\n",
            " 'Bahrain' 'Lesotho' 'Somalia' 'Zaïre' 'Sri Lanka' 'Antigua and Barbuda'\n",
            " 'Faroe Islands' 'Qatar' 'Yemen DPR' 'Burundi' 'Guam' 'Chad' 'Angola'\n",
            " 'Dominican Republic' 'Seychelles' 'São Tomé and Príncipe' 'Botswana'\n",
            " 'Benin' 'Rwanda' 'Bangladesh' 'United Arab Emirates' 'Zimbabwe' 'Oman'\n",
            " 'Equatorial Guinea' 'Cape Verde' 'Liechtenstein' 'Nepal' 'Greenland'\n",
            " 'Vanuatu' 'Western Samoa' 'Belize' 'Brunei' 'Djibouti' 'Burkina Faso'\n",
            " 'Yemen AR' 'Anguilla' 'Nicaragua' 'Cayman Islands' 'Monaco'\n",
            " 'Solomon Islands' 'Sint Maarten' 'Namibia' 'Saint Martin' 'San Marino'\n",
            " 'Slovenia' 'Moldova' 'Ukraine' 'Kazakhstan' 'Tajikistan' 'Uzbekistan'\n",
            " 'Turkmenistan' 'Georgia' 'Kyrgyzstan' 'Armenia' 'Belarus' 'Guernsey'\n",
            " 'Azerbaijan' 'North Macedonia' 'Jersey' 'Montserrat' 'Gibraltar'\n",
            " 'Bosnia and Herzegovina' 'Tonga' 'Andorra' 'Yemen' 'U.S. Virgin Islands'\n",
            " 'Palau' 'Cook Islands' 'British Virgin Islands' 'Eritrea' 'Bahamas'\n",
            " 'Micronesia' 'Maldives' 'Laos' 'Isle of Man' 'Samoa' 'Bhutan'\n",
            " 'Serbia and Montenegro' 'Mayotte' 'Mongolia' 'Northern Cyprus' 'Serbia'\n",
            " 'Montenegro' 'Northern Mariana Islands' 'Comoros'\n",
            " 'Turks and Caicos Islands' 'South Sudan' 'Kosovo' 'East Timor' 'Tahiti'\n",
            " 'Myanmar']\n",
            "\n",
            "****************************************************************************\n",
            "\n",
            "neutral\n",
            "\n",
            "[False  True]\n",
            "\n",
            "****************************************************************************\n",
            "\n"
          ],
          "name": "stdout"
        }
      ]
    },
    {
      "cell_type": "code",
      "metadata": {
        "id": "UkIwnLe9BM5q",
        "colab": {
          "base_uri": "https://localhost:8080/",
          "height": 284
        },
        "outputId": "1f76874d-f473-404f-b6ae-f5937675767c"
      },
      "source": [
        "results.describe()"
      ],
      "execution_count": 279,
      "outputs": [
        {
          "output_type": "execute_result",
          "data": {
            "text/html": [
              "<div>\n",
              "<style scoped>\n",
              "    .dataframe tbody tr th:only-of-type {\n",
              "        vertical-align: middle;\n",
              "    }\n",
              "\n",
              "    .dataframe tbody tr th {\n",
              "        vertical-align: top;\n",
              "    }\n",
              "\n",
              "    .dataframe thead th {\n",
              "        text-align: right;\n",
              "    }\n",
              "</style>\n",
              "<table border=\"1\" class=\"dataframe\">\n",
              "  <thead>\n",
              "    <tr style=\"text-align: right;\">\n",
              "      <th></th>\n",
              "      <th>home_score</th>\n",
              "      <th>away_score</th>\n",
              "    </tr>\n",
              "  </thead>\n",
              "  <tbody>\n",
              "    <tr>\n",
              "      <th>count</th>\n",
              "      <td>40839.000000</td>\n",
              "      <td>40839.000000</td>\n",
              "    </tr>\n",
              "    <tr>\n",
              "      <th>mean</th>\n",
              "      <td>1.745709</td>\n",
              "      <td>1.188105</td>\n",
              "    </tr>\n",
              "    <tr>\n",
              "      <th>std</th>\n",
              "      <td>1.749145</td>\n",
              "      <td>1.405120</td>\n",
              "    </tr>\n",
              "    <tr>\n",
              "      <th>min</th>\n",
              "      <td>0.000000</td>\n",
              "      <td>0.000000</td>\n",
              "    </tr>\n",
              "    <tr>\n",
              "      <th>25%</th>\n",
              "      <td>1.000000</td>\n",
              "      <td>0.000000</td>\n",
              "    </tr>\n",
              "    <tr>\n",
              "      <th>50%</th>\n",
              "      <td>1.000000</td>\n",
              "      <td>1.000000</td>\n",
              "    </tr>\n",
              "    <tr>\n",
              "      <th>75%</th>\n",
              "      <td>2.000000</td>\n",
              "      <td>2.000000</td>\n",
              "    </tr>\n",
              "    <tr>\n",
              "      <th>max</th>\n",
              "      <td>31.000000</td>\n",
              "      <td>21.000000</td>\n",
              "    </tr>\n",
              "  </tbody>\n",
              "</table>\n",
              "</div>"
            ],
            "text/plain": [
              "         home_score    away_score\n",
              "count  40839.000000  40839.000000\n",
              "mean       1.745709      1.188105\n",
              "std        1.749145      1.405120\n",
              "min        0.000000      0.000000\n",
              "25%        1.000000      0.000000\n",
              "50%        1.000000      1.000000\n",
              "75%        2.000000      2.000000\n",
              "max       31.000000     21.000000"
            ]
          },
          "metadata": {
            "tags": []
          },
          "execution_count": 279
        }
      ]
    },
    {
      "cell_type": "markdown",
      "metadata": {
        "id": "FlBMxEDBUc9B"
      },
      "source": [
        "## \\ **Tidying the Dataset**\\"
      ]
    },
    {
      "cell_type": "markdown",
      "metadata": {
        "id": "w6qg6781F8v3"
      },
      "source": [
        "### First Dataset"
      ]
    },
    {
      "cell_type": "markdown",
      "metadata": {
        "id": "aIORnwoZS1yM"
      },
      "source": [
        "#### Missing Data"
      ]
    },
    {
      "cell_type": "code",
      "metadata": {
        "id": "PvCYb6dgW4yh",
        "colab": {
          "base_uri": "https://localhost:8080/"
        },
        "outputId": "df18b2b0-7e2d-4f18-a1b0-30d8bffc0d5b"
      },
      "source": [
        "# Identifying the Missing Data\n",
        "#\n",
        "fifa.isnull().sum()"
      ],
      "execution_count": 280,
      "outputs": [
        {
          "output_type": "execute_result",
          "data": {
            "text/plain": [
              "rank                       0\n",
              "country_full               0\n",
              "country_abrv               0\n",
              "total_points               0\n",
              "previous_points            0\n",
              "rank_change                0\n",
              "cur_year_avg               0\n",
              "cur_year_avg_weighted      0\n",
              "last_year_avg              0\n",
              "last_year_avg_weighted     0\n",
              "two_year_ago_avg           0\n",
              "two_year_ago_weighted      0\n",
              "three_year_ago_avg         0\n",
              "three_year_ago_weighted    0\n",
              "confederation              0\n",
              "rank_date                  0\n",
              "dtype: int64"
            ]
          },
          "metadata": {
            "tags": []
          },
          "execution_count": 280
        }
      ]
    },
    {
      "cell_type": "markdown",
      "metadata": {
        "id": "zNQptjX6S78g"
      },
      "source": [
        "#### Duplicate data"
      ]
    },
    {
      "cell_type": "code",
      "metadata": {
        "id": "3FAa6J5ESZrj",
        "colab": {
          "base_uri": "https://localhost:8080/"
        },
        "outputId": "5aada557-7c1b-487b-faac-203a181a69fc"
      },
      "source": [
        "fifa.duplicated().sum()"
      ],
      "execution_count": 281,
      "outputs": [
        {
          "output_type": "execute_result",
          "data": {
            "text/plain": [
              "37"
            ]
          },
          "metadata": {
            "tags": []
          },
          "execution_count": 281
        }
      ]
    },
    {
      "cell_type": "code",
      "metadata": {
        "id": "Fib_oJsoSi4N"
      },
      "source": [
        "fifa = fifa.drop_duplicates()"
      ],
      "execution_count": 282,
      "outputs": []
    },
    {
      "cell_type": "code",
      "metadata": {
        "id": "cmjOL6oWSrYV",
        "colab": {
          "base_uri": "https://localhost:8080/"
        },
        "outputId": "317ef8e0-973d-4506-a49a-700fe9dfddf9"
      },
      "source": [
        "fifa.duplicated().sum()"
      ],
      "execution_count": 283,
      "outputs": [
        {
          "output_type": "execute_result",
          "data": {
            "text/plain": [
              "0"
            ]
          },
          "metadata": {
            "tags": []
          },
          "execution_count": 283
        }
      ]
    },
    {
      "cell_type": "markdown",
      "metadata": {
        "id": "EFN28AoQG0k8"
      },
      "source": [
        "#### Drop coluns that are not need"
      ]
    },
    {
      "cell_type": "code",
      "metadata": {
        "id": "2r0V5-BHHCsv"
      },
      "source": [
        ""
      ],
      "execution_count": 283,
      "outputs": []
    },
    {
      "cell_type": "markdown",
      "metadata": {
        "id": "fI0Dr8IxTrU3"
      },
      "source": [
        "#### Outliers"
      ]
    },
    {
      "cell_type": "code",
      "metadata": {
        "id": "5o_bQcT5W3Wz",
        "colab": {
          "base_uri": "https://localhost:8080/",
          "height": 1000
        },
        "outputId": "60a2bcb5-c2fe-4f29-f1a7-4bee94e9ec96"
      },
      "source": [
        "# Checking for Outliers\n",
        "#\n",
        "numeric = fifa.drop(['rank', 'country_full', 'country_abrv', 'confederation', 'rank_date'],axis=1)\n",
        "\n",
        "columns = None\n",
        "columns = list(numeric.columns)\n",
        "\n",
        "fig, ax = plt.subplots(nrows=11, ncols=1, figsize=(10,30))  \n",
        "\n",
        "i = 0\n",
        "for column in columns:\n",
        "\n",
        "  sns.boxplot(x=fifa[column], ax=ax[i])\n",
        "  ax[i].set_title(f'Box plot of {column}', fontsize=20, pad=10 )\n",
        "  ax[i].set_xlabel(column, fontsize=15)\n",
        "  i+=1\n",
        "\n",
        "plt.tight_layout()\n",
        "plt.show()"
      ],
      "execution_count": 284,
      "outputs": [
        {
          "output_type": "display_data",
          "data": {
            "image/png": "[encoded data removed]",
            "text/plain": [
              "<Figure size 720x2160 with 11 Axes>"
            ]
          },
          "metadata": {
            "tags": []
          }
        }
      ]
    },
    {
      "cell_type": "code",
      "metadata": {
        "id": "aExK_myCfras",
        "colab": {
          "base_uri": "https://localhost:8080/"
        },
        "outputId": "42918118-3d16-4ccd-bec6-ac74c16b1f75"
      },
      "source": [
        "numeric = fifa.drop(['rank', 'country_full', 'country_abrv', 'confederation', 'rank_date'],axis=1)\n",
        "\n",
        "columns = None\n",
        "columns = list(numeric.columns)\n",
        "\n",
        "for column in columns:\n",
        "\n",
        "  max_threshold_fifa = fifa[column].quantile(0.95)\n",
        "  min_threshold_fifa = fifa[column].quantile(0.05)\n",
        "  df_1 = fifa[(fifa[column]<max_threshold_fifa) & (fifa[column]>min_threshold_fifa)]\n",
        "  num = fifa.shape[0]-df_1.shape[0]\n",
        "  print(f'{num} rows that are outliers in {column} \\n This is {\"{:.2f}\".format((num/(fifa.shape[0]))*100)}% percent approximately of {column} column')\n",
        "  print(' ')"
      ],
      "execution_count": 285,
      "outputs": [
        {
          "output_type": "stream",
          "text": [
            "43600 rows that are outliers in total_points \n",
            " This is 75.49% percent approximately of total_points column\n",
            " \n",
            "5989 rows that are outliers in previous_points \n",
            " This is 10.37% percent approximately of previous_points column\n",
            " \n",
            "6880 rows that are outliers in rank_change \n",
            " This is 11.91% percent approximately of rank_change column\n",
            " \n",
            "45405 rows that are outliers in cur_year_avg \n",
            " This is 78.62% percent approximately of cur_year_avg column\n",
            " \n",
            "45405 rows that are outliers in cur_year_avg_weighted \n",
            " This is 78.62% percent approximately of cur_year_avg_weighted column\n",
            " \n",
            "45522 rows that are outliers in last_year_avg \n",
            " This is 78.82% percent approximately of last_year_avg column\n",
            " \n",
            "45522 rows that are outliers in last_year_avg_weighted \n",
            " This is 78.82% percent approximately of last_year_avg_weighted column\n",
            " \n",
            "45771 rows that are outliers in two_year_ago_avg \n",
            " This is 79.25% percent approximately of two_year_ago_avg column\n",
            " \n",
            "45771 rows that are outliers in two_year_ago_weighted \n",
            " This is 79.25% percent approximately of two_year_ago_weighted column\n",
            " \n",
            "45816 rows that are outliers in three_year_ago_avg \n",
            " This is 79.33% percent approximately of three_year_ago_avg column\n",
            " \n",
            "45816 rows that are outliers in three_year_ago_weighted \n",
            " This is 79.33% percent approximately of three_year_ago_weighted column\n",
            " \n"
          ],
          "name": "stdout"
        }
      ]
    },
    {
      "cell_type": "markdown",
      "metadata": {
        "id": "dPW-tjQjbRLN"
      },
      "source": [
        "#### Changing data type \n"
      ]
    },
    {
      "cell_type": "code",
      "metadata": {
        "id": "X3QL7W-uVTAs"
      },
      "source": [
        "fifa['rank_date'] = pd.to_datetime(fifa['rank_date'], format=\"%Y/%m/%d\")"
      ],
      "execution_count": 286,
      "outputs": []
    },
    {
      "cell_type": "markdown",
      "metadata": {
        "id": "-F_uqUN3flRi"
      },
      "source": [
        "#### Adding the column year"
      ]
    },
    {
      "cell_type": "code",
      "metadata": {
        "id": "X061IPUCVsAX",
        "colab": {
          "base_uri": "https://localhost:8080/"
        },
        "outputId": "6082b9ae-d000-42f7-b563-7d330f9618c8"
      },
      "source": [
        "fifa['year'] = pd.DatetimeIndex(fifa['rank_date']).year\n",
        "print(fifa['year'].unique())"
      ],
      "execution_count": 287,
      "outputs": [
        {
          "output_type": "stream",
          "text": [
            "[1993 1994 1995 1996 1997 1998 1999 2000 2001 2002 2003 2004 2005 2006\n",
            " 2007 2008 2009 2010 2011 2012 2013 2014 2015 2016 2017 2018]\n"
          ],
          "name": "stdout"
        }
      ]
    },
    {
      "cell_type": "markdown",
      "metadata": {
        "id": "LwBswFKht6jX"
      },
      "source": [
        "#### Adding the column month_year"
      ]
    },
    {
      "cell_type": "code",
      "metadata": {
        "id": "N2xhEgjnt6jq",
        "colab": {
          "base_uri": "https://localhost:8080/"
        },
        "outputId": "1de8f786-854a-4db9-fe3f-a13640f80cd3"
      },
      "source": [
        "fifa['month_year'] = fifa['rank_date'].dt.to_period('M')\n",
        "print(fifa['month_year'].unique())"
      ],
      "execution_count": 288,
      "outputs": [
        {
          "output_type": "stream",
          "text": [
            "<PeriodArray>\n",
            "['1993-08', '1993-09', '1993-10', '1993-11', '1993-12', '1994-02', '1994-03',\n",
            " '1994-04', '1994-05', '1994-06',\n",
            " ...\n",
            " '2017-09', '2017-10', '2017-11', '2017-12', '2018-01', '2018-02', '2018-03',\n",
            " '2018-04', '2018-05', '2018-06']\n",
            "Length: 285, dtype: period[M]\n"
          ],
          "name": "stdout"
        }
      ]
    },
    {
      "cell_type": "markdown",
      "metadata": {
        "id": "vEsD8MjLv0ic"
      },
      "source": [
        "#### Adding the column day"
      ]
    },
    {
      "cell_type": "code",
      "metadata": {
        "id": "c8CoPYHRu37O",
        "colab": {
          "base_uri": "https://localhost:8080/"
        },
        "outputId": "19cbb7fb-97f3-4b46-9cc5-8624036911b7"
      },
      "source": [
        "fifa['day'] = fifa['rank_date'].dt.day\n",
        "print(fifa['day'].unique())"
      ],
      "execution_count": 289,
      "outputs": [
        {
          "output_type": "stream",
          "text": [
            "[ 8 23 22 19 15 17 14 21 13 25 20 16 24  3 28 18 27  9 12 10  7  5  6 11\n",
            " 26 30  4  1  2 31 29]\n"
          ],
          "name": "stdout"
        }
      ]
    },
    {
      "cell_type": "markdown",
      "metadata": {
        "id": "4PeCWtTxfvhf"
      },
      "source": [
        "#### Adding the column month"
      ]
    },
    {
      "cell_type": "code",
      "metadata": {
        "id": "9to7NNMGVwwz",
        "colab": {
          "base_uri": "https://localhost:8080/"
        },
        "outputId": "2a4b42c2-55e4-4c92-ac63-162f092286a7"
      },
      "source": [
        "fifa['month_number'] = pd.DatetimeIndex(fifa['rank_date']).month\n",
        "fifa['month_name'] = pd.DatetimeIndex(fifa['rank_date']).month\n",
        "a = list(fifa['month_number'].unique())\n",
        "b = sorted(a)\n",
        "print(b)"
      ],
      "execution_count": 290,
      "outputs": [
        {
          "output_type": "stream",
          "text": [
            "[1, 2, 3, 4, 5, 6, 7, 8, 9, 10, 11, 12]\n"
          ],
          "name": "stdout"
        }
      ]
    },
    {
      "cell_type": "code",
      "metadata": {
        "id": "63YDyA6fXDjD",
        "colab": {
          "base_uri": "https://localhost:8080/"
        },
        "outputId": "e1015a6a-58f6-4143-8a57-cf4a19a3defa"
      },
      "source": [
        "fifa['month_name'].replace({1:'January',\n",
        "                       2:'February', \n",
        "                       3:'March',\n",
        "                       4:'April', \n",
        "                       5:'May',\n",
        "                       6:'June', \n",
        "                       7:'July',\n",
        "                       8:'August', \n",
        "                       9:'September', \n",
        "                       10:'October', \n",
        "                       11:'November', \n",
        "                       12:'December'}, inplace=True)\n",
        "print(fifa['month_name'].unique())"
      ],
      "execution_count": 291,
      "outputs": [
        {
          "output_type": "stream",
          "text": [
            "['August' 'September' 'October' 'November' 'December' 'February' 'March'\n",
            " 'April' 'May' 'June' 'July' 'January']\n"
          ],
          "name": "stdout"
        }
      ]
    },
    {
      "cell_type": "markdown",
      "metadata": {
        "id": "9lIaJqUXu0NR"
      },
      "source": [
        "#### Changing the title"
      ]
    },
    {
      "cell_type": "code",
      "metadata": {
        "id": "AFY1uT1FvAC-"
      },
      "source": [
        "fifa = fifa.rename(columns={'rank_date': 'date'})"
      ],
      "execution_count": 292,
      "outputs": []
    },
    {
      "cell_type": "code",
      "metadata": {
        "id": "JZAPXDHHvmbp",
        "colab": {
          "base_uri": "https://localhost:8080/"
        },
        "outputId": "afbfa685-583b-4e13-8367-cc6275605ff8"
      },
      "source": [
        "fifa.columns"
      ],
      "execution_count": 293,
      "outputs": [
        {
          "output_type": "execute_result",
          "data": {
            "text/plain": [
              "Index(['rank', 'country_full', 'country_abrv', 'total_points',\n",
              "       'previous_points', 'rank_change', 'cur_year_avg',\n",
              "       'cur_year_avg_weighted', 'last_year_avg', 'last_year_avg_weighted',\n",
              "       'two_year_ago_avg', 'two_year_ago_weighted', 'three_year_ago_avg',\n",
              "       'three_year_ago_weighted', 'confederation', 'date', 'year',\n",
              "       'month_year', 'day', 'month_number', 'month_name'],\n",
              "      dtype='object')"
            ]
          },
          "metadata": {
            "tags": []
          },
          "execution_count": 293
        }
      ]
    },
    {
      "cell_type": "code",
      "metadata": {
        "id": "TnIV_h1y1LN5",
        "colab": {
          "base_uri": "https://localhost:8080/",
          "height": 763
        },
        "outputId": "556114eb-c134-4639-c9da-a2f19ca5ac1a"
      },
      "source": [
        "# fifa[(fifa['country_full']=='Norway') & (fifa['year']==1993) & (fifa['confederation']=='UEFA')].sort_values(by=\"date\", ascending=False)\n",
        "fifa[(fifa['country_full']=='Norway') & (fifa['year']<=1994) & (fifa['confederation']=='UEFA')].sort_values(by=\"date\", ascending=False)"
      ],
      "execution_count": 294,
      "outputs": [
        {
          "output_type": "execute_result",
          "data": {
            "text/html": [
              "<div>\n",
              "<style scoped>\n",
              "    .dataframe tbody tr th:only-of-type {\n",
              "        vertical-align: middle;\n",
              "    }\n",
              "\n",
              "    .dataframe tbody tr th {\n",
              "        vertical-align: top;\n",
              "    }\n",
              "\n",
              "    .dataframe thead th {\n",
              "        text-align: right;\n",
              "    }\n",
              "</style>\n",
              "<table border=\"1\" class=\"dataframe\">\n",
              "  <thead>\n",
              "    <tr style=\"text-align: right;\">\n",
              "      <th></th>\n",
              "      <th>rank</th>\n",
              "      <th>country_full</th>\n",
              "      <th>country_abrv</th>\n",
              "      <th>total_points</th>\n",
              "      <th>previous_points</th>\n",
              "      <th>rank_change</th>\n",
              "      <th>cur_year_avg</th>\n",
              "      <th>cur_year_avg_weighted</th>\n",
              "      <th>last_year_avg</th>\n",
              "      <th>last_year_avg_weighted</th>\n",
              "      <th>two_year_ago_avg</th>\n",
              "      <th>two_year_ago_weighted</th>\n",
              "      <th>three_year_ago_avg</th>\n",
              "      <th>three_year_ago_weighted</th>\n",
              "      <th>confederation</th>\n",
              "      <th>date</th>\n",
              "      <th>year</th>\n",
              "      <th>month_year</th>\n",
              "      <th>day</th>\n",
              "      <th>month_number</th>\n",
              "      <th>month_name</th>\n",
              "    </tr>\n",
              "  </thead>\n",
              "  <tbody>\n",
              "    <tr>\n",
              "      <th>2392</th>\n",
              "      <td>8</td>\n",
              "      <td>Norway</td>\n",
              "      <td>NOR</td>\n",
              "      <td>0.0</td>\n",
              "      <td>57</td>\n",
              "      <td>2</td>\n",
              "      <td>0.0</td>\n",
              "      <td>0.0</td>\n",
              "      <td>0.0</td>\n",
              "      <td>0.0</td>\n",
              "      <td>0.0</td>\n",
              "      <td>0.0</td>\n",
              "      <td>0.0</td>\n",
              "      <td>0.0</td>\n",
              "      <td>UEFA</td>\n",
              "      <td>1994-12-20</td>\n",
              "      <td>1994</td>\n",
              "      <td>1994-12</td>\n",
              "      <td>20</td>\n",
              "      <td>12</td>\n",
              "      <td>December</td>\n",
              "    </tr>\n",
              "    <tr>\n",
              "      <th>2216</th>\n",
              "      <td>10</td>\n",
              "      <td>Norway</td>\n",
              "      <td>NOR</td>\n",
              "      <td>0.0</td>\n",
              "      <td>55</td>\n",
              "      <td>0</td>\n",
              "      <td>0.0</td>\n",
              "      <td>0.0</td>\n",
              "      <td>0.0</td>\n",
              "      <td>0.0</td>\n",
              "      <td>0.0</td>\n",
              "      <td>0.0</td>\n",
              "      <td>0.0</td>\n",
              "      <td>0.0</td>\n",
              "      <td>UEFA</td>\n",
              "      <td>1994-11-22</td>\n",
              "      <td>1994</td>\n",
              "      <td>1994-11</td>\n",
              "      <td>22</td>\n",
              "      <td>11</td>\n",
              "      <td>November</td>\n",
              "    </tr>\n",
              "    <tr>\n",
              "      <th>2041</th>\n",
              "      <td>10</td>\n",
              "      <td>Norway</td>\n",
              "      <td>NOR</td>\n",
              "      <td>0.0</td>\n",
              "      <td>57</td>\n",
              "      <td>-2</td>\n",
              "      <td>0.0</td>\n",
              "      <td>0.0</td>\n",
              "      <td>0.0</td>\n",
              "      <td>0.0</td>\n",
              "      <td>0.0</td>\n",
              "      <td>0.0</td>\n",
              "      <td>0.0</td>\n",
              "      <td>0.0</td>\n",
              "      <td>UEFA</td>\n",
              "      <td>1994-10-25</td>\n",
              "      <td>1994</td>\n",
              "      <td>1994-10</td>\n",
              "      <td>25</td>\n",
              "      <td>10</td>\n",
              "      <td>October</td>\n",
              "    </tr>\n",
              "    <tr>\n",
              "      <th>1866</th>\n",
              "      <td>8</td>\n",
              "      <td>Norway</td>\n",
              "      <td>NOR</td>\n",
              "      <td>0.0</td>\n",
              "      <td>57</td>\n",
              "      <td>0</td>\n",
              "      <td>0.0</td>\n",
              "      <td>0.0</td>\n",
              "      <td>0.0</td>\n",
              "      <td>0.0</td>\n",
              "      <td>0.0</td>\n",
              "      <td>0.0</td>\n",
              "      <td>0.0</td>\n",
              "      <td>0.0</td>\n",
              "      <td>UEFA</td>\n",
              "      <td>1994-09-13</td>\n",
              "      <td>1994</td>\n",
              "      <td>1994-09</td>\n",
              "      <td>13</td>\n",
              "      <td>9</td>\n",
              "      <td>September</td>\n",
              "    </tr>\n",
              "    <tr>\n",
              "      <th>1693</th>\n",
              "      <td>8</td>\n",
              "      <td>Norway</td>\n",
              "      <td>NOR</td>\n",
              "      <td>0.0</td>\n",
              "      <td>55</td>\n",
              "      <td>-2</td>\n",
              "      <td>0.0</td>\n",
              "      <td>0.0</td>\n",
              "      <td>0.0</td>\n",
              "      <td>0.0</td>\n",
              "      <td>0.0</td>\n",
              "      <td>0.0</td>\n",
              "      <td>0.0</td>\n",
              "      <td>0.0</td>\n",
              "      <td>UEFA</td>\n",
              "      <td>1994-07-21</td>\n",
              "      <td>1994</td>\n",
              "      <td>1994-07</td>\n",
              "      <td>21</td>\n",
              "      <td>7</td>\n",
              "      <td>July</td>\n",
              "    </tr>\n",
              "    <tr>\n",
              "      <th>1518</th>\n",
              "      <td>6</td>\n",
              "      <td>Norway</td>\n",
              "      <td>NOR</td>\n",
              "      <td>0.0</td>\n",
              "      <td>56</td>\n",
              "      <td>-2</td>\n",
              "      <td>0.0</td>\n",
              "      <td>0.0</td>\n",
              "      <td>0.0</td>\n",
              "      <td>0.0</td>\n",
              "      <td>0.0</td>\n",
              "      <td>0.0</td>\n",
              "      <td>0.0</td>\n",
              "      <td>0.0</td>\n",
              "      <td>UEFA</td>\n",
              "      <td>1994-06-14</td>\n",
              "      <td>1994</td>\n",
              "      <td>1994-06</td>\n",
              "      <td>14</td>\n",
              "      <td>6</td>\n",
              "      <td>June</td>\n",
              "    </tr>\n",
              "    <tr>\n",
              "      <th>1345</th>\n",
              "      <td>4</td>\n",
              "      <td>Norway</td>\n",
              "      <td>NOR</td>\n",
              "      <td>0.0</td>\n",
              "      <td>57</td>\n",
              "      <td>-1</td>\n",
              "      <td>0.0</td>\n",
              "      <td>0.0</td>\n",
              "      <td>0.0</td>\n",
              "      <td>0.0</td>\n",
              "      <td>0.0</td>\n",
              "      <td>0.0</td>\n",
              "      <td>0.0</td>\n",
              "      <td>0.0</td>\n",
              "      <td>UEFA</td>\n",
              "      <td>1994-05-17</td>\n",
              "      <td>1994</td>\n",
              "      <td>1994-05</td>\n",
              "      <td>17</td>\n",
              "      <td>5</td>\n",
              "      <td>May</td>\n",
              "    </tr>\n",
              "    <tr>\n",
              "      <th>1175</th>\n",
              "      <td>3</td>\n",
              "      <td>Norway</td>\n",
              "      <td>NOR</td>\n",
              "      <td>0.0</td>\n",
              "      <td>58</td>\n",
              "      <td>0</td>\n",
              "      <td>0.0</td>\n",
              "      <td>0.0</td>\n",
              "      <td>0.0</td>\n",
              "      <td>0.0</td>\n",
              "      <td>0.0</td>\n",
              "      <td>0.0</td>\n",
              "      <td>0.0</td>\n",
              "      <td>0.0</td>\n",
              "      <td>UEFA</td>\n",
              "      <td>1994-04-19</td>\n",
              "      <td>1994</td>\n",
              "      <td>1994-04</td>\n",
              "      <td>19</td>\n",
              "      <td>4</td>\n",
              "      <td>April</td>\n",
              "    </tr>\n",
              "    <tr>\n",
              "      <th>1006</th>\n",
              "      <td>3</td>\n",
              "      <td>Norway</td>\n",
              "      <td>NOR</td>\n",
              "      <td>0.0</td>\n",
              "      <td>56</td>\n",
              "      <td>2</td>\n",
              "      <td>0.0</td>\n",
              "      <td>0.0</td>\n",
              "      <td>0.0</td>\n",
              "      <td>0.0</td>\n",
              "      <td>0.0</td>\n",
              "      <td>0.0</td>\n",
              "      <td>0.0</td>\n",
              "      <td>0.0</td>\n",
              "      <td>UEFA</td>\n",
              "      <td>1994-03-15</td>\n",
              "      <td>1994</td>\n",
              "      <td>1994-03</td>\n",
              "      <td>15</td>\n",
              "      <td>3</td>\n",
              "      <td>March</td>\n",
              "    </tr>\n",
              "    <tr>\n",
              "      <th>841</th>\n",
              "      <td>5</td>\n",
              "      <td>Norway</td>\n",
              "      <td>NOR</td>\n",
              "      <td>0.0</td>\n",
              "      <td>57</td>\n",
              "      <td>-1</td>\n",
              "      <td>0.0</td>\n",
              "      <td>0.0</td>\n",
              "      <td>0.0</td>\n",
              "      <td>0.0</td>\n",
              "      <td>0.0</td>\n",
              "      <td>0.0</td>\n",
              "      <td>0.0</td>\n",
              "      <td>0.0</td>\n",
              "      <td>UEFA</td>\n",
              "      <td>1994-02-15</td>\n",
              "      <td>1994</td>\n",
              "      <td>1994-02</td>\n",
              "      <td>15</td>\n",
              "      <td>2</td>\n",
              "      <td>February</td>\n",
              "    </tr>\n",
              "    <tr>\n",
              "      <th>672</th>\n",
              "      <td>4</td>\n",
              "      <td>Norway</td>\n",
              "      <td>NOR</td>\n",
              "      <td>0.0</td>\n",
              "      <td>57</td>\n",
              "      <td>1</td>\n",
              "      <td>0.0</td>\n",
              "      <td>0.0</td>\n",
              "      <td>0.0</td>\n",
              "      <td>0.0</td>\n",
              "      <td>0.0</td>\n",
              "      <td>0.0</td>\n",
              "      <td>0.0</td>\n",
              "      <td>0.0</td>\n",
              "      <td>UEFA</td>\n",
              "      <td>1993-12-23</td>\n",
              "      <td>1993</td>\n",
              "      <td>1993-12</td>\n",
              "      <td>23</td>\n",
              "      <td>12</td>\n",
              "      <td>December</td>\n",
              "    </tr>\n",
              "    <tr>\n",
              "      <th>505</th>\n",
              "      <td>5</td>\n",
              "      <td>Norway</td>\n",
              "      <td>NOR</td>\n",
              "      <td>0.0</td>\n",
              "      <td>58</td>\n",
              "      <td>-3</td>\n",
              "      <td>0.0</td>\n",
              "      <td>0.0</td>\n",
              "      <td>0.0</td>\n",
              "      <td>0.0</td>\n",
              "      <td>0.0</td>\n",
              "      <td>0.0</td>\n",
              "      <td>0.0</td>\n",
              "      <td>0.0</td>\n",
              "      <td>UEFA</td>\n",
              "      <td>1993-11-19</td>\n",
              "      <td>1993</td>\n",
              "      <td>1993-11</td>\n",
              "      <td>19</td>\n",
              "      <td>11</td>\n",
              "      <td>November</td>\n",
              "    </tr>\n",
              "    <tr>\n",
              "      <th>335</th>\n",
              "      <td>2</td>\n",
              "      <td>Norway</td>\n",
              "      <td>NOR</td>\n",
              "      <td>0.0</td>\n",
              "      <td>56</td>\n",
              "      <td>1</td>\n",
              "      <td>0.0</td>\n",
              "      <td>0.0</td>\n",
              "      <td>0.0</td>\n",
              "      <td>0.0</td>\n",
              "      <td>0.0</td>\n",
              "      <td>0.0</td>\n",
              "      <td>0.0</td>\n",
              "      <td>0.0</td>\n",
              "      <td>UEFA</td>\n",
              "      <td>1993-10-22</td>\n",
              "      <td>1993</td>\n",
              "      <td>1993-10</td>\n",
              "      <td>22</td>\n",
              "      <td>10</td>\n",
              "      <td>October</td>\n",
              "    </tr>\n",
              "    <tr>\n",
              "      <th>169</th>\n",
              "      <td>3</td>\n",
              "      <td>Norway</td>\n",
              "      <td>NOR</td>\n",
              "      <td>0.0</td>\n",
              "      <td>54</td>\n",
              "      <td>6</td>\n",
              "      <td>0.0</td>\n",
              "      <td>0.0</td>\n",
              "      <td>0.0</td>\n",
              "      <td>0.0</td>\n",
              "      <td>0.0</td>\n",
              "      <td>0.0</td>\n",
              "      <td>0.0</td>\n",
              "      <td>0.0</td>\n",
              "      <td>UEFA</td>\n",
              "      <td>1993-09-23</td>\n",
              "      <td>1993</td>\n",
              "      <td>1993-09</td>\n",
              "      <td>23</td>\n",
              "      <td>9</td>\n",
              "      <td>September</td>\n",
              "    </tr>\n",
              "    <tr>\n",
              "      <th>8</th>\n",
              "      <td>9</td>\n",
              "      <td>Norway</td>\n",
              "      <td>NOR</td>\n",
              "      <td>0.0</td>\n",
              "      <td>49</td>\n",
              "      <td>5</td>\n",
              "      <td>0.0</td>\n",
              "      <td>0.0</td>\n",
              "      <td>0.0</td>\n",
              "      <td>0.0</td>\n",
              "      <td>0.0</td>\n",
              "      <td>0.0</td>\n",
              "      <td>0.0</td>\n",
              "      <td>0.0</td>\n",
              "      <td>UEFA</td>\n",
              "      <td>1993-08-08</td>\n",
              "      <td>1993</td>\n",
              "      <td>1993-08</td>\n",
              "      <td>8</td>\n",
              "      <td>8</td>\n",
              "      <td>August</td>\n",
              "    </tr>\n",
              "  </tbody>\n",
              "</table>\n",
              "</div>"
            ],
            "text/plain": [
              "      rank country_full country_abrv  ...  day  month_number  month_name\n",
              "2392     8       Norway          NOR  ...   20            12    December\n",
              "2216    10       Norway          NOR  ...   22            11    November\n",
              "2041    10       Norway          NOR  ...   25            10     October\n",
              "1866     8       Norway          NOR  ...   13             9   September\n",
              "1693     8       Norway          NOR  ...   21             7        July\n",
              "1518     6       Norway          NOR  ...   14             6        June\n",
              "1345     4       Norway          NOR  ...   17             5         May\n",
              "1175     3       Norway          NOR  ...   19             4       April\n",
              "1006     3       Norway          NOR  ...   15             3       March\n",
              "841      5       Norway          NOR  ...   15             2    February\n",
              "672      4       Norway          NOR  ...   23            12    December\n",
              "505      5       Norway          NOR  ...   19            11    November\n",
              "335      2       Norway          NOR  ...   22            10     October\n",
              "169      3       Norway          NOR  ...   23             9   September\n",
              "8        9       Norway          NOR  ...    8             8      August\n",
              "\n",
              "[15 rows x 21 columns]"
            ]
          },
          "metadata": {
            "tags": []
          },
          "execution_count": 294
        }
      ]
    },
    {
      "cell_type": "code",
      "metadata": {
        "id": "iFU45NYNBh3s"
      },
      "source": [
        "# for i, row in fifa.iterrows():\n",
        "#   year =  fifa.loc[i,'year']\n",
        "#   country = fifa.loc[i,'country_full']\n",
        "#   confederation = fifa.loc[i,'confederation']\n",
        "  # the_record = fifa[(fifa['country_full']==country) & (fifa['year']==year) & (fifa['confederation']==confederation)].sort_values(by=\"date\", ascending=False).head(1)\n",
        "  # a = the_record['rank']\n",
        "  # the_rank = a.iloc[0]\n",
        "  # if the_rank == fifa.loc[i,'rank']:\n",
        "  #   continue\n",
        "  # fifa.loc[i,'rank'] = the_rank"
      ],
      "execution_count": 295,
      "outputs": []
    },
    {
      "cell_type": "code",
      "metadata": {
        "id": "Ye7UZEZoQKwm"
      },
      "source": [
        "# fifa[(fifa['country_full']=='Norway') & (fifa['year']==year) & (fifa['confederation']=='UEFA')].sort_values(by=\"date\", ascending=False)"
      ],
      "execution_count": 296,
      "outputs": []
    },
    {
      "cell_type": "markdown",
      "metadata": {
        "id": "ImZXyHjYGCma"
      },
      "source": [
        "### Second Dataset"
      ]
    },
    {
      "cell_type": "markdown",
      "metadata": {
        "id": "slLxy3SjbKLb"
      },
      "source": [
        "#### Missing Data"
      ]
    },
    {
      "cell_type": "code",
      "metadata": {
        "id": "dvfJiLXtbKLe",
        "colab": {
          "base_uri": "https://localhost:8080/"
        },
        "outputId": "f5252406-82d3-43fd-c764-71ecd1abe04b"
      },
      "source": [
        "# Identifying the Missing Data\n",
        "#\n",
        "results.isnull().sum()"
      ],
      "execution_count": 297,
      "outputs": [
        {
          "output_type": "execute_result",
          "data": {
            "text/plain": [
              "date          0\n",
              "home_team     0\n",
              "away_team     0\n",
              "home_score    0\n",
              "away_score    0\n",
              "tournament    0\n",
              "city          0\n",
              "country       0\n",
              "neutral       0\n",
              "dtype: int64"
            ]
          },
          "metadata": {
            "tags": []
          },
          "execution_count": 297
        }
      ]
    },
    {
      "cell_type": "markdown",
      "metadata": {
        "id": "vEeNUU2HbDww"
      },
      "source": [
        "#### Duplicate data"
      ]
    },
    {
      "cell_type": "code",
      "metadata": {
        "id": "-wlfDg_SbDw4",
        "colab": {
          "base_uri": "https://localhost:8080/"
        },
        "outputId": "b6fbd52f-8923-457a-ab21-76f8c5b0097d"
      },
      "source": [
        "results.duplicated().any()"
      ],
      "execution_count": 298,
      "outputs": [
        {
          "output_type": "execute_result",
          "data": {
            "text/plain": [
              "False"
            ]
          },
          "metadata": {
            "tags": []
          },
          "execution_count": 298
        }
      ]
    },
    {
      "cell_type": "markdown",
      "metadata": {
        "id": "M3Mf1KKgHRg0"
      },
      "source": [
        "#### Drop columns"
      ]
    },
    {
      "cell_type": "code",
      "metadata": {
        "id": "wboOkYPiHRg1",
        "colab": {
          "base_uri": "https://localhost:8080/",
          "height": 299
        },
        "outputId": "85deec44-d879-4e15-fa82-73fcd4b0edf7"
      },
      "source": [
        "results.head()"
      ],
      "execution_count": 299,
      "outputs": [
        {
          "output_type": "execute_result",
          "data": {
            "text/html": [
              "<div>\n",
              "<style scoped>\n",
              "    .dataframe tbody tr th:only-of-type {\n",
              "        vertical-align: middle;\n",
              "    }\n",
              "\n",
              "    .dataframe tbody tr th {\n",
              "        vertical-align: top;\n",
              "    }\n",
              "\n",
              "    .dataframe thead th {\n",
              "        text-align: right;\n",
              "    }\n",
              "</style>\n",
              "<table border=\"1\" class=\"dataframe\">\n",
              "  <thead>\n",
              "    <tr style=\"text-align: right;\">\n",
              "      <th></th>\n",
              "      <th>date</th>\n",
              "      <th>home_team</th>\n",
              "      <th>away_team</th>\n",
              "      <th>home_score</th>\n",
              "      <th>away_score</th>\n",
              "      <th>tournament</th>\n",
              "      <th>city</th>\n",
              "      <th>country</th>\n",
              "      <th>neutral</th>\n",
              "    </tr>\n",
              "  </thead>\n",
              "  <tbody>\n",
              "    <tr>\n",
              "      <th>0</th>\n",
              "      <td>1872-11-30</td>\n",
              "      <td>Scotland</td>\n",
              "      <td>England</td>\n",
              "      <td>0</td>\n",
              "      <td>0</td>\n",
              "      <td>Friendly</td>\n",
              "      <td>Glasgow</td>\n",
              "      <td>Scotland</td>\n",
              "      <td>False</td>\n",
              "    </tr>\n",
              "    <tr>\n",
              "      <th>1</th>\n",
              "      <td>1873-03-08</td>\n",
              "      <td>England</td>\n",
              "      <td>Scotland</td>\n",
              "      <td>4</td>\n",
              "      <td>2</td>\n",
              "      <td>Friendly</td>\n",
              "      <td>London</td>\n",
              "      <td>England</td>\n",
              "      <td>False</td>\n",
              "    </tr>\n",
              "    <tr>\n",
              "      <th>2</th>\n",
              "      <td>1874-03-07</td>\n",
              "      <td>Scotland</td>\n",
              "      <td>England</td>\n",
              "      <td>2</td>\n",
              "      <td>1</td>\n",
              "      <td>Friendly</td>\n",
              "      <td>Glasgow</td>\n",
              "      <td>Scotland</td>\n",
              "      <td>False</td>\n",
              "    </tr>\n",
              "    <tr>\n",
              "      <th>3</th>\n",
              "      <td>1875-03-06</td>\n",
              "      <td>England</td>\n",
              "      <td>Scotland</td>\n",
              "      <td>2</td>\n",
              "      <td>2</td>\n",
              "      <td>Friendly</td>\n",
              "      <td>London</td>\n",
              "      <td>England</td>\n",
              "      <td>False</td>\n",
              "    </tr>\n",
              "    <tr>\n",
              "      <th>4</th>\n",
              "      <td>1876-03-04</td>\n",
              "      <td>Scotland</td>\n",
              "      <td>England</td>\n",
              "      <td>3</td>\n",
              "      <td>0</td>\n",
              "      <td>Friendly</td>\n",
              "      <td>Glasgow</td>\n",
              "      <td>Scotland</td>\n",
              "      <td>False</td>\n",
              "    </tr>\n",
              "  </tbody>\n",
              "</table>\n",
              "</div>"
            ],
            "text/plain": [
              "         date home_team away_team  ...     city   country neutral\n",
              "0  1872-11-30  Scotland   England  ...  Glasgow  Scotland   False\n",
              "1  1873-03-08   England  Scotland  ...   London   England   False\n",
              "2  1874-03-07  Scotland   England  ...  Glasgow  Scotland   False\n",
              "3  1875-03-06   England  Scotland  ...   London   England   False\n",
              "4  1876-03-04  Scotland   England  ...  Glasgow  Scotland   False\n",
              "\n",
              "[5 rows x 9 columns]"
            ]
          },
          "metadata": {
            "tags": []
          },
          "execution_count": 299
        }
      ]
    },
    {
      "cell_type": "markdown",
      "metadata": {
        "id": "cBgiMe2Mb4wp"
      },
      "source": [
        "#### Outliers"
      ]
    },
    {
      "cell_type": "code",
      "metadata": {
        "id": "HL5dXPZub4wt",
        "colab": {
          "base_uri": "https://localhost:8080/",
          "height": 235
        },
        "outputId": "bf179491-1498-4fe4-e1f4-5cab0d8d44b1"
      },
      "source": [
        "# Checking for Outliers\n",
        "#\n",
        "numeric = results[['away_score', 'home_score']]\n",
        "\n",
        "columns = None\n",
        "columns = list(numeric.columns)\n",
        "\n",
        "fig, ax = plt.subplots(nrows=1, ncols=2, figsize=(15,5))  \n",
        "\n",
        "i = 0\n",
        "for column in columns:\n",
        "\n",
        "  sns.boxplot(x=results[column], ax=ax[i])\n",
        "  ax[i].set_title(f'Box plot of {column}', fontsize=20, pad=10 )\n",
        "  ax[i].set_xlabel(column, fontsize=15)\n",
        "  i+=1\n",
        "\n",
        "plt.tight_layout()\n",
        "plt.show()"
      ],
      "execution_count": 300,
      "outputs": [
        {
          "output_type": "display_data",
          "data": {
            "image/png": "[encoded data removed]",
            "text/plain": [
              "<Figure size 1080x360 with 2 Axes>"
            ]
          },
          "metadata": {
            "tags": []
          }
        }
      ]
    },
    {
      "cell_type": "code",
      "metadata": {
        "id": "deOsQEWOnsmD",
        "colab": {
          "base_uri": "https://localhost:8080/"
        },
        "outputId": "033888ee-e62a-4070-9f8b-cacf3bd05a4c"
      },
      "source": [
        "numeric = results[['away_score', 'home_score']]\n",
        "\n",
        "columns = None\n",
        "columns = list(numeric.columns)\n",
        "\n",
        "for column in columns:\n",
        "\n",
        "  max_threshold_r = results[column].quantile(0.95)\n",
        "  min_threshold_r = results[column].quantile(0.05)\n",
        "  df_1 = results[(results[column]<max_threshold_r) & (results[column]>min_threshold_r)]\n",
        "  num = results.shape[0]-df_1.shape[0]\n",
        "  print(f'{num} rows that are outliers in {column} \\n This is {\"{:.2f}\".format((num/(results.shape[0]))*100)}% percent approximately of {column} column')\n",
        "  print(' ')"
      ],
      "execution_count": 301,
      "outputs": [
        {
          "output_type": "stream",
          "text": [
            "17498 rows that are outliers in away_score \n",
            " This is 42.85% percent approximately of away_score column\n",
            " \n",
            "12447 rows that are outliers in home_score \n",
            " This is 30.48% percent approximately of home_score column\n",
            " \n"
          ],
          "name": "stdout"
        }
      ]
    },
    {
      "cell_type": "markdown",
      "metadata": {
        "id": "-2xbWQbNe7Mi"
      },
      "source": [
        "#### Changing data type \n"
      ]
    },
    {
      "cell_type": "code",
      "metadata": {
        "id": "_jhYN7URe7Mo"
      },
      "source": [
        "results['date'] = pd.to_datetime(results['date'], format=\"%Y/%m/%d\")"
      ],
      "execution_count": 302,
      "outputs": []
    },
    {
      "cell_type": "markdown",
      "metadata": {
        "id": "VdHPl7gsgFBD"
      },
      "source": [
        "#### Adding the column month_year"
      ]
    },
    {
      "cell_type": "code",
      "metadata": {
        "id": "m8rHh13ve7M4",
        "colab": {
          "base_uri": "https://localhost:8080/"
        },
        "outputId": "024635e5-8fbc-40bd-aeec-03eac8db5201"
      },
      "source": [
        "results['month_year'] = results['date'].dt.to_period('M')\n",
        "print(results['month_year'].unique())"
      ],
      "execution_count": 303,
      "outputs": [
        {
          "output_type": "stream",
          "text": [
            "<PeriodArray>\n",
            "['1872-11', '1873-03', '1874-03', '1875-03', '1876-03', '1877-03', '1878-03',\n",
            " '1879-01', '1879-04', '1880-03',\n",
            " ...\n",
            " '2018-10', '2018-11', '2018-12', '2019-01', '2019-02', '2019-03', '2019-04',\n",
            " '2019-05', '2019-06', '2019-07']\n",
            "Length: 1393, dtype: period[M]\n"
          ],
          "name": "stdout"
        }
      ]
    },
    {
      "cell_type": "markdown",
      "metadata": {
        "id": "bzFewUqDv_ts"
      },
      "source": [
        "#### Adding the column day"
      ]
    },
    {
      "cell_type": "code",
      "metadata": {
        "id": "6OS4pgDZv_ty",
        "colab": {
          "base_uri": "https://localhost:8080/"
        },
        "outputId": "366efb3c-42ad-4397-e80f-6032a40946a2"
      },
      "source": [
        "results['day'] = results['date'].dt.day\n",
        "print(results['day'].unique())"
      ],
      "execution_count": 304,
      "outputs": [
        {
          "output_type": "stream",
          "text": [
            "[30  8  7  6  4 25  3  5  2 23 18 13 15 27 26 12 14 11 24 10 17  9 29 28\n",
            " 21 20 19 22  1 31 16]\n"
          ],
          "name": "stdout"
        }
      ]
    },
    {
      "cell_type": "markdown",
      "metadata": {
        "id": "HbHE63ZQgJLt"
      },
      "source": [
        "#### Adding the column month"
      ]
    },
    {
      "cell_type": "code",
      "metadata": {
        "id": "JAFL0ZLue7NJ",
        "colab": {
          "base_uri": "https://localhost:8080/"
        },
        "outputId": "e0eb241c-0883-4c74-9bf5-7dd25745b331"
      },
      "source": [
        "results['month_number'] = pd.DatetimeIndex(results['date']).month\n",
        "results['month_name'] = pd.DatetimeIndex(results['date']).month\n",
        "a = list(results['month_number'].unique())\n",
        "b = sorted(a)\n",
        "print(b)"
      ],
      "execution_count": 305,
      "outputs": [
        {
          "output_type": "stream",
          "text": [
            "[1, 2, 3, 4, 5, 6, 7, 8, 9, 10, 11, 12]\n"
          ],
          "name": "stdout"
        }
      ]
    },
    {
      "cell_type": "code",
      "metadata": {
        "id": "FmTyBsoge7NQ",
        "colab": {
          "base_uri": "https://localhost:8080/"
        },
        "outputId": "18b10592-df75-455b-9934-8000e3a8093d"
      },
      "source": [
        "results['month_name'].replace({1:'January',\n",
        "                       2:'February', \n",
        "                       3:'March',\n",
        "                       4:'April', \n",
        "                       5:'May',\n",
        "                       6:'June', \n",
        "                       7:'July',\n",
        "                       8:'August', \n",
        "                       9:'September', \n",
        "                       10:'October', \n",
        "                       11:'November', \n",
        "                       12:'December'}, inplace=True)\n",
        "print(results['month_name'].unique())"
      ],
      "execution_count": 306,
      "outputs": [
        {
          "output_type": "stream",
          "text": [
            "['November' 'March' 'January' 'April' 'February' 'September' 'May' 'July'\n",
            " 'October' 'June' 'August' 'December']\n"
          ],
          "name": "stdout"
        }
      ]
    },
    {
      "cell_type": "code",
      "metadata": {
        "id": "iMlZJluROxaY",
        "colab": {
          "base_uri": "https://localhost:8080/"
        },
        "outputId": "bd48199e-2218-419f-f183-f87269be3ed3"
      },
      "source": [
        "for i,row in results.iterrows():\n",
        "  a = results.loc[i, 'tournament']\n",
        "  b = a.lower()\n",
        "  if ('world cup' in b)==True:\n",
        "    results.loc[i, 'tournament'] = 'World cup'\n",
        "  elif (('friendly' in b)==True):\n",
        "    pass\n",
        "  else:\n",
        "    results.loc[i, 'tournament'] = 'Other'\n",
        "results['tournament'].unique()"
      ],
      "execution_count": 307,
      "outputs": [
        {
          "output_type": "execute_result",
          "data": {
            "text/plain": [
              "array(['Friendly', 'Other', 'World cup'], dtype=object)"
            ]
          },
          "metadata": {
            "tags": []
          },
          "execution_count": 307
        }
      ]
    },
    {
      "cell_type": "code",
      "metadata": {
        "id": "EJou4yKIVdgf",
        "colab": {
          "base_uri": "https://localhost:8080/"
        },
        "outputId": "d3446061-f658-4078-b39e-3d8acc212483"
      },
      "source": [
        "for i,row in results.iterrows():\n",
        "  home = results.loc[i, 'home_score']\n",
        "  away = results.loc[i, 'away_score']\n",
        "  if (home > away):\n",
        "    results.loc[i, 'status'] = 'Win'\n",
        "  elif (home < away):\n",
        "    results.loc[i, 'status'] = 'Lose'\n",
        "  else:\n",
        "    results.loc[i, 'status'] = 'Draw'\n",
        "results['status'].unique()"
      ],
      "execution_count": 308,
      "outputs": [
        {
          "output_type": "execute_result",
          "data": {
            "text/plain": [
              "array(['Draw', 'Win', 'Lose'], dtype=object)"
            ]
          },
          "metadata": {
            "tags": []
          },
          "execution_count": 308
        }
      ]
    },
    {
      "cell_type": "markdown",
      "metadata": {
        "id": "rF2ABPsHUtbZ"
      },
      "source": [
        "## \\ **Exploratory Analysis**\\"
      ]
    },
    {
      "cell_type": "markdown",
      "metadata": {
        "id": "LhRDcYEVjjwr"
      },
      "source": [
        "### Univariate(for fifa dataset)"
      ]
    },
    {
      "cell_type": "code",
      "metadata": {
        "id": "MxsrZL-bwOku",
        "colab": {
          "base_uri": "https://localhost:8080/",
          "height": 0
        },
        "outputId": "6a140be1-7fa7-45dd-d717-66ac6205819a"
      },
      "source": [
        "fifa['confederation'].value_counts().plot(kind='bar')"
      ],
      "execution_count": 309,
      "outputs": [
        {
          "output_type": "execute_result",
          "data": {
            "text/plain": [
              "<matplotlib.axes._subplots.AxesSubplot at 0x7f55dcd03a58>"
            ]
          },
          "metadata": {
            "tags": []
          },
          "execution_count": 309
        },
        {
          "output_type": "display_data",
          "data": {
            "image/png": "[encoded data removed]",
            "text/plain": [
              "<Figure size 432x288 with 1 Axes>"
            ]
          },
          "metadata": {
            "tags": []
          }
        }
      ]
    },
    {
      "cell_type": "markdown",
      "metadata": {
        "id": "DDfLi7F_kmG7"
      },
      "source": [
        "> Most of the matches play come from UEFA and CAF."
      ]
    },
    {
      "cell_type": "code",
      "metadata": {
        "id": "XsNKnjT2mk3u",
        "colab": {
          "base_uri": "https://localhost:8080/",
          "height": 0
        },
        "outputId": "83157781-441e-49de-a06a-c1d7df44b516"
      },
      "source": [
        "rank = fifa['total_points']\n",
        "plt.hist(rank, bins=5, histtype='bar')\n",
        "\n",
        "plt.ylabel('total_points')\n",
        "plt.title('Histogram of total_points')\n",
        "plt.show()"
      ],
      "execution_count": 310,
      "outputs": [
        {
          "output_type": "display_data",
          "data": {
            "image/png": "[encoded data removed]",
            "text/plain": [
              "<Figure size 432x288 with 1 Axes>"
            ]
          },
          "metadata": {
            "tags": []
          }
        }
      ]
    },
    {
      "cell_type": "markdown",
      "metadata": {
        "id": "Fvlmri-u8xW-"
      },
      "source": [
        "#### Central Tendency"
      ]
    },
    {
      "cell_type": "code",
      "metadata": {
        "id": "YyJ0eDzNoJ-j",
        "colab": {
          "base_uri": "https://localhost:8080/"
        },
        "outputId": "68416354-681c-438b-a118-d7f9bcd26f86"
      },
      "source": [
        "fifa.columns"
      ],
      "execution_count": 311,
      "outputs": [
        {
          "output_type": "execute_result",
          "data": {
            "text/plain": [
              "Index(['rank', 'country_full', 'country_abrv', 'total_points',\n",
              "       'previous_points', 'rank_change', 'cur_year_avg',\n",
              "       'cur_year_avg_weighted', 'last_year_avg', 'last_year_avg_weighted',\n",
              "       'two_year_ago_avg', 'two_year_ago_weighted', 'three_year_ago_avg',\n",
              "       'three_year_ago_weighted', 'confederation', 'date', 'year',\n",
              "       'month_year', 'day', 'month_number', 'month_name'],\n",
              "      dtype='object')"
            ]
          },
          "metadata": {
            "tags": []
          },
          "execution_count": 311
        }
      ]
    },
    {
      "cell_type": "code",
      "metadata": {
        "id": "cP-WWh_moRAd"
      },
      "source": [
        "numeric = fifa.drop(['country_full', 'country_abrv', 'confederation', 'date', 'month_name', 'month_year'],axis=1)\n",
        "col = list(numeric.columns)"
      ],
      "execution_count": 312,
      "outputs": []
    },
    {
      "cell_type": "code",
      "metadata": {
        "id": "4LAlDuAz0481",
        "colab": {
          "base_uri": "https://localhost:8080/"
        },
        "outputId": "f9b1f52c-a065-4ac2-eac9-a9cca27af25c"
      },
      "source": [
        "col"
      ],
      "execution_count": 313,
      "outputs": [
        {
          "output_type": "execute_result",
          "data": {
            "text/plain": [
              "['rank',\n",
              " 'total_points',\n",
              " 'previous_points',\n",
              " 'rank_change',\n",
              " 'cur_year_avg',\n",
              " 'cur_year_avg_weighted',\n",
              " 'last_year_avg',\n",
              " 'last_year_avg_weighted',\n",
              " 'two_year_ago_avg',\n",
              " 'two_year_ago_weighted',\n",
              " 'three_year_ago_avg',\n",
              " 'three_year_ago_weighted',\n",
              " 'year',\n",
              " 'day',\n",
              " 'month_number']"
            ]
          },
          "metadata": {
            "tags": []
          },
          "execution_count": 313
        }
      ]
    },
    {
      "cell_type": "markdown",
      "metadata": {
        "id": "BGOBdLr-97wX"
      },
      "source": [
        "##### mean"
      ]
    },
    {
      "cell_type": "code",
      "metadata": {
        "id": "wxEJHFVxwnHM",
        "colab": {
          "base_uri": "https://localhost:8080/"
        },
        "outputId": "5a163f4e-cde6-412a-fb86-9147069c261d"
      },
      "source": [
        "for i in col:\n",
        "  mean = fifa[i].mean()\n",
        "  print(f'This is the mean of the {i} column: ')\n",
        "  print(f'{mean}')\n",
        "  print('  ')"
      ],
      "execution_count": 314,
      "outputs": [
        {
          "output_type": "stream",
          "text": [
            "This is the mean of the rank column: \n",
            "101.61811759817162\n",
            "  \n",
            "This is the mean of the total_points column: \n",
            "121.97115104924205\n",
            "  \n",
            "This is the mean of the previous_points column: \n",
            "332.33996467899436\n",
            "  \n",
            "This is the mean of the rank_change column: \n",
            "-0.0099383613823672\n",
            "  \n",
            "This is the mean of the cur_year_avg column: \n",
            "61.7513624558485\n",
            "  \n",
            "This is the mean of the cur_year_avg_weighted column: \n",
            "61.7513624558485\n",
            "  \n",
            "This is the mean of the last_year_avg column: \n",
            "60.953507341228374\n",
            "  \n",
            "This is the mean of the last_year_avg_weighted column: \n",
            "30.476829766604226\n",
            "  \n",
            "This is the mean of the two_year_ago_avg column: \n",
            "59.734768335757124\n",
            "  \n",
            "This is the mean of the two_year_ago_weighted column: \n",
            "17.92046938846179\n",
            "  \n",
            "This is the mean of the three_year_ago_avg column: \n",
            "59.114466375787316\n",
            "  \n",
            "This is the mean of the three_year_ago_weighted column: \n",
            "11.822921601219143\n",
            "  \n",
            "This is the mean of the year column: \n",
            "2006.1730209848326\n",
            "  \n",
            "This is the mean of the day column: \n",
            "15.018301128887042\n",
            "  \n",
            "This is the mean of the month_number column: \n",
            "6.608213865226124\n",
            "  \n"
          ],
          "name": "stdout"
        }
      ]
    },
    {
      "cell_type": "markdown",
      "metadata": {
        "id": "DMQ9S8Ec9_wg"
      },
      "source": [
        "##### median"
      ]
    },
    {
      "cell_type": "code",
      "metadata": {
        "id": "FR5tm2hNwoFx",
        "colab": {
          "base_uri": "https://localhost:8080/"
        },
        "outputId": "68b09101-d90e-417a-fc6e-a3ccc5127737"
      },
      "source": [
        "for i in col:\n",
        "  median = fifa[i].median()\n",
        "  print(f'This is the median of the {i} column: ')\n",
        "  print(f'{median}')\n",
        "  print('  ')"
      ],
      "execution_count": 315,
      "outputs": [
        {
          "output_type": "stream",
          "text": [
            "This is the median of the rank column: \n",
            "101.0\n",
            "  \n",
            "This is the median of the total_points column: \n",
            "0.0\n",
            "  \n",
            "This is the median of the previous_points column: \n",
            "272.0\n",
            "  \n",
            "This is the median of the rank_change column: \n",
            "0.0\n",
            "  \n",
            "This is the median of the cur_year_avg column: \n",
            "0.0\n",
            "  \n",
            "This is the median of the cur_year_avg_weighted column: \n",
            "0.0\n",
            "  \n",
            "This is the median of the last_year_avg column: \n",
            "0.0\n",
            "  \n",
            "This is the median of the last_year_avg_weighted column: \n",
            "0.0\n",
            "  \n",
            "This is the median of the two_year_ago_avg column: \n",
            "0.0\n",
            "  \n",
            "This is the median of the two_year_ago_weighted column: \n",
            "0.0\n",
            "  \n",
            "This is the median of the three_year_ago_avg column: \n",
            "0.0\n",
            "  \n",
            "This is the median of the three_year_ago_weighted column: \n",
            "0.0\n",
            "  \n",
            "This is the median of the year column: \n",
            "2006.0\n",
            "  \n",
            "This is the median of the day column: \n",
            "16.0\n",
            "  \n",
            "This is the median of the month_number column: \n",
            "7.0\n",
            "  \n"
          ],
          "name": "stdout"
        }
      ]
    },
    {
      "cell_type": "markdown",
      "metadata": {
        "id": "BmiChdbe-B9X"
      },
      "source": [
        "##### mode"
      ]
    },
    {
      "cell_type": "code",
      "metadata": {
        "id": "04rC8jlLwpA-",
        "colab": {
          "base_uri": "https://localhost:8080/"
        },
        "outputId": "e5c32522-4302-46d0-f844-cd3332eef432"
      },
      "source": [
        "mod = fifa.drop(['country_abrv', 'total_points',\n",
        "       'previous_points', 'rank_change', 'cur_year_avg',\n",
        "       'cur_year_avg_weighted', 'last_year_avg', 'last_year_avg_weighted',\n",
        "       'two_year_ago_avg', 'two_year_ago_weighted', 'three_year_ago_avg',\n",
        "       'three_year_ago_weighted', 'date', 'year', 'day',\n",
        "       'month_number','month_year'],axis=1)\n",
        "col = list(mod.columns)\n",
        "for i in col:\n",
        "  mode = fifa[i].mode()[0]\n",
        "  print(f'This is the mode of the {i} column: ')\n",
        "  print(f'{mode}')\n",
        "  print('  ')"
      ],
      "execution_count": 316,
      "outputs": [
        {
          "output_type": "stream",
          "text": [
            "This is the mode of the rank column: \n",
            "147\n",
            "  \n",
            "This is the mode of the country_full column: \n",
            "Sudan\n",
            "  \n",
            "This is the mode of the confederation column: \n",
            "UEFA\n",
            "  \n",
            "This is the mode of the month_name column: \n",
            "May\n",
            "  \n"
          ],
          "name": "stdout"
        }
      ]
    },
    {
      "cell_type": "markdown",
      "metadata": {
        "id": "fNjRHsl98xFI"
      },
      "source": [
        "#### Dispersion"
      ]
    },
    {
      "cell_type": "markdown",
      "metadata": {
        "id": "QllYvE1qFWMq"
      },
      "source": [
        "##### Standard Deviation"
      ]
    },
    {
      "cell_type": "code",
      "metadata": {
        "id": "qm2VQCECwp0h",
        "colab": {
          "base_uri": "https://localhost:8080/"
        },
        "outputId": "51806684-54d8-431d-9831-2add69f327f0"
      },
      "source": [
        "numeric = fifa.drop(['country_full', 'country_abrv', 'confederation', 'date', 'month_name', 'month_year'],axis=1)\n",
        "col = list(numeric.columns)\n",
        "\n",
        "for i in col:\n",
        "  mode = fifa[i].std()\n",
        "  print(f'This is the Standard Deviation of the {i} column: ')\n",
        "  print(f'{mode}')\n",
        "  print('  ')"
      ],
      "execution_count": 317,
      "outputs": [
        {
          "output_type": "stream",
          "text": [
            "This is the Standard Deviation of the rank column: \n",
            "58.6350962126357\n",
            "  \n",
            "This is the Standard Deviation of the total_points column: \n",
            "260.4791908256627\n",
            "  \n",
            "This is the Standard Deviation of the previous_points column: \n",
            "302.96417559526026\n",
            "  \n",
            "This is the Standard Deviation of the rank_change column: \n",
            "5.802787706913632\n",
            "  \n",
            "This is the Standard Deviation of the cur_year_avg column: \n",
            "138.04200646327516\n",
            "  \n",
            "This is the Standard Deviation of the cur_year_avg_weighted column: \n",
            "138.04200646327516\n",
            "  \n",
            "This is the Standard Deviation of the last_year_avg column: \n",
            "137.71294461767638\n",
            "  \n",
            "This is the Standard Deviation of the last_year_avg_weighted column: \n",
            "68.8565136251929\n",
            "  \n",
            "This is the Standard Deviation of the two_year_ago_avg column: \n",
            "136.3191193341892\n",
            "  \n",
            "This is the Standard Deviation of the two_year_ago_weighted column: \n",
            "40.895761005541885\n",
            "  \n",
            "This is the Standard Deviation of the three_year_ago_avg column: \n",
            "135.54013469372137\n",
            "  \n",
            "This is the Standard Deviation of the three_year_ago_weighted column: \n",
            "27.10803383836724\n",
            "  \n",
            "This is the Standard Deviation of the year column: \n",
            "7.032679079671111\n",
            "  \n",
            "This is the Standard Deviation of the day column: \n",
            "6.676158783897767\n",
            "  \n",
            "This is the Standard Deviation of the month_number column: \n",
            "3.4461630163085717\n",
            "  \n"
          ],
          "name": "stdout"
        }
      ]
    },
    {
      "cell_type": "markdown",
      "metadata": {
        "id": "6Se4D4T0FXnd"
      },
      "source": [
        "##### Variance"
      ]
    },
    {
      "cell_type": "code",
      "metadata": {
        "id": "hMJfpnyPwqUZ",
        "colab": {
          "base_uri": "https://localhost:8080/"
        },
        "outputId": "0450459d-27f3-4c9e-de74-85b367c07837"
      },
      "source": [
        "for i in col:\n",
        "  variance = fifa[i].var()\n",
        "  print(f'This is the variance of the {i} column: ')\n",
        "  print(f'{variance}')\n",
        "  print('  ')"
      ],
      "execution_count": 318,
      "outputs": [
        {
          "output_type": "stream",
          "text": [
            "This is the variance of the rank column: \n",
            "3438.0745078650457\n",
            "  \n",
            "This is the variance of the total_points column: \n",
            "67849.40885319203\n",
            "  \n",
            "This is the variance of the previous_points column: \n",
            "91787.2916941157\n",
            "  \n",
            "This is the variance of the rank_change column: \n",
            "33.67234517150797\n",
            "  \n",
            "This is the variance of the cur_year_avg column: \n",
            "19055.5955484069\n",
            "  \n",
            "This is the variance of the cur_year_avg_weighted column: \n",
            "19055.5955484069\n",
            "  \n",
            "This is the variance of the last_year_avg column: \n",
            "18964.855115271206\n",
            "  \n",
            "This is the variance of the last_year_avg_weighted column: \n",
            "4741.219468616377\n",
            "  \n",
            "This is the variance of the two_year_ago_avg column: \n",
            "18582.902296048913\n",
            "  \n",
            "This is the variance of the two_year_ago_weighted column: \n",
            "1672.4632682224005\n",
            "  \n",
            "This is the variance of the three_year_ago_avg column: \n",
            "18371.12811279213\n",
            "  \n",
            "This is the variance of the three_year_ago_weighted column: \n",
            "734.8454985820633\n",
            "  \n",
            "This is the variance of the year column: \n",
            "49.45857503764371\n",
            "  \n",
            "This is the variance of the day column: \n",
            "44.571096107815315\n",
            "  \n",
            "This is the variance of the month_number column: \n",
            "11.876039534972994\n",
            "  \n"
          ],
          "name": "stdout"
        }
      ]
    },
    {
      "cell_type": "markdown",
      "metadata": {
        "id": "5sVD-HznxFkc"
      },
      "source": [
        "##### Maximum"
      ]
    },
    {
      "cell_type": "code",
      "metadata": {
        "id": "J9VSMXHRxYy0",
        "colab": {
          "base_uri": "https://localhost:8080/"
        },
        "outputId": "86888502-a0e0-4d73-bec6-25f0d5c6ca1d"
      },
      "source": [
        "for i in col:\n",
        "  max = fifa[i].max()\n",
        "  print(f'This is the largest value in the {i} column: ')\n",
        "  print(f'{max}')\n",
        "  print('  ')"
      ],
      "execution_count": 319,
      "outputs": [
        {
          "output_type": "stream",
          "text": [
            "This is the largest value in the rank column: \n",
            "209\n",
            "  \n",
            "This is the largest value in the total_points column: \n",
            "1775.03\n",
            "  \n",
            "This is the largest value in the previous_points column: \n",
            "1920\n",
            "  \n",
            "This is the largest value in the rank_change column: \n",
            "92\n",
            "  \n",
            "This is the largest value in the cur_year_avg column: \n",
            "1158.66\n",
            "  \n",
            "This is the largest value in the cur_year_avg_weighted column: \n",
            "1158.66\n",
            "  \n",
            "This is the largest value in the last_year_avg column: \n",
            "1169.57\n",
            "  \n",
            "This is the largest value in the last_year_avg_weighted column: \n",
            "584.79\n",
            "  \n",
            "This is the largest value in the two_year_ago_avg column: \n",
            "1159.71\n",
            "  \n",
            "This is the largest value in the two_year_ago_weighted column: \n",
            "347.91\n",
            "  \n",
            "This is the largest value in the three_year_ago_avg column: \n",
            "1200.77\n",
            "  \n",
            "This is the largest value in the three_year_ago_weighted column: \n",
            "240.15\n",
            "  \n",
            "This is the largest value in the year column: \n",
            "2018\n",
            "  \n",
            "This is the largest value in the day column: \n",
            "31\n",
            "  \n",
            "This is the largest value in the month_number column: \n",
            "12\n",
            "  \n"
          ],
          "name": "stdout"
        }
      ]
    },
    {
      "cell_type": "markdown",
      "metadata": {
        "id": "1w7sw5l7xTiy"
      },
      "source": [
        "##### Minimum"
      ]
    },
    {
      "cell_type": "code",
      "metadata": {
        "id": "tnly8ptixML8",
        "colab": {
          "base_uri": "https://localhost:8080/"
        },
        "outputId": "9ab97a6a-9794-4572-cd1e-6f72c406339e"
      },
      "source": [
        "for i in col:\n",
        "  min = fifa[i].min()\n",
        "  print(f'This is the small value in the {i} column: ')\n",
        "  print(f'{min}')\n",
        "  print('  ')"
      ],
      "execution_count": 320,
      "outputs": [
        {
          "output_type": "stream",
          "text": [
            "This is the small value in the rank column: \n",
            "1\n",
            "  \n",
            "This is the small value in the total_points column: \n",
            "0.0\n",
            "  \n",
            "This is the small value in the previous_points column: \n",
            "0\n",
            "  \n",
            "This is the small value in the rank_change column: \n",
            "-72\n",
            "  \n",
            "This is the small value in the cur_year_avg column: \n",
            "0.0\n",
            "  \n",
            "This is the small value in the cur_year_avg_weighted column: \n",
            "0.0\n",
            "  \n",
            "This is the small value in the last_year_avg column: \n",
            "0.0\n",
            "  \n",
            "This is the small value in the last_year_avg_weighted column: \n",
            "0.0\n",
            "  \n",
            "This is the small value in the two_year_ago_avg column: \n",
            "0.0\n",
            "  \n",
            "This is the small value in the two_year_ago_weighted column: \n",
            "0.0\n",
            "  \n",
            "This is the small value in the three_year_ago_avg column: \n",
            "0.0\n",
            "  \n",
            "This is the small value in the three_year_ago_weighted column: \n",
            "0.0\n",
            "  \n",
            "This is the small value in the year column: \n",
            "1993\n",
            "  \n",
            "This is the small value in the day column: \n",
            "1\n",
            "  \n",
            "This is the small value in the month_number column: \n",
            "1\n",
            "  \n"
          ],
          "name": "stdout"
        }
      ]
    },
    {
      "cell_type": "markdown",
      "metadata": {
        "id": "slLGTp1MFfns"
      },
      "source": [
        "##### Range"
      ]
    },
    {
      "cell_type": "code",
      "metadata": {
        "id": "Bvtijd4MwrGZ",
        "colab": {
          "base_uri": "https://localhost:8080/"
        },
        "outputId": "ad2eef0a-892e-40d7-a035-9f6918ee29c9"
      },
      "source": [
        "for i in col:\n",
        "  max = fifa[i].max()\n",
        "  min = fifa[i].min()\n",
        "  range = max - min\n",
        "  print(f'This is the range of the {i} column: ')\n",
        "  print(f'{range}')\n",
        "  print('  ')"
      ],
      "execution_count": 321,
      "outputs": [
        {
          "output_type": "stream",
          "text": [
            "This is the range of the rank column: \n",
            "208\n",
            "  \n",
            "This is the range of the total_points column: \n",
            "1775.03\n",
            "  \n",
            "This is the range of the previous_points column: \n",
            "1920\n",
            "  \n",
            "This is the range of the rank_change column: \n",
            "164\n",
            "  \n",
            "This is the range of the cur_year_avg column: \n",
            "1158.66\n",
            "  \n",
            "This is the range of the cur_year_avg_weighted column: \n",
            "1158.66\n",
            "  \n",
            "This is the range of the last_year_avg column: \n",
            "1169.57\n",
            "  \n",
            "This is the range of the last_year_avg_weighted column: \n",
            "584.79\n",
            "  \n",
            "This is the range of the two_year_ago_avg column: \n",
            "1159.71\n",
            "  \n",
            "This is the range of the two_year_ago_weighted column: \n",
            "347.91\n",
            "  \n",
            "This is the range of the three_year_ago_avg column: \n",
            "1200.77\n",
            "  \n",
            "This is the range of the three_year_ago_weighted column: \n",
            "240.15\n",
            "  \n",
            "This is the range of the year column: \n",
            "25\n",
            "  \n",
            "This is the range of the day column: \n",
            "30\n",
            "  \n",
            "This is the range of the month_number column: \n",
            "11\n",
            "  \n"
          ],
          "name": "stdout"
        }
      ]
    },
    {
      "cell_type": "markdown",
      "metadata": {
        "id": "wz0ahV6JFjTP"
      },
      "source": [
        "##### Quantiles"
      ]
    },
    {
      "cell_type": "markdown",
      "metadata": {
        "id": "viL6UCqcxj0h"
      },
      "source": [
        "###### First Quantile"
      ]
    },
    {
      "cell_type": "code",
      "metadata": {
        "id": "aaMRmV2jx2pL",
        "colab": {
          "base_uri": "https://localhost:8080/"
        },
        "outputId": "ee58e144-cabc-48e6-83e7-8baf5a953cc8"
      },
      "source": [
        "for i in col:\n",
        "  first_quantile = fifa[i].quantile(0.25)\n",
        "  print(f'This is the first quantile of the {i} column: ')\n",
        "  print(f'{first_quantile}')\n",
        "  print('  ')"
      ],
      "execution_count": 322,
      "outputs": [
        {
          "output_type": "stream",
          "text": [
            "This is the first quantile of the rank column: \n",
            "51.0\n",
            "  \n",
            "This is the first quantile of the total_points column: \n",
            "0.0\n",
            "  \n",
            "This is the first quantile of the previous_points column: \n",
            "56.0\n",
            "  \n",
            "This is the first quantile of the rank_change column: \n",
            "-2.0\n",
            "  \n",
            "This is the first quantile of the cur_year_avg column: \n",
            "0.0\n",
            "  \n",
            "This is the first quantile of the cur_year_avg_weighted column: \n",
            "0.0\n",
            "  \n",
            "This is the first quantile of the last_year_avg column: \n",
            "0.0\n",
            "  \n",
            "This is the first quantile of the last_year_avg_weighted column: \n",
            "0.0\n",
            "  \n",
            "This is the first quantile of the two_year_ago_avg column: \n",
            "0.0\n",
            "  \n",
            "This is the first quantile of the two_year_ago_weighted column: \n",
            "0.0\n",
            "  \n",
            "This is the first quantile of the three_year_ago_avg column: \n",
            "0.0\n",
            "  \n",
            "This is the first quantile of the three_year_ago_weighted column: \n",
            "0.0\n",
            "  \n",
            "This is the first quantile of the year column: \n",
            "2000.0\n",
            "  \n",
            "This is the first quantile of the day column: \n",
            "10.0\n",
            "  \n",
            "This is the first quantile of the month_number column: \n",
            "4.0\n",
            "  \n"
          ],
          "name": "stdout"
        }
      ]
    },
    {
      "cell_type": "markdown",
      "metadata": {
        "id": "Mqg_C9t3xq2n"
      },
      "source": [
        "###### Second Quantile"
      ]
    },
    {
      "cell_type": "code",
      "metadata": {
        "id": "chmzgKarx3Jp",
        "colab": {
          "base_uri": "https://localhost:8080/"
        },
        "outputId": "399e8088-f044-4e33-ea3f-ce1aa1e246b1"
      },
      "source": [
        "for i in col:\n",
        "  second_quantile = fifa[i].quantile(0.5)\n",
        "  print(f'This is the second quantile of the {i} column: ')\n",
        "  print(f'{second_quantile}')\n",
        "  print('  ')"
      ],
      "execution_count": 323,
      "outputs": [
        {
          "output_type": "stream",
          "text": [
            "This is the second quantile of the rank column: \n",
            "101.0\n",
            "  \n",
            "This is the second quantile of the total_points column: \n",
            "0.0\n",
            "  \n",
            "This is the second quantile of the previous_points column: \n",
            "272.0\n",
            "  \n",
            "This is the second quantile of the rank_change column: \n",
            "0.0\n",
            "  \n",
            "This is the second quantile of the cur_year_avg column: \n",
            "0.0\n",
            "  \n",
            "This is the second quantile of the cur_year_avg_weighted column: \n",
            "0.0\n",
            "  \n",
            "This is the second quantile of the last_year_avg column: \n",
            "0.0\n",
            "  \n",
            "This is the second quantile of the last_year_avg_weighted column: \n",
            "0.0\n",
            "  \n",
            "This is the second quantile of the two_year_ago_avg column: \n",
            "0.0\n",
            "  \n",
            "This is the second quantile of the two_year_ago_weighted column: \n",
            "0.0\n",
            "  \n",
            "This is the second quantile of the three_year_ago_avg column: \n",
            "0.0\n",
            "  \n",
            "This is the second quantile of the three_year_ago_weighted column: \n",
            "0.0\n",
            "  \n",
            "This is the second quantile of the year column: \n",
            "2006.0\n",
            "  \n",
            "This is the second quantile of the day column: \n",
            "16.0\n",
            "  \n",
            "This is the second quantile of the month_number column: \n",
            "7.0\n",
            "  \n"
          ],
          "name": "stdout"
        }
      ]
    },
    {
      "cell_type": "markdown",
      "metadata": {
        "id": "jSapeXtUxwSp"
      },
      "source": [
        "###### Third Quantile"
      ]
    },
    {
      "cell_type": "code",
      "metadata": {
        "id": "LSAQ6JAEx31c",
        "colab": {
          "base_uri": "https://localhost:8080/"
        },
        "outputId": "a0ec32ab-bc47-4e33-b9cc-585d28870b1d"
      },
      "source": [
        "for i in col:\n",
        "  third_quantile = fifa[i].quantile(0.75)\n",
        "  print(f'This is the third quantile of the {i} column: ')\n",
        "  print(f'{third_quantile}')\n",
        "  print('  ')"
      ],
      "execution_count": 324,
      "outputs": [
        {
          "output_type": "stream",
          "text": [
            "This is the third quantile of the rank column: \n",
            "152.0\n",
            "  \n",
            "This is the third quantile of the total_points column: \n",
            "91.5\n",
            "  \n",
            "This is the third quantile of the previous_points column: \n",
            "525.0\n",
            "  \n",
            "This is the third quantile of the rank_change column: \n",
            "1.0\n",
            "  \n",
            "This is the third quantile of the cur_year_avg column: \n",
            "30.4475\n",
            "  \n",
            "This is the third quantile of the cur_year_avg_weighted column: \n",
            "30.4475\n",
            "  \n",
            "This is the third quantile of the last_year_avg column: \n",
            "26.4\n",
            "  \n",
            "This is the third quantile of the last_year_avg_weighted column: \n",
            "13.2\n",
            "  \n",
            "This is the third quantile of the two_year_ago_avg column: \n",
            "21.25\n",
            "  \n",
            "This is the third quantile of the two_year_ago_weighted column: \n",
            "6.38\n",
            "  \n",
            "This is the third quantile of the three_year_ago_avg column: \n",
            "20.795\n",
            "  \n",
            "This is the third quantile of the three_year_ago_weighted column: \n",
            "4.1625\n",
            "  \n",
            "This is the third quantile of the year column: \n",
            "2012.0\n",
            "  \n",
            "This is the third quantile of the day column: \n",
            "20.0\n",
            "  \n",
            "This is the third quantile of the month_number column: \n",
            "10.0\n",
            "  \n"
          ],
          "name": "stdout"
        }
      ]
    },
    {
      "cell_type": "markdown",
      "metadata": {
        "id": "VJ2iuAQsBGOs"
      },
      "source": [
        "#### Descriptions of the distribution curve"
      ]
    },
    {
      "cell_type": "markdown",
      "metadata": {
        "id": "KnWcMw9EFxoR"
      },
      "source": [
        "##### Skewness"
      ]
    },
    {
      "cell_type": "code",
      "metadata": {
        "id": "B8E_8R0IAOvb",
        "colab": {
          "base_uri": "https://localhost:8080/"
        },
        "outputId": "da65aca8-8e55-472c-9dd5-82087a0c3e49"
      },
      "source": [
        "for i in col:\n",
        "  skewness = fifa[i].skew()\n",
        "  print(f'This is the skewness of the {i} column: ')\n",
        "  print(f'{skewness}')\n",
        "  print('  ')"
      ],
      "execution_count": 325,
      "outputs": [
        {
          "output_type": "stream",
          "text": [
            "This is the skewness of the rank column: \n",
            "0.018697560304961978\n",
            "  \n",
            "This is the skewness of the total_points column: \n",
            "2.588628658130345\n",
            "  \n",
            "This is the skewness of the previous_points column: \n",
            "1.0976209078436039\n",
            "  \n",
            "This is the skewness of the rank_change column: \n",
            "1.2387472729578097\n",
            "  \n",
            "This is the skewness of the cur_year_avg column: \n",
            "2.7847173066306636\n",
            "  \n",
            "This is the skewness of the cur_year_avg_weighted column: \n",
            "2.7847173066306636\n",
            "  \n",
            "This is the skewness of the last_year_avg column: \n",
            "2.8826204517315164\n",
            "  \n",
            "This is the skewness of the last_year_avg_weighted column: \n",
            "2.882613017243387\n",
            "  \n",
            "This is the skewness of the two_year_ago_avg column: \n",
            "2.881021528682775\n",
            "  \n",
            "This is the skewness of the two_year_ago_weighted column: \n",
            "2.8810175657716393\n",
            "  \n",
            "This is the skewness of the three_year_ago_avg column: \n",
            "2.9119344417489983\n",
            "  \n",
            "This is the skewness of the three_year_ago_weighted column: \n",
            "2.91192631008562\n",
            "  \n",
            "This is the skewness of the year column: \n",
            "-0.08381950107331076\n",
            "  \n",
            "This is the skewness of the day column: \n",
            "-0.21758830012423908\n",
            "  \n",
            "This is the skewness of the month_number column: \n",
            "-0.023166594889826326\n",
            "  \n"
          ],
          "name": "stdout"
        }
      ]
    },
    {
      "cell_type": "markdown",
      "metadata": {
        "id": "AoH27vsBF3hG"
      },
      "source": [
        "##### Kurtosis"
      ]
    },
    {
      "cell_type": "code",
      "metadata": {
        "id": "4Eh8xlSt_ncJ",
        "colab": {
          "base_uri": "https://localhost:8080/"
        },
        "outputId": "41440ec2-61d1-4183-845d-3b87182ff2eb"
      },
      "source": [
        "for i in col:\n",
        "  kurtosis = fifa[i].kurt()\n",
        "  print(f'This is the kurtosis of the {i} column: ')\n",
        "  print(f'{kurtosis}')\n",
        "  print('  ')"
      ],
      "execution_count": 326,
      "outputs": [
        {
          "output_type": "stream",
          "text": [
            "This is the kurtosis of the rank column: \n",
            "-1.1804205541924453\n",
            "  \n",
            "This is the kurtosis of the total_points column: \n",
            "6.895419571032518\n",
            "  \n",
            "This is the kurtosis of the previous_points column: \n",
            "1.3069816192284835\n",
            "  \n",
            "This is the kurtosis of the rank_change column: \n",
            "19.676552194198347\n",
            "  \n",
            "This is the kurtosis of the cur_year_avg column: \n",
            "8.449820474100262\n",
            "  \n",
            "This is the kurtosis of the cur_year_avg_weighted column: \n",
            "8.449820474100262\n",
            "  \n",
            "This is the kurtosis of the last_year_avg column: \n",
            "9.400430087283988\n",
            "  \n",
            "This is the kurtosis of the last_year_avg_weighted column: \n",
            "9.400377506038938\n",
            "  \n",
            "This is the kurtosis of the two_year_ago_avg column: \n",
            "9.34901226554119\n",
            "  \n",
            "This is the kurtosis of the two_year_ago_weighted column: \n",
            "9.348981641604768\n",
            "  \n",
            "This is the kurtosis of the three_year_ago_avg column: \n",
            "9.706373625696592\n",
            "  \n",
            "This is the kurtosis of the three_year_ago_weighted column: \n",
            "9.70630153793773\n",
            "  \n",
            "This is the kurtosis of the year column: \n",
            "-1.1329921911609366\n",
            "  \n",
            "This is the kurtosis of the day column: \n",
            "-0.6070332957126485\n",
            "  \n",
            "This is the kurtosis of the month_number column: \n",
            "-1.2362585561234243\n",
            "  \n"
          ],
          "name": "stdout"
        }
      ]
    },
    {
      "cell_type": "markdown",
      "metadata": {
        "id": "n6Y7WWCbqiAQ"
      },
      "source": [
        "### Univariate(for the result dataset)"
      ]
    },
    {
      "cell_type": "code",
      "metadata": {
        "id": "-Il0R55LqqAK",
        "colab": {
          "base_uri": "https://localhost:8080/"
        },
        "outputId": "7958d815-1f36-4c1b-b07a-0c0563ad594f"
      },
      "source": [
        "results.columns"
      ],
      "execution_count": 327,
      "outputs": [
        {
          "output_type": "execute_result",
          "data": {
            "text/plain": [
              "Index(['date', 'home_team', 'away_team', 'home_score', 'away_score',\n",
              "       'tournament', 'city', 'country', 'neutral', 'month_year', 'day',\n",
              "       'month_number', 'month_name', 'status'],\n",
              "      dtype='object')"
            ]
          },
          "metadata": {
            "tags": []
          },
          "execution_count": 327
        }
      ]
    },
    {
      "cell_type": "markdown",
      "metadata": {
        "id": "HID2frILshfh"
      },
      "source": [
        "> Scotland played the most matches."
      ]
    },
    {
      "cell_type": "code",
      "metadata": {
        "id": "urwuyvTrr28_",
        "colab": {
          "base_uri": "https://localhost:8080/",
          "height": 0
        },
        "outputId": "d72bd60a-5352-4d85-de39-14e32db3628e"
      },
      "source": [
        "results['neutral'].value_counts().plot(kind='bar')"
      ],
      "execution_count": 328,
      "outputs": [
        {
          "output_type": "execute_result",
          "data": {
            "text/plain": [
              "<matplotlib.axes._subplots.AxesSubplot at 0x7f55dc8f5978>"
            ]
          },
          "metadata": {
            "tags": []
          },
          "execution_count": 328
        },
        {
          "output_type": "display_data",
          "data": {
            "image/png": "[encoded data removed]",
            "text/plain": [
              "<Figure size 432x288 with 1 Axes>"
            ]
          },
          "metadata": {
            "tags": []
          }
        }
      ]
    },
    {
      "cell_type": "markdown",
      "metadata": {
        "id": "0svj71LPssju"
      },
      "source": [
        "> match really played in neutral grounds"
      ]
    },
    {
      "cell_type": "code",
      "metadata": {
        "id": "dlkBdiaLqiAc",
        "colab": {
          "base_uri": "https://localhost:8080/",
          "height": 0
        },
        "outputId": "c178e60b-8a86-41e5-947a-de7c008a3679"
      },
      "source": [
        "results['home_score'].hist()"
      ],
      "execution_count": 329,
      "outputs": [
        {
          "output_type": "execute_result",
          "data": {
            "text/plain": [
              "<matplotlib.axes._subplots.AxesSubplot at 0x7f55dc8015f8>"
            ]
          },
          "metadata": {
            "tags": []
          },
          "execution_count": 329
        },
        {
          "output_type": "display_data",
          "data": {
            "image/png": "[encoded data removed]",
            "text/plain": [
              "<Figure size 432x288 with 1 Axes>"
            ]
          },
          "metadata": {
            "tags": []
          }
        }
      ]
    },
    {
      "cell_type": "code",
      "metadata": {
        "id": "h6gfJvmxq9fU",
        "colab": {
          "base_uri": "https://localhost:8080/",
          "height": 0
        },
        "outputId": "da3d5f8c-d845-4771-9899-b1dee6eaf1a2"
      },
      "source": [
        "results['month_name'].value_counts().plot(kind='bar')"
      ],
      "execution_count": 330,
      "outputs": [
        {
          "output_type": "execute_result",
          "data": {
            "text/plain": [
              "<matplotlib.axes._subplots.AxesSubplot at 0x7f55dc83fe80>"
            ]
          },
          "metadata": {
            "tags": []
          },
          "execution_count": 330
        },
        {
          "output_type": "display_data",
          "data": {
            "image/png": "[encoded data removed]",
            "text/plain": [
              "<Figure size 432x288 with 1 Axes>"
            ]
          },
          "metadata": {
            "tags": []
          }
        }
      ]
    },
    {
      "cell_type": "markdown",
      "metadata": {
        "id": "aSgZ0kFrrD78"
      },
      "source": [
        "> In our dataset common for most matches are held in March"
      ]
    },
    {
      "cell_type": "code",
      "metadata": {
        "id": "Rw99hbsXrjPR",
        "colab": {
          "base_uri": "https://localhost:8080/",
          "height": 0
        },
        "outputId": "24b6b352-7610-4c35-cd46-6b3bd4129367"
      },
      "source": [
        "results['away_score'].hist()"
      ],
      "execution_count": 331,
      "outputs": [
        {
          "output_type": "execute_result",
          "data": {
            "text/plain": [
              "<matplotlib.axes._subplots.AxesSubplot at 0x7f55dd7836d8>"
            ]
          },
          "metadata": {
            "tags": []
          },
          "execution_count": 331
        },
        {
          "output_type": "display_data",
          "data": {
            "image/png": "[encoded data removed]",
            "text/plain": [
              "<Figure size 432x288 with 1 Axes>"
            ]
          },
          "metadata": {
            "tags": []
          }
        }
      ]
    },
    {
      "cell_type": "markdown",
      "metadata": {
        "id": "I5Rnj7fuqiAk"
      },
      "source": [
        "#### Central Tendency"
      ]
    },
    {
      "cell_type": "code",
      "metadata": {
        "id": "LOlZDaLuqiAl",
        "colab": {
          "base_uri": "https://localhost:8080/"
        },
        "outputId": "3de537bd-b7e7-40a1-83e1-9a28e9d265aa"
      },
      "source": [
        "results.columns"
      ],
      "execution_count": 332,
      "outputs": [
        {
          "output_type": "execute_result",
          "data": {
            "text/plain": [
              "Index(['date', 'home_team', 'away_team', 'home_score', 'away_score',\n",
              "       'tournament', 'city', 'country', 'neutral', 'month_year', 'day',\n",
              "       'month_number', 'month_name', 'status'],\n",
              "      dtype='object')"
            ]
          },
          "metadata": {
            "tags": []
          },
          "execution_count": 332
        }
      ]
    },
    {
      "cell_type": "code",
      "metadata": {
        "id": "iUp0uaLkqiAo"
      },
      "source": [
        "numeric = results.drop(['date', 'home_team', 'away_team',\n",
        "       'tournament', 'city', 'country', 'neutral', 'day',\n",
        "       'month_number', 'month_name', 'status','month_year'],axis=1)\n",
        "col = list(numeric.columns)"
      ],
      "execution_count": 333,
      "outputs": []
    },
    {
      "cell_type": "markdown",
      "metadata": {
        "id": "6hxeuClQqiAq"
      },
      "source": [
        "##### mean"
      ]
    },
    {
      "cell_type": "code",
      "metadata": {
        "id": "Y02FTastqiAr",
        "colab": {
          "base_uri": "https://localhost:8080/"
        },
        "outputId": "abd60fe6-a74f-4476-d7a8-1dea0c88cfd0"
      },
      "source": [
        "for i in col:\n",
        "  mean = results[i].mean()\n",
        "  print(f'This is the mean of the {i} column: ')\n",
        "  print(f'{mean}')\n",
        "  print('  ')"
      ],
      "execution_count": 334,
      "outputs": [
        {
          "output_type": "stream",
          "text": [
            "This is the mean of the home_score column: \n",
            "1.7457087587844953\n",
            "  \n",
            "This is the mean of the away_score column: \n",
            "1.188104507945836\n",
            "  \n"
          ],
          "name": "stdout"
        }
      ]
    },
    {
      "cell_type": "markdown",
      "metadata": {
        "id": "41gpNmkWqiAs"
      },
      "source": [
        "##### median"
      ]
    },
    {
      "cell_type": "code",
      "metadata": {
        "id": "GwYnWV_wqiAt",
        "colab": {
          "base_uri": "https://localhost:8080/"
        },
        "outputId": "cba3520a-6ac7-414d-d21b-7f20d30ccccd"
      },
      "source": [
        "for i in col:\n",
        "  median = results[i].median()\n",
        "  print(f'This is the median of the {i} column: ')\n",
        "  print(f'{median}')\n",
        "  print('  ')"
      ],
      "execution_count": 335,
      "outputs": [
        {
          "output_type": "stream",
          "text": [
            "This is the median of the home_score column: \n",
            "1.0\n",
            "  \n",
            "This is the median of the away_score column: \n",
            "1.0\n",
            "  \n"
          ],
          "name": "stdout"
        }
      ]
    },
    {
      "cell_type": "markdown",
      "metadata": {
        "id": "LMYAsvPPqiAv"
      },
      "source": [
        "##### mode"
      ]
    },
    {
      "cell_type": "code",
      "metadata": {
        "id": "3l-QV1oaqiAv",
        "colab": {
          "base_uri": "https://localhost:8080/"
        },
        "outputId": "6b7637d6-47fb-4dc9-98da-13db36f6772e"
      },
      "source": [
        "mod = results.drop(['date', 'day',\n",
        "       'month_number','month_year'],axis=1)\n",
        "col = list(mod.columns)\n",
        "for i in col:\n",
        "  mode = results[i].mode()[0]\n",
        "  print(f'This is the mode of the {i} column: ')\n",
        "  print(f'{mode}')\n",
        "  print('  ')"
      ],
      "execution_count": 336,
      "outputs": [
        {
          "output_type": "stream",
          "text": [
            "This is the mode of the home_team column: \n",
            "Brazil\n",
            "  \n",
            "This is the mode of the away_team column: \n",
            "Uruguay\n",
            "  \n",
            "This is the mode of the home_score column: \n",
            "1\n",
            "  \n",
            "This is the mode of the away_score column: \n",
            "0\n",
            "  \n",
            "This is the mode of the tournament column: \n",
            "Friendly\n",
            "  \n",
            "This is the mode of the city column: \n",
            "Kuala Lumpur\n",
            "  \n",
            "This is the mode of the country column: \n",
            "United States\n",
            "  \n",
            "This is the mode of the neutral column: \n",
            "False\n",
            "  \n",
            "This is the mode of the month_name column: \n",
            "June\n",
            "  \n",
            "This is the mode of the status column: \n",
            "Win\n",
            "  \n"
          ],
          "name": "stdout"
        }
      ]
    },
    {
      "cell_type": "markdown",
      "metadata": {
        "id": "pywF1JCPqiAy"
      },
      "source": [
        "#### Dispersion"
      ]
    },
    {
      "cell_type": "markdown",
      "metadata": {
        "id": "OZf139X4qiAz"
      },
      "source": [
        "##### Standard Deviation"
      ]
    },
    {
      "cell_type": "code",
      "metadata": {
        "id": "tn_EV9OvqiAz",
        "colab": {
          "base_uri": "https://localhost:8080/"
        },
        "outputId": "c631615f-697e-4882-c4e1-212575681b27"
      },
      "source": [
        "numeric = results.drop(['date', 'home_team', 'away_team',\n",
        "       'tournament', 'city', 'country', 'neutral', 'day',\n",
        "       'month_number', 'month_name', 'status', 'month_year'],axis=1)\n",
        "col = list(numeric.columns)\n",
        "\n",
        "for i in col:\n",
        "  mode = results[i].std()\n",
        "  print(f'This is the Standard Deviation of the {i} column: ')\n",
        "  print(f'{mode}')\n",
        "  print('  ')"
      ],
      "execution_count": 337,
      "outputs": [
        {
          "output_type": "stream",
          "text": [
            "This is the Standard Deviation of the home_score column: \n",
            "1.74914491825338\n",
            "  \n",
            "This is the Standard Deviation of the away_score column: \n",
            "1.4051198000976626\n",
            "  \n"
          ],
          "name": "stdout"
        }
      ]
    },
    {
      "cell_type": "markdown",
      "metadata": {
        "id": "poyGN3W6qiA1"
      },
      "source": [
        "##### Variance"
      ]
    },
    {
      "cell_type": "code",
      "metadata": {
        "id": "9IqCJheEqiA1",
        "colab": {
          "base_uri": "https://localhost:8080/"
        },
        "outputId": "3999b2ef-ef80-4a2e-b07f-da93274996d7"
      },
      "source": [
        "for i in col:\n",
        "  variance = results[i].var()\n",
        "  print(f'This is the variance of the {i} column: ')\n",
        "  print(f'{variance}')\n",
        "  print('  ')"
      ],
      "execution_count": 338,
      "outputs": [
        {
          "output_type": "stream",
          "text": [
            "This is the variance of the home_score column: \n",
            "3.0595079450516236\n",
            "  \n",
            "This is the variance of the away_score column: \n",
            "1.974361652626495\n",
            "  \n"
          ],
          "name": "stdout"
        }
      ]
    },
    {
      "cell_type": "markdown",
      "metadata": {
        "id": "lwIFfUnJqiA3"
      },
      "source": [
        "##### Maximum"
      ]
    },
    {
      "cell_type": "code",
      "metadata": {
        "id": "Lsk948abqiA4",
        "colab": {
          "base_uri": "https://localhost:8080/"
        },
        "outputId": "898dbbb3-db61-441b-e71f-3d51a9d686e1"
      },
      "source": [
        "for i in col:\n",
        "  max = results[i].max()\n",
        "  print(f'This is the largest value in the {i} column: ')\n",
        "  print(f'{max}')\n",
        "  print('  ')"
      ],
      "execution_count": 339,
      "outputs": [
        {
          "output_type": "stream",
          "text": [
            "This is the largest value in the home_score column: \n",
            "31\n",
            "  \n",
            "This is the largest value in the away_score column: \n",
            "21\n",
            "  \n"
          ],
          "name": "stdout"
        }
      ]
    },
    {
      "cell_type": "markdown",
      "metadata": {
        "id": "16Na6JzQqiA5"
      },
      "source": [
        "##### Minimum"
      ]
    },
    {
      "cell_type": "code",
      "metadata": {
        "id": "6xWd8sXZqiA6",
        "colab": {
          "base_uri": "https://localhost:8080/"
        },
        "outputId": "5d097c33-b875-4d4d-b537-276a40b1fdc6"
      },
      "source": [
        "for i in col:\n",
        "  min = results[i].min()\n",
        "  print(f'This is the small value in the {i} column: ')\n",
        "  print(f'{min}')\n",
        "  print('  ')"
      ],
      "execution_count": 340,
      "outputs": [
        {
          "output_type": "stream",
          "text": [
            "This is the small value in the home_score column: \n",
            "0\n",
            "  \n",
            "This is the small value in the away_score column: \n",
            "0\n",
            "  \n"
          ],
          "name": "stdout"
        }
      ]
    },
    {
      "cell_type": "markdown",
      "metadata": {
        "id": "EKqB8gmZqiA8"
      },
      "source": [
        "##### Range"
      ]
    },
    {
      "cell_type": "code",
      "metadata": {
        "id": "Cd1UU3JvqiA8",
        "colab": {
          "base_uri": "https://localhost:8080/"
        },
        "outputId": "10c37f71-120c-4dce-8c90-3d8b8139f69a"
      },
      "source": [
        "for i in col:\n",
        "  max = results[i].max()\n",
        "  min = results[i].min()\n",
        "  range = max - min\n",
        "  print(f'This is the range of the {i} column: ')\n",
        "  print(f'{range}')\n",
        "  print('  ')"
      ],
      "execution_count": 341,
      "outputs": [
        {
          "output_type": "stream",
          "text": [
            "This is the range of the home_score column: \n",
            "31\n",
            "  \n",
            "This is the range of the away_score column: \n",
            "21\n",
            "  \n"
          ],
          "name": "stdout"
        }
      ]
    },
    {
      "cell_type": "markdown",
      "metadata": {
        "id": "P7JcLDdQqiA-"
      },
      "source": [
        "##### Quantiles"
      ]
    },
    {
      "cell_type": "markdown",
      "metadata": {
        "id": "kJavbMYIqiA-"
      },
      "source": [
        "###### First Quantile"
      ]
    },
    {
      "cell_type": "code",
      "metadata": {
        "id": "Axi2mwbrqiA_",
        "colab": {
          "base_uri": "https://localhost:8080/"
        },
        "outputId": "d9363644-29fa-4af6-d7e4-89e37d9a1728"
      },
      "source": [
        "for i in col:\n",
        "  first_quantile = results[i].quantile(0.25)\n",
        "  print(f'This is the first quantile of the {i} column: ')\n",
        "  print(f'{first_quantile}')\n",
        "  print('  ')"
      ],
      "execution_count": 342,
      "outputs": [
        {
          "output_type": "stream",
          "text": [
            "This is the first quantile of the home_score column: \n",
            "1.0\n",
            "  \n",
            "This is the first quantile of the away_score column: \n",
            "0.0\n",
            "  \n"
          ],
          "name": "stdout"
        }
      ]
    },
    {
      "cell_type": "markdown",
      "metadata": {
        "id": "QTEn6KdHqiBC"
      },
      "source": [
        "###### Second Quantile"
      ]
    },
    {
      "cell_type": "code",
      "metadata": {
        "id": "RGr2WnorqiBC",
        "colab": {
          "base_uri": "https://localhost:8080/"
        },
        "outputId": "4c409709-8001-4934-c00b-7891e6224c81"
      },
      "source": [
        "for i in col:\n",
        "  second_quantile = results[i].quantile(0.5)\n",
        "  print(f'This is the second quantile of the {i} column: ')\n",
        "  print(f'{second_quantile}')\n",
        "  print('  ')"
      ],
      "execution_count": 343,
      "outputs": [
        {
          "output_type": "stream",
          "text": [
            "This is the second quantile of the home_score column: \n",
            "1.0\n",
            "  \n",
            "This is the second quantile of the away_score column: \n",
            "1.0\n",
            "  \n"
          ],
          "name": "stdout"
        }
      ]
    },
    {
      "cell_type": "markdown",
      "metadata": {
        "id": "By72OorjqiBE"
      },
      "source": [
        "###### Third Quantile"
      ]
    },
    {
      "cell_type": "code",
      "metadata": {
        "id": "ZTNVeWwDqiBE",
        "colab": {
          "base_uri": "https://localhost:8080/"
        },
        "outputId": "ef58b9f2-02fa-4c59-8c0d-0da65cee54c8"
      },
      "source": [
        "for i in col:\n",
        "  third_quantile = results[i].quantile(0.75)\n",
        "  print(f'This is the third quantile of the {i} column: ')\n",
        "  print(f'{third_quantile}')\n",
        "  print('  ')"
      ],
      "execution_count": 344,
      "outputs": [
        {
          "output_type": "stream",
          "text": [
            "This is the third quantile of the home_score column: \n",
            "2.0\n",
            "  \n",
            "This is the third quantile of the away_score column: \n",
            "2.0\n",
            "  \n"
          ],
          "name": "stdout"
        }
      ]
    },
    {
      "cell_type": "markdown",
      "metadata": {
        "id": "S-f8srJbqiBG"
      },
      "source": [
        "#### Descriptions of the distribution curve"
      ]
    },
    {
      "cell_type": "markdown",
      "metadata": {
        "id": "LQm238akqiBH"
      },
      "source": [
        "##### Skewness"
      ]
    },
    {
      "cell_type": "code",
      "metadata": {
        "id": "l7_dwcQzqiBH",
        "colab": {
          "base_uri": "https://localhost:8080/"
        },
        "outputId": "eac33c0b-2ec2-40d0-9725-dcb693b25133"
      },
      "source": [
        "for i in col:\n",
        "  skewness = results[i].skew()\n",
        "  print(f'This is the skewness of the {i} column: ')\n",
        "  print(f'{skewness}')\n",
        "  print('  ')"
      ],
      "execution_count": 345,
      "outputs": [
        {
          "output_type": "stream",
          "text": [
            "This is the skewness of the home_score column: \n",
            "2.2015038640372713\n",
            "  \n",
            "This is the skewness of the away_score column: \n",
            "2.59058860926579\n",
            "  \n"
          ],
          "name": "stdout"
        }
      ]
    },
    {
      "cell_type": "markdown",
      "metadata": {
        "id": "f1RBJ5rBqiBJ"
      },
      "source": [
        "##### Kurtosis"
      ]
    },
    {
      "cell_type": "code",
      "metadata": {
        "id": "nADGTj_vqiBJ",
        "colab": {
          "base_uri": "https://localhost:8080/"
        },
        "outputId": "f59cac09-ba8c-44b5-c4f1-ea278da3698e"
      },
      "source": [
        "for i in col:\n",
        "  kurtosis = results[i].kurt()\n",
        "  print(f'This is the kurtosis of the {i} column: ')\n",
        "  print(f'{kurtosis}')\n",
        "  print('  ')"
      ],
      "execution_count": 346,
      "outputs": [
        {
          "output_type": "stream",
          "text": [
            "This is the kurtosis of the home_score column: \n",
            "11.71410446777048\n",
            "  \n",
            "This is the kurtosis of the away_score column: \n",
            "15.757919940541624\n",
            "  \n"
          ],
          "name": "stdout"
        }
      ]
    },
    {
      "cell_type": "markdown",
      "metadata": {
        "id": "sDHea8Hfjp1r"
      },
      "source": [
        "### Bivariate"
      ]
    },
    {
      "cell_type": "markdown",
      "metadata": {
        "id": "OcueVcOGYkfF"
      },
      "source": [
        "**First dataset**"
      ]
    },
    {
      "cell_type": "code",
      "metadata": {
        "id": "fAo5d6baZyh6",
        "colab": {
          "base_uri": "https://localhost:8080/"
        },
        "outputId": "d8c1540d-d17c-42e2-d0e9-a08b4e23756e"
      },
      "source": [
        "fifa.columns"
      ],
      "execution_count": 347,
      "outputs": [
        {
          "output_type": "execute_result",
          "data": {
            "text/plain": [
              "Index(['rank', 'country_full', 'country_abrv', 'total_points',\n",
              "       'previous_points', 'rank_change', 'cur_year_avg',\n",
              "       'cur_year_avg_weighted', 'last_year_avg', 'last_year_avg_weighted',\n",
              "       'two_year_ago_avg', 'two_year_ago_weighted', 'three_year_ago_avg',\n",
              "       'three_year_ago_weighted', 'confederation', 'date', 'year',\n",
              "       'month_year', 'day', 'month_number', 'month_name'],\n",
              "      dtype='object')"
            ]
          },
          "metadata": {
            "tags": []
          },
          "execution_count": 347
        }
      ]
    },
    {
      "cell_type": "code",
      "metadata": {
        "id": "z61RxJ5NZ2q0"
      },
      "source": [
        "c_fifa = fifa.drop(['cur_year_avg',\n",
        "       'cur_year_avg_weighted', 'last_year_avg', 'last_year_avg_weighted',\n",
        "       'two_year_ago_avg', 'two_year_ago_weighted', 'three_year_ago_avg',\n",
        "       'three_year_ago_weighted', 'date', 'day', 'month_year'], axis=1)"
      ],
      "execution_count": 348,
      "outputs": []
    },
    {
      "cell_type": "code",
      "metadata": {
        "id": "1wgAmrWGZIGs",
        "colab": {
          "base_uri": "https://localhost:8080/",
          "height": 0
        },
        "outputId": "25231907-6aca-4c0f-c2de-1a21dfa755f6"
      },
      "source": [
        "plt.subplots(figsize=(15,15))\n",
        "sns.heatmap(c_fifa.corr(),annot=True, linewidths=5, linecolor='white')\n",
        "sns.set(font_scale=1)\n",
        "plt.show()"
      ],
      "execution_count": 349,
      "outputs": [
        {
          "output_type": "display_data",
          "data": {
            "image/png": "[encoded data removed]",
            "text/plain": [
              "<Figure size 1080x1080 with 2 Axes>"
            ]
          },
          "metadata": {
            "tags": []
          }
        }
      ]
    },
    {
      "cell_type": "markdown",
      "metadata": {
        "id": "0A4g6iNzYqfd"
      },
      "source": [
        "**Second dataset**"
      ]
    },
    {
      "cell_type": "code",
      "metadata": {
        "id": "eddZww_1ZRY8",
        "colab": {
          "base_uri": "https://localhost:8080/",
          "height": 0
        },
        "outputId": "7d167b91-a150-48c2-c5cd-39a3f421093b"
      },
      "source": [
        "sns.heatmap(results.corr(),annot=True)\n",
        "plt.show()"
      ],
      "execution_count": 350,
      "outputs": [
        {
          "output_type": "display_data",
          "data": {
            "image/png": "[encoded data removed]",
            "text/plain": [
              "<Figure size 432x288 with 2 Axes>"
            ]
          },
          "metadata": {
            "tags": []
          }
        }
      ]
    },
    {
      "cell_type": "markdown",
      "metadata": {
        "id": "vTbdjSrhVIiT"
      },
      "source": [
        "## \\ **Implementing the Solution**\\"
      ]
    },
    {
      "cell_type": "code",
      "metadata": {
        "id": "dITeb3KJNzD4",
        "colab": {
          "base_uri": "https://localhost:8080/"
        },
        "outputId": "9372d660-addf-4387-d3eb-4c5c8e60d075"
      },
      "source": [
        "fifa.shape"
      ],
      "execution_count": 351,
      "outputs": [
        {
          "output_type": "execute_result",
          "data": {
            "text/plain": [
              "(57756, 21)"
            ]
          },
          "metadata": {
            "tags": []
          },
          "execution_count": 351
        }
      ]
    },
    {
      "cell_type": "code",
      "metadata": {
        "id": "n8bS3dGUOfJe",
        "colab": {
          "base_uri": "https://localhost:8080/"
        },
        "outputId": "4b5ff574-a23a-4eca-82a8-d47eede2be1d"
      },
      "source": [
        "results.columns"
      ],
      "execution_count": 352,
      "outputs": [
        {
          "output_type": "execute_result",
          "data": {
            "text/plain": [
              "Index(['date', 'home_team', 'away_team', 'home_score', 'away_score',\n",
              "       'tournament', 'city', 'country', 'neutral', 'month_year', 'day',\n",
              "       'month_number', 'month_name', 'status'],\n",
              "      dtype='object')"
            ]
          },
          "metadata": {
            "tags": []
          },
          "execution_count": 352
        }
      ]
    },
    {
      "cell_type": "code",
      "metadata": {
        "id": "YAJ3doNtRzSH",
        "colab": {
          "base_uri": "https://localhost:8080/"
        },
        "outputId": "3a51c17e-9040-4890-98e0-513346df022a"
      },
      "source": [
        "fifa_home = fifa[['rank', 'country_full', 'month_year']]\n",
        "fifa_home.rename(columns={'country_full':'home_team'}, inplace=True)\n",
        "fifa_away = fifa[['rank', 'country_full', 'month_year']]\n",
        "fifa_away.rename(columns={'country_full':'away_team'}, inplace=True)\n"
      ],
      "execution_count": 353,
      "outputs": [
        {
          "output_type": "stream",
          "text": [
            "/usr/local/lib/python3.6/dist-packages/pandas/core/frame.py:4308: SettingWithCopyWarning: \n",
            "A value is trying to be set on a copy of a slice from a DataFrame\n",
            "\n",
            "See the caveats in the documentation: https://pandas.pydata.org/pandas-docs/stable/user_guide/indexing.html#returning-a-view-versus-a-copy\n",
            "  errors=errors,\n"
          ],
          "name": "stderr"
        }
      ]
    },
    {
      "cell_type": "code",
      "metadata": {
        "id": "4VzyBtpuR3_a"
      },
      "source": [
        "results_1_home = results[['home_team','home_score', 'month_year','tournament','status']]"
      ],
      "execution_count": 354,
      "outputs": []
    },
    {
      "cell_type": "code",
      "metadata": {
        "id": "Q3kRszhOR6Zv"
      },
      "source": [
        "results_1_home = results_1_home.merge(fifa_home, on=['month_year','home_team'], how='inner')"
      ],
      "execution_count": 355,
      "outputs": []
    },
    {
      "cell_type": "code",
      "metadata": {
        "id": "RhG2fRe5k7qs"
      },
      "source": [
        "results_1_home.rename(columns={'rank':'home_team_rank'}, inplace=True)"
      ],
      "execution_count": 356,
      "outputs": []
    },
    {
      "cell_type": "code",
      "metadata": {
        "id": "2KDB7fxbR9HS"
      },
      "source": [
        "results_1_away = results[['away_team','away_score', 'month_year','tournament','status']]"
      ],
      "execution_count": 357,
      "outputs": []
    },
    {
      "cell_type": "code",
      "metadata": {
        "id": "B20mP1ICSBSa"
      },
      "source": [
        "results_1_away = results_1_away.merge(fifa_away, on=['month_year','away_team'])"
      ],
      "execution_count": 358,
      "outputs": []
    },
    {
      "cell_type": "code",
      "metadata": {
        "id": "XFWHd02yj1T7"
      },
      "source": [
        "results_1_away.rename(columns={'rank':'away_team_rank'}, inplace=True)"
      ],
      "execution_count": 359,
      "outputs": []
    },
    {
      "cell_type": "code",
      "metadata": {
        "id": "p82yRN9cjaKc",
        "colab": {
          "base_uri": "https://localhost:8080/",
          "height": 402
        },
        "outputId": "b74c9ca3-fdce-4165-ffce-84ff7463d2d5"
      },
      "source": [
        "# results_1_home = pd.read_csv('results_home.csv', index_col=0)\n",
        "results_1_home[['home_team', 'home_score', 'month_year', 'tournament', 'status',\n",
        "       'home_team_rank']]"
      ],
      "execution_count": 360,
      "outputs": [
        {
          "output_type": "execute_result",
          "data": {
            "text/html": [
              "<div>\n",
              "<style scoped>\n",
              "    .dataframe tbody tr th:only-of-type {\n",
              "        vertical-align: middle;\n",
              "    }\n",
              "\n",
              "    .dataframe tbody tr th {\n",
              "        vertical-align: top;\n",
              "    }\n",
              "\n",
              "    .dataframe thead th {\n",
              "        text-align: right;\n",
              "    }\n",
              "</style>\n",
              "<table border=\"1\" class=\"dataframe\">\n",
              "  <thead>\n",
              "    <tr style=\"text-align: right;\">\n",
              "      <th></th>\n",
              "      <th>home_team</th>\n",
              "      <th>home_score</th>\n",
              "      <th>month_year</th>\n",
              "      <th>tournament</th>\n",
              "      <th>status</th>\n",
              "      <th>home_team_rank</th>\n",
              "    </tr>\n",
              "  </thead>\n",
              "  <tbody>\n",
              "    <tr>\n",
              "      <th>0</th>\n",
              "      <td>Colombia</td>\n",
              "      <td>0</td>\n",
              "      <td>1993-08</td>\n",
              "      <td>World cup</td>\n",
              "      <td>Draw</td>\n",
              "      <td>19</td>\n",
              "    </tr>\n",
              "    <tr>\n",
              "      <th>1</th>\n",
              "      <td>Colombia</td>\n",
              "      <td>2</td>\n",
              "      <td>1993-08</td>\n",
              "      <td>World cup</td>\n",
              "      <td>Win</td>\n",
              "      <td>19</td>\n",
              "    </tr>\n",
              "    <tr>\n",
              "      <th>2</th>\n",
              "      <td>Colombia</td>\n",
              "      <td>4</td>\n",
              "      <td>1993-08</td>\n",
              "      <td>World cup</td>\n",
              "      <td>Win</td>\n",
              "      <td>19</td>\n",
              "    </tr>\n",
              "    <tr>\n",
              "      <th>3</th>\n",
              "      <td>Peru</td>\n",
              "      <td>0</td>\n",
              "      <td>1993-08</td>\n",
              "      <td>World cup</td>\n",
              "      <td>Lose</td>\n",
              "      <td>70</td>\n",
              "    </tr>\n",
              "    <tr>\n",
              "      <th>4</th>\n",
              "      <td>Peru</td>\n",
              "      <td>0</td>\n",
              "      <td>1993-08</td>\n",
              "      <td>World cup</td>\n",
              "      <td>Lose</td>\n",
              "      <td>70</td>\n",
              "    </tr>\n",
              "    <tr>\n",
              "      <th>...</th>\n",
              "      <td>...</td>\n",
              "      <td>...</td>\n",
              "      <td>...</td>\n",
              "      <td>...</td>\n",
              "      <td>...</td>\n",
              "      <td>...</td>\n",
              "    </tr>\n",
              "    <tr>\n",
              "      <th>18588</th>\n",
              "      <td>Nigeria</td>\n",
              "      <td>2</td>\n",
              "      <td>2018-06</td>\n",
              "      <td>World cup</td>\n",
              "      <td>Win</td>\n",
              "      <td>48</td>\n",
              "    </tr>\n",
              "    <tr>\n",
              "      <th>18589</th>\n",
              "      <td>Nigeria</td>\n",
              "      <td>1</td>\n",
              "      <td>2018-06</td>\n",
              "      <td>World cup</td>\n",
              "      <td>Lose</td>\n",
              "      <td>48</td>\n",
              "    </tr>\n",
              "    <tr>\n",
              "      <th>18590</th>\n",
              "      <td>Australia</td>\n",
              "      <td>0</td>\n",
              "      <td>2018-06</td>\n",
              "      <td>World cup</td>\n",
              "      <td>Lose</td>\n",
              "      <td>36</td>\n",
              "    </tr>\n",
              "    <tr>\n",
              "      <th>18591</th>\n",
              "      <td>Senegal</td>\n",
              "      <td>0</td>\n",
              "      <td>2018-06</td>\n",
              "      <td>World cup</td>\n",
              "      <td>Lose</td>\n",
              "      <td>27</td>\n",
              "    </tr>\n",
              "    <tr>\n",
              "      <th>18592</th>\n",
              "      <td>Panama</td>\n",
              "      <td>1</td>\n",
              "      <td>2018-06</td>\n",
              "      <td>World cup</td>\n",
              "      <td>Lose</td>\n",
              "      <td>55</td>\n",
              "    </tr>\n",
              "  </tbody>\n",
              "</table>\n",
              "<p>18593 rows × 6 columns</p>\n",
              "</div>"
            ],
            "text/plain": [
              "       home_team  home_score month_year tournament status  home_team_rank\n",
              "0       Colombia           0    1993-08  World cup   Draw              19\n",
              "1       Colombia           2    1993-08  World cup    Win              19\n",
              "2       Colombia           4    1993-08  World cup    Win              19\n",
              "3           Peru           0    1993-08  World cup   Lose              70\n",
              "4           Peru           0    1993-08  World cup   Lose              70\n",
              "...          ...         ...        ...        ...    ...             ...\n",
              "18588    Nigeria           2    2018-06  World cup    Win              48\n",
              "18589    Nigeria           1    2018-06  World cup   Lose              48\n",
              "18590  Australia           0    2018-06  World cup   Lose              36\n",
              "18591    Senegal           0    2018-06  World cup   Lose              27\n",
              "18592     Panama           1    2018-06  World cup   Lose              55\n",
              "\n",
              "[18593 rows x 6 columns]"
            ]
          },
          "metadata": {
            "tags": []
          },
          "execution_count": 360
        }
      ]
    },
    {
      "cell_type": "code",
      "metadata": {
        "id": "x9vv-AUjjeAW",
        "colab": {
          "base_uri": "https://localhost:8080/",
          "height": 402
        },
        "outputId": "618ff162-fa79-4311-ee43-029f3b8cf520"
      },
      "source": [
        "# results_1_away = pd.read_csv('results_away.csv', index_col=0)\n",
        "results_1_away[['away_team', 'away_score', 'month_year', 'tournament', 'status',\n",
        "       'away_team_rank']]"
      ],
      "execution_count": 361,
      "outputs": [
        {
          "output_type": "execute_result",
          "data": {
            "text/html": [
              "<div>\n",
              "<style scoped>\n",
              "    .dataframe tbody tr th:only-of-type {\n",
              "        vertical-align: middle;\n",
              "    }\n",
              "\n",
              "    .dataframe tbody tr th {\n",
              "        vertical-align: top;\n",
              "    }\n",
              "\n",
              "    .dataframe thead th {\n",
              "        text-align: right;\n",
              "    }\n",
              "</style>\n",
              "<table border=\"1\" class=\"dataframe\">\n",
              "  <thead>\n",
              "    <tr style=\"text-align: right;\">\n",
              "      <th></th>\n",
              "      <th>away_team</th>\n",
              "      <th>away_score</th>\n",
              "      <th>month_year</th>\n",
              "      <th>tournament</th>\n",
              "      <th>status</th>\n",
              "      <th>away_team_rank</th>\n",
              "    </tr>\n",
              "  </thead>\n",
              "  <tbody>\n",
              "    <tr>\n",
              "      <th>0</th>\n",
              "      <td>Paraguay</td>\n",
              "      <td>0</td>\n",
              "      <td>1993-08</td>\n",
              "      <td>World cup</td>\n",
              "      <td>Draw</td>\n",
              "      <td>67</td>\n",
              "    </tr>\n",
              "    <tr>\n",
              "      <th>1</th>\n",
              "      <td>Paraguay</td>\n",
              "      <td>0</td>\n",
              "      <td>1993-08</td>\n",
              "      <td>World cup</td>\n",
              "      <td>Draw</td>\n",
              "      <td>67</td>\n",
              "    </tr>\n",
              "    <tr>\n",
              "      <th>2</th>\n",
              "      <td>Argentina</td>\n",
              "      <td>1</td>\n",
              "      <td>1993-08</td>\n",
              "      <td>World cup</td>\n",
              "      <td>Lose</td>\n",
              "      <td>5</td>\n",
              "    </tr>\n",
              "    <tr>\n",
              "      <th>3</th>\n",
              "      <td>Argentina</td>\n",
              "      <td>3</td>\n",
              "      <td>1993-08</td>\n",
              "      <td>World cup</td>\n",
              "      <td>Lose</td>\n",
              "      <td>5</td>\n",
              "    </tr>\n",
              "    <tr>\n",
              "      <th>4</th>\n",
              "      <td>Argentina</td>\n",
              "      <td>1</td>\n",
              "      <td>1993-08</td>\n",
              "      <td>World cup</td>\n",
              "      <td>Win</td>\n",
              "      <td>5</td>\n",
              "    </tr>\n",
              "    <tr>\n",
              "      <th>...</th>\n",
              "      <td>...</td>\n",
              "      <td>...</td>\n",
              "      <td>...</td>\n",
              "      <td>...</td>\n",
              "      <td>...</td>\n",
              "      <td>...</td>\n",
              "    </tr>\n",
              "    <tr>\n",
              "      <th>18497</th>\n",
              "      <td>France</td>\n",
              "      <td>0</td>\n",
              "      <td>2018-06</td>\n",
              "      <td>World cup</td>\n",
              "      <td>Draw</td>\n",
              "      <td>7</td>\n",
              "    </tr>\n",
              "    <tr>\n",
              "      <th>18498</th>\n",
              "      <td>Argentina</td>\n",
              "      <td>2</td>\n",
              "      <td>2018-06</td>\n",
              "      <td>World cup</td>\n",
              "      <td>Lose</td>\n",
              "      <td>5</td>\n",
              "    </tr>\n",
              "    <tr>\n",
              "      <th>18499</th>\n",
              "      <td>Argentina</td>\n",
              "      <td>3</td>\n",
              "      <td>2018-06</td>\n",
              "      <td>World cup</td>\n",
              "      <td>Win</td>\n",
              "      <td>5</td>\n",
              "    </tr>\n",
              "    <tr>\n",
              "      <th>18500</th>\n",
              "      <td>Poland</td>\n",
              "      <td>1</td>\n",
              "      <td>2018-06</td>\n",
              "      <td>World cup</td>\n",
              "      <td>Lose</td>\n",
              "      <td>8</td>\n",
              "    </tr>\n",
              "    <tr>\n",
              "      <th>18501</th>\n",
              "      <td>Belgium</td>\n",
              "      <td>1</td>\n",
              "      <td>2018-06</td>\n",
              "      <td>World cup</td>\n",
              "      <td>Lose</td>\n",
              "      <td>3</td>\n",
              "    </tr>\n",
              "  </tbody>\n",
              "</table>\n",
              "<p>18502 rows × 6 columns</p>\n",
              "</div>"
            ],
            "text/plain": [
              "       away_team  away_score month_year tournament status  away_team_rank\n",
              "0       Paraguay           0    1993-08  World cup   Draw              67\n",
              "1       Paraguay           0    1993-08  World cup   Draw              67\n",
              "2      Argentina           1    1993-08  World cup   Lose               5\n",
              "3      Argentina           3    1993-08  World cup   Lose               5\n",
              "4      Argentina           1    1993-08  World cup    Win               5\n",
              "...          ...         ...        ...        ...    ...             ...\n",
              "18497     France           0    2018-06  World cup   Draw               7\n",
              "18498  Argentina           2    2018-06  World cup   Lose               5\n",
              "18499  Argentina           3    2018-06  World cup    Win               5\n",
              "18500     Poland           1    2018-06  World cup   Lose               8\n",
              "18501    Belgium           1    2018-06  World cup   Lose               3\n",
              "\n",
              "[18502 rows x 6 columns]"
            ]
          },
          "metadata": {
            "tags": []
          },
          "execution_count": 361
        }
      ]
    },
    {
      "cell_type": "code",
      "metadata": {
        "id": "DTdwe8PhjEKU"
      },
      "source": [
        "results_1 = results_1_home.merge(results_1_away, on=['month_year','tournament','status'])"
      ],
      "execution_count": 362,
      "outputs": []
    },
    {
      "cell_type": "markdown",
      "metadata": {
        "id": "wMOwMrLZleE6"
      },
      "source": [
        "### Approach 1: Polynomial approach"
      ]
    },
    {
      "cell_type": "markdown",
      "metadata": {
        "id": "XKq2mJ_x46kq"
      },
      "source": [
        "##### Detecting multicollinearity"
      ]
    },
    {
      "cell_type": "code",
      "metadata": {
        "id": "aOu0gYJI8M-U"
      },
      "source": [
        "results_1 = results_1.dropna()"
      ],
      "execution_count": 363,
      "outputs": []
    },
    {
      "cell_type": "code",
      "metadata": {
        "id": "o6LmOZAI6GZD"
      },
      "source": [
        "label_encoder = LabelEncoder()\n",
        "\n",
        "#transform to integer\n",
        "results_1['tournament'] = label_encoder.fit_transform(results_1['tournament'])"
      ],
      "execution_count": 364,
      "outputs": []
    },
    {
      "cell_type": "code",
      "metadata": {
        "id": "62KUP6mszXOD",
        "colab": {
          "base_uri": "https://localhost:8080/",
          "height": 166
        },
        "outputId": "b513df5e-8653-48d1-a8cc-864b627f7846"
      },
      "source": [
        "independent_only = results_1[['home_team_rank','away_team_rank','tournament','away_score']]\n",
        "independent_only.corr()"
      ],
      "execution_count": 365,
      "outputs": [
        {
          "output_type": "execute_result",
          "data": {
            "text/html": [
              "<div>\n",
              "<style scoped>\n",
              "    .dataframe tbody tr th:only-of-type {\n",
              "        vertical-align: middle;\n",
              "    }\n",
              "\n",
              "    .dataframe tbody tr th {\n",
              "        vertical-align: top;\n",
              "    }\n",
              "\n",
              "    .dataframe thead th {\n",
              "        text-align: right;\n",
              "    }\n",
              "</style>\n",
              "<table border=\"1\" class=\"dataframe\">\n",
              "  <thead>\n",
              "    <tr style=\"text-align: right;\">\n",
              "      <th></th>\n",
              "      <th>home_team_rank</th>\n",
              "      <th>away_team_rank</th>\n",
              "      <th>tournament</th>\n",
              "      <th>away_score</th>\n",
              "    </tr>\n",
              "  </thead>\n",
              "  <tbody>\n",
              "    <tr>\n",
              "      <th>home_team_rank</th>\n",
              "      <td>1.000000</td>\n",
              "      <td>0.090350</td>\n",
              "      <td>-0.000637</td>\n",
              "      <td>0.170128</td>\n",
              "    </tr>\n",
              "    <tr>\n",
              "      <th>away_team_rank</th>\n",
              "      <td>0.090350</td>\n",
              "      <td>1.000000</td>\n",
              "      <td>0.038567</td>\n",
              "      <td>-0.194209</td>\n",
              "    </tr>\n",
              "    <tr>\n",
              "      <th>tournament</th>\n",
              "      <td>-0.000637</td>\n",
              "      <td>0.038567</td>\n",
              "      <td>1.000000</td>\n",
              "      <td>0.008233</td>\n",
              "    </tr>\n",
              "    <tr>\n",
              "      <th>away_score</th>\n",
              "      <td>0.170128</td>\n",
              "      <td>-0.194209</td>\n",
              "      <td>0.008233</td>\n",
              "      <td>1.000000</td>\n",
              "    </tr>\n",
              "  </tbody>\n",
              "</table>\n",
              "</div>"
            ],
            "text/plain": [
              "                home_team_rank  away_team_rank  tournament  away_score\n",
              "home_team_rank        1.000000        0.090350   -0.000637    0.170128\n",
              "away_team_rank        0.090350        1.000000    0.038567   -0.194209\n",
              "tournament           -0.000637        0.038567    1.000000    0.008233\n",
              "away_score            0.170128       -0.194209    0.008233    1.000000"
            ]
          },
          "metadata": {
            "tags": []
          },
          "execution_count": 365
        }
      ]
    },
    {
      "cell_type": "code",
      "metadata": {
        "id": "62sVizx-M4mO",
        "colab": {
          "base_uri": "https://localhost:8080/",
          "height": 166
        },
        "outputId": "90069106-17fe-413d-d09b-d6f8f1dd95bb"
      },
      "source": [
        "# Let's display the correlations between the variables\n",
        "correlations = independent_only.corr()\n",
        "correlations"
      ],
      "execution_count": 366,
      "outputs": [
        {
          "output_type": "execute_result",
          "data": {
            "text/html": [
              "<div>\n",
              "<style scoped>\n",
              "    .dataframe tbody tr th:only-of-type {\n",
              "        vertical-align: middle;\n",
              "    }\n",
              "\n",
              "    .dataframe tbody tr th {\n",
              "        vertical-align: top;\n",
              "    }\n",
              "\n",
              "    .dataframe thead th {\n",
              "        text-align: right;\n",
              "    }\n",
              "</style>\n",
              "<table border=\"1\" class=\"dataframe\">\n",
              "  <thead>\n",
              "    <tr style=\"text-align: right;\">\n",
              "      <th></th>\n",
              "      <th>home_team_rank</th>\n",
              "      <th>away_team_rank</th>\n",
              "      <th>tournament</th>\n",
              "      <th>away_score</th>\n",
              "    </tr>\n",
              "  </thead>\n",
              "  <tbody>\n",
              "    <tr>\n",
              "      <th>home_team_rank</th>\n",
              "      <td>1.000000</td>\n",
              "      <td>0.090350</td>\n",
              "      <td>-0.000637</td>\n",
              "      <td>0.170128</td>\n",
              "    </tr>\n",
              "    <tr>\n",
              "      <th>away_team_rank</th>\n",
              "      <td>0.090350</td>\n",
              "      <td>1.000000</td>\n",
              "      <td>0.038567</td>\n",
              "      <td>-0.194209</td>\n",
              "    </tr>\n",
              "    <tr>\n",
              "      <th>tournament</th>\n",
              "      <td>-0.000637</td>\n",
              "      <td>0.038567</td>\n",
              "      <td>1.000000</td>\n",
              "      <td>0.008233</td>\n",
              "    </tr>\n",
              "    <tr>\n",
              "      <th>away_score</th>\n",
              "      <td>0.170128</td>\n",
              "      <td>-0.194209</td>\n",
              "      <td>0.008233</td>\n",
              "      <td>1.000000</td>\n",
              "    </tr>\n",
              "  </tbody>\n",
              "</table>\n",
              "</div>"
            ],
            "text/plain": [
              "                home_team_rank  away_team_rank  tournament  away_score\n",
              "home_team_rank        1.000000        0.090350   -0.000637    0.170128\n",
              "away_team_rank        0.090350        1.000000    0.038567   -0.194209\n",
              "tournament           -0.000637        0.038567    1.000000    0.008233\n",
              "away_score            0.170128       -0.194209    0.008233    1.000000"
            ]
          },
          "metadata": {
            "tags": []
          },
          "execution_count": 366
        }
      ]
    },
    {
      "cell_type": "code",
      "metadata": {
        "id": "DV4ulVlN-Yp0",
        "colab": {
          "base_uri": "https://localhost:8080/",
          "height": 166
        },
        "outputId": "e624611c-f5b5-49d3-859a-ec72e2db905b"
      },
      "source": [
        "pd.DataFrame(np.linalg.inv(correlations.values), index = correlations.index, columns=correlations.columns)"
      ],
      "execution_count": 367,
      "outputs": [
        {
          "output_type": "execute_result",
          "data": {
            "text/html": [
              "<div>\n",
              "<style scoped>\n",
              "    .dataframe tbody tr th:only-of-type {\n",
              "        vertical-align: middle;\n",
              "    }\n",
              "\n",
              "    .dataframe tbody tr th {\n",
              "        vertical-align: top;\n",
              "    }\n",
              "\n",
              "    .dataframe thead th {\n",
              "        text-align: right;\n",
              "    }\n",
              "</style>\n",
              "<table border=\"1\" class=\"dataframe\">\n",
              "  <thead>\n",
              "    <tr style=\"text-align: right;\">\n",
              "      <th></th>\n",
              "      <th>home_team_rank</th>\n",
              "      <th>away_team_rank</th>\n",
              "      <th>tournament</th>\n",
              "      <th>away_score</th>\n",
              "    </tr>\n",
              "  </thead>\n",
              "  <tbody>\n",
              "    <tr>\n",
              "      <th>home_team_rank</th>\n",
              "      <td>1.046920</td>\n",
              "      <td>-0.134557</td>\n",
              "      <td>0.007539</td>\n",
              "      <td>-0.204305</td>\n",
              "    </tr>\n",
              "    <tr>\n",
              "      <th>away_team_rank</th>\n",
              "      <td>-0.134557</td>\n",
              "      <td>1.058235</td>\n",
              "      <td>-0.042782</td>\n",
              "      <td>0.228763</td>\n",
              "    </tr>\n",
              "    <tr>\n",
              "      <th>tournament</th>\n",
              "      <td>0.007539</td>\n",
              "      <td>-0.042782</td>\n",
              "      <td>1.001802</td>\n",
              "      <td>-0.017839</td>\n",
              "    </tr>\n",
              "    <tr>\n",
              "      <th>away_score</th>\n",
              "      <td>-0.204305</td>\n",
              "      <td>0.228763</td>\n",
              "      <td>-0.017839</td>\n",
              "      <td>1.079333</td>\n",
              "    </tr>\n",
              "  </tbody>\n",
              "</table>\n",
              "</div>"
            ],
            "text/plain": [
              "                home_team_rank  away_team_rank  tournament  away_score\n",
              "home_team_rank        1.046920       -0.134557    0.007539   -0.204305\n",
              "away_team_rank       -0.134557        1.058235   -0.042782    0.228763\n",
              "tournament            0.007539       -0.042782    1.001802   -0.017839\n",
              "away_score           -0.204305        0.228763   -0.017839    1.079333"
            ]
          },
          "metadata": {
            "tags": []
          },
          "execution_count": 367
        }
      ]
    },
    {
      "cell_type": "markdown",
      "metadata": {
        "id": "s_YDf_HZ1NF2"
      },
      "source": [
        "#### Model 1: Predict how many goals the home team scores."
      ]
    },
    {
      "cell_type": "markdown",
      "metadata": {
        "id": "XWGC4qPAHn0G"
      },
      "source": [
        "##### Residual plots and heteroskedasticity testing"
      ]
    },
    {
      "cell_type": "code",
      "metadata": {
        "id": "KT1cuCeX6osW"
      },
      "source": [
        "X = independent_only.values\n",
        "y = results_1['home_score'].values"
      ],
      "execution_count": 368,
      "outputs": []
    },
    {
      "cell_type": "code",
      "metadata": {
        "id": "IsMRjud5HqSp",
        "colab": {
          "base_uri": "https://localhost:8080/"
        },
        "outputId": "de442596-9691-49ac-c434-dab2770f0d23"
      },
      "source": [
        "X_train, X_test, y_train, y_test = train_test_split(X, y, test_size = 0.3, random_state=0)\n",
        "\n",
        "# Fit polynomial Regression to the dataset\n",
        "poly_reg = PolynomialFeatures(degree = 2) \n",
        "X_poly = poly_reg.fit_transform(X_train)\n",
        "\n",
        "\n",
        "pol_reg = LinearRegression()\n",
        "pol_reg.fit(X_poly, y_train)\n",
        "\n",
        "# This is our prediction for score based on our model\n",
        "y_pred = pol_reg.predict(poly_reg.fit_transform(X_test))\n",
        "\n",
        "# We now create the residual by substracting the test value from the predicted \n",
        "# value for each row in our dataset\n",
        "\n",
        "residuals = np.subtract(y_pred, y_test)\n",
        "\n",
        "# Let's describe our residual:\n",
        "pd.DataFrame(residuals).describe()\n",
        "\n",
        "residuals.mean()"
      ],
      "execution_count": 369,
      "outputs": [
        {
          "output_type": "execute_result",
          "data": {
            "text/plain": [
              "0.007633591909560726"
            ]
          },
          "metadata": {
            "tags": []
          },
          "execution_count": 369
        }
      ]
    },
    {
      "cell_type": "code",
      "metadata": {
        "id": "pBuxfk8yR5Pm",
        "colab": {
          "base_uri": "https://localhost:8080/"
        },
        "outputId": "d4ab4ddb-03c4-40a4-ff25-1eef51e97b8d"
      },
      "source": [
        "import scipy as sp\n",
        "\n",
        "test_result, p_value = sp.stats.bartlett(y_pred, residuals)\n",
        "\n",
        "# To interpret the results we must also compute a critical value of the chi squared distribution\n",
        "degree_of_freedom = len(y_pred)-1\n",
        "probability = 1 - p_value\n",
        "\n",
        "critical_value = sp.stats.chi2.ppf(probability, degree_of_freedom)\n",
        "\n",
        "print(f'critical_value : {critical_value}')\n",
        "print(f'degree_of_freedom : {degree_of_freedom}')\n",
        "print(f'probability : {probability}')\n",
        "\n",
        "# If the test_result is greater than the critical value, then we reject our null\n",
        "# hypothesis. This would mean that there are patterns to the variance of the data\n",
        "\n",
        "# Otherwise, we can identify no patterns, and we accept the null hypothesis that \n",
        "# the variance is homogeneous across our data\n",
        "\n",
        "if (test_result > critical_value):\n",
        "  print('the variances are unequal, and the model should be reassessed')\n",
        "else:\n",
        "  print('the variances are homogeneous!')"
      ],
      "execution_count": 370,
      "outputs": [
        {
          "output_type": "stream",
          "text": [
            "critical_value : inf\n",
            "degree_of_freedom : 97219\n",
            "probability : 1.0\n",
            "the variances are homogeneous!\n"
          ],
          "name": "stdout"
        }
      ]
    },
    {
      "cell_type": "markdown",
      "metadata": {
        "id": "Xg6O-h_XM2lx"
      },
      "source": [
        "##### Creating modal"
      ]
    },
    {
      "cell_type": "code",
      "metadata": {
        "id": "gTnrrxI6VwLw"
      },
      "source": [
        "X = independent_only\n",
        "y = results_1['home_score']"
      ],
      "execution_count": 371,
      "outputs": []
    },
    {
      "cell_type": "code",
      "metadata": {
        "id": "ue-OcnNyNOYX",
        "colab": {
          "base_uri": "https://localhost:8080/"
        },
        "outputId": "fbf29f57-165e-4038-8b48-fb4f58024589"
      },
      "source": [
        "from sklearn.model_selection import LeaveOneOut\n",
        "\n",
        "X = independent_only.values\n",
        "y = results_1['home_score'].values\n",
        "\n",
        "folds = KFold(n_splits=5)\n",
        "\n",
        "print('we are using ' +str(folds.get_n_splits(X)) + ' folds')\n",
        "\n",
        "RMSES = [] \n",
        "count = 0 \n",
        "for train_index, test_index in folds.split(X):\n",
        "  \n",
        "  X_train, X_test = X[train_index], X[test_index]\n",
        "  y_train, y_test = y[train_index], y[test_index]\n",
        "  \n",
        "  # Fit polynomial Regression to the dataset\n",
        "  poly_reg = PolynomialFeatures(degree = 2) \n",
        "  X_poly = poly_reg.fit_transform(X_train)\n",
        "\n",
        "\n",
        "  pol_reg = LinearRegression()\n",
        "  pol_reg.fit(X_poly, y_train)\n",
        "\n",
        "  # This is our prediction for admission based on our model\n",
        "  y_pred = pol_reg.predict(poly_reg.fit_transform(X_test))\n",
        "  \n",
        "  rmse_value =  np.sqrt(metrics.mean_squared_error(y_test, y_pred))\n",
        "  RMSES.append(rmse_value)\n",
        "  \n",
        "  count+=1\n",
        "print('trained ' + str(count) + ' models' )\n",
        "np.mean(RMSES)"
      ],
      "execution_count": 244,
      "outputs": [
        {
          "output_type": "stream",
          "text": [
            "we are using 5 folds\n",
            "trained 5 models\n"
          ],
          "name": "stdout"
        },
        {
          "output_type": "execute_result",
          "data": {
            "text/plain": [
              "1.6284130583169372"
            ]
          },
          "metadata": {
            "tags": []
          },
          "execution_count": 244
        }
      ]
    },
    {
      "cell_type": "markdown",
      "metadata": {
        "id": "iAoJrJefRZlW"
      },
      "source": [
        "**RMSES**"
      ]
    },
    {
      "cell_type": "code",
      "metadata": {
        "id": "A8u4sRm_RWij",
        "colab": {
          "base_uri": "https://localhost:8080/"
        },
        "outputId": "30986397-15eb-446d-b382-247c2c0ea644"
      },
      "source": [
        "np.mean(RMSES)"
      ],
      "execution_count": 245,
      "outputs": [
        {
          "output_type": "execute_result",
          "data": {
            "text/plain": [
              "1.6284130583169372"
            ]
          },
          "metadata": {
            "tags": []
          },
          "execution_count": 245
        }
      ]
    },
    {
      "cell_type": "code",
      "metadata": {
        "id": "oK_NWnZNKf3T",
        "colab": {
          "base_uri": "https://localhost:8080/"
        },
        "outputId": "6ac931ba-cb74-4826-abd7-754679cfccaa"
      },
      "source": [
        "print('Mean Absolute Error:', metrics.mean_absolute_error(y_test, y_pred))  \n",
        "print('Mean Squared Error:', metrics.mean_squared_error(y_test, y_pred))  \n",
        "print('Root Mean Squared Error:', np.sqrt(metrics.mean_squared_error(y_test, y_pred)))"
      ],
      "execution_count": 246,
      "outputs": [
        {
          "output_type": "stream",
          "text": [
            "Mean Absolute Error: 1.131410368794534\n",
            "Mean Squared Error: 2.237506054109723\n",
            "Root Mean Squared Error: 1.4958295538294872\n"
          ],
          "name": "stdout"
        }
      ]
    },
    {
      "cell_type": "markdown",
      "metadata": {
        "id": "a63yUmNr1VTk"
      },
      "source": [
        "#### Model 2: Predict how many goals the away team scores."
      ]
    },
    {
      "cell_type": "markdown",
      "metadata": {
        "id": "h6AONw6qTPd2"
      },
      "source": [
        "##### Residual plots and heteroskedasticity testing"
      ]
    },
    {
      "cell_type": "code",
      "metadata": {
        "id": "U9__TVXgTPd4",
        "colab": {
          "base_uri": "https://localhost:8080/"
        },
        "outputId": "194d6533-d47e-4890-db23-deda5d2debf2"
      },
      "source": [
        "X_train, X_test, y_train, y_test = train_test_split(X, y, test_size = 0.3, random_state=0)\n",
        "\n",
        "# Fit polynomial Regression to the dataset\n",
        "poly_reg = PolynomialFeatures(degree = 2) \n",
        "X_poly = poly_reg.fit_transform(X_train)\n",
        "\n",
        "\n",
        "pol_reg = LinearRegression()\n",
        "pol_reg.fit(X_poly, y_train)\n",
        "\n",
        "# This is our prediction for score based on our model\n",
        "y_pred = pol_reg.predict(poly_reg.fit_transform(X_test))\n",
        "\n",
        "# We now create the residual by substracting the test value from the predicted \n",
        "# value for each row in our dataset\n",
        "\n",
        "residuals = np.subtract(y_pred, y_test)\n",
        "\n",
        "# Let's describe our residual:\n",
        "pd.DataFrame(residuals).describe()\n",
        "\n",
        "residuals.mean()"
      ],
      "execution_count": 247,
      "outputs": [
        {
          "output_type": "execute_result",
          "data": {
            "text/plain": [
              "0.007633591909560726"
            ]
          },
          "metadata": {
            "tags": []
          },
          "execution_count": 247
        }
      ]
    },
    {
      "cell_type": "code",
      "metadata": {
        "id": "TURQsEy0TPd-",
        "colab": {
          "base_uri": "https://localhost:8080/"
        },
        "outputId": "2fb65a42-eb3c-483d-be87-9c11ce9da675"
      },
      "source": [
        "import scipy as sp\n",
        "\n",
        "test_result, p_value = sp.stats.bartlett(y_pred, residuals)\n",
        "\n",
        "# To interpret the results we must also compute a critical value of the chi squared distribution\n",
        "degree_of_freedom = len(y_pred)-1\n",
        "probability = 1 - p_value\n",
        "\n",
        "critical_value = sp.stats.chi2.ppf(probability, degree_of_freedom)\n",
        "\n",
        "print(f'critical_value : {critical_value}')\n",
        "print(f'degree_of_freedom : {degree_of_freedom}')\n",
        "print(f'probability : {probability}')\n",
        "\n",
        "# If the test_result is greater than the critical value, then we reject our null\n",
        "# hypothesis. This would mean that there are patterns to the variance of the data\n",
        "\n",
        "# Otherwise, we can identify no patterns, and we accept the null hypothesis that \n",
        "# the variance is homogeneous across our data\n",
        "\n",
        "if (test_result > critical_value):\n",
        "  print('the variances are unequal, and the model should be reassessed')\n",
        "else:\n",
        "  print('the variances are homogeneous!')"
      ],
      "execution_count": 248,
      "outputs": [
        {
          "output_type": "stream",
          "text": [
            "critical_value : inf\n",
            "degree_of_freedom : 97219\n",
            "probability : 1.0\n",
            "the variances are homogeneous!\n"
          ],
          "name": "stdout"
        }
      ]
    },
    {
      "cell_type": "markdown",
      "metadata": {
        "id": "zGVmAEhATPeB"
      },
      "source": [
        "##### Creating modal"
      ]
    },
    {
      "cell_type": "code",
      "metadata": {
        "id": "J-RgblIbTPeB",
        "colab": {
          "base_uri": "https://localhost:8080/"
        },
        "outputId": "c0e6d09e-b7ad-4f65-d0fd-af69e4e9b413"
      },
      "source": [
        "from sklearn.model_selection import LeaveOneOut\n",
        "\n",
        "X = independent_only.values\n",
        "y = results_1['away_score'].values\n",
        "\n",
        "folds = KFold(n_splits=5)\n",
        "\n",
        "print('we are using ' +str(folds.get_n_splits(X)) + ' folds')\n",
        "\n",
        "RMSES = [] \n",
        "count = 0 \n",
        "for train_index, test_index in folds.split(X):\n",
        "  \n",
        "  X_train, X_test = X[train_index], X[test_index]\n",
        "  y_train, y_test = y[train_index], y[test_index]\n",
        "  \n",
        "  # Fit polynomial Regression to the dataset\n",
        "  poly_reg = PolynomialFeatures(degree = 2) \n",
        "  X_poly = poly_reg.fit_transform(X_train)\n",
        "\n",
        "  pol_reg = LinearRegression()\n",
        "  pol_reg.fit(X_poly, y_train)\n",
        "\n",
        "  # This is our prediction for admission based on our model\n",
        "  y_pred = pol_reg.predict(poly_reg.fit_transform(X_test))\n",
        "  \n",
        "  rmse_value =  np.sqrt(metrics.mean_squared_error(y_test, y_pred))\n",
        "  RMSES.append(rmse_value)\n",
        "  \n",
        "  count+=1\n",
        "print('trained ' + str(count) + ' models' )\n",
        "np.mean(RMSES)"
      ],
      "execution_count": 249,
      "outputs": [
        {
          "output_type": "stream",
          "text": [
            "we are using 5 folds\n",
            "trained 5 models\n"
          ],
          "name": "stdout"
        },
        {
          "output_type": "execute_result",
          "data": {
            "text/plain": [
              "1.6888574416683717e-13"
            ]
          },
          "metadata": {
            "tags": []
          },
          "execution_count": 249
        }
      ]
    },
    {
      "cell_type": "markdown",
      "metadata": {
        "id": "H9tABI7eTPeF"
      },
      "source": [
        "**RMSES**"
      ]
    },
    {
      "cell_type": "code",
      "metadata": {
        "id": "Au8nbzSiTPeF",
        "colab": {
          "base_uri": "https://localhost:8080/"
        },
        "outputId": "a7e55b20-5b7d-44eb-b140-d0a6ac2c5099"
      },
      "source": [
        "np.mean(RMSES)"
      ],
      "execution_count": 250,
      "outputs": [
        {
          "output_type": "execute_result",
          "data": {
            "text/plain": [
              "1.6888574416683717e-13"
            ]
          },
          "metadata": {
            "tags": []
          },
          "execution_count": 250
        }
      ]
    },
    {
      "cell_type": "code",
      "metadata": {
        "id": "Q-JrqplRTPeJ",
        "colab": {
          "base_uri": "https://localhost:8080/"
        },
        "outputId": "8a64d150-ff89-4681-f32a-47044c200c25"
      },
      "source": [
        "print('Mean Absolute Error:', metrics.mean_absolute_error(y_test, y_pred))  \n",
        "print('Mean Squared Error:', metrics.mean_squared_error(y_test, y_pred))  \n",
        "print('Root Mean Squared Error:', np.sqrt(metrics.mean_squared_error(y_test, y_pred)))"
      ],
      "execution_count": 251,
      "outputs": [
        {
          "output_type": "stream",
          "text": [
            "Mean Absolute Error: 2.4502795614179403e-13\n",
            "Mean Squared Error: 1.2833999438201543e-25\n",
            "Root Mean Squared Error: 3.58245717883711e-13\n"
          ],
          "name": "stdout"
        }
      ]
    },
    {
      "cell_type": "markdown",
      "metadata": {
        "id": "-agwCjc2zTPJ"
      },
      "source": [
        "### Approach 2: Logistic approach"
      ]
    },
    {
      "cell_type": "code",
      "metadata": {
        "id": "hwl3DgKkwGRn"
      },
      "source": [
        "results_1 = results_1.drop(['home_team','away_team','month_year'],axis=1)\n",
        "\n",
        "label_encoder = LabelEncoder()\n",
        "\n",
        "#transform to integer\n",
        "results_1['status'] = label_encoder.fit_transform(results_1['status'])\n",
        "results_1['tournament'] = label_encoder.fit_transform(results_1['tournament'])"
      ],
      "execution_count": 252,
      "outputs": []
    },
    {
      "cell_type": "code",
      "metadata": {
        "id": "Q5VNj10dzX98"
      },
      "source": [
        "X = results_1.drop('status',axis=1)\n",
        "y = results_1['status']\n",
        "\n",
        "X_train, X_test, y_train, y_test = train_test_split(X, y, test_size = .3, random_state=0)"
      ],
      "execution_count": 253,
      "outputs": []
    },
    {
      "cell_type": "code",
      "metadata": {
        "id": "fdBbAEeb4OKj",
        "colab": {
          "base_uri": "https://localhost:8080/"
        },
        "outputId": "bf1dcf87-eb84-4c59-d2ff-58d3b3e759ac"
      },
      "source": [
        "LogReg = LogisticRegression()\n",
        "LogReg.fit(X_train, y_train)"
      ],
      "execution_count": 254,
      "outputs": [
        {
          "output_type": "stream",
          "text": [
            "/usr/local/lib/python3.6/dist-packages/sklearn/linear_model/_logistic.py:940: ConvergenceWarning: lbfgs failed to converge (status=1):\n",
            "STOP: TOTAL NO. of ITERATIONS REACHED LIMIT.\n",
            "\n",
            "Increase the number of iterations (max_iter) or scale the data as shown in:\n",
            "    https://scikit-learn.org/stable/modules/preprocessing.html\n",
            "Please also refer to the documentation for alternative solver options:\n",
            "    https://scikit-learn.org/stable/modules/linear_model.html#logistic-regression\n",
            "  extra_warning_msg=_LOGISTIC_SOLVER_CONVERGENCE_MSG)\n"
          ],
          "name": "stderr"
        },
        {
          "output_type": "execute_result",
          "data": {
            "text/plain": [
              "LogisticRegression(C=1.0, class_weight=None, dual=False, fit_intercept=True,\n",
              "                   intercept_scaling=1, l1_ratio=None, max_iter=100,\n",
              "                   multi_class='auto', n_jobs=None, penalty='l2',\n",
              "                   random_state=None, solver='lbfgs', tol=0.0001, verbose=0,\n",
              "                   warm_start=False)"
            ]
          },
          "metadata": {
            "tags": []
          },
          "execution_count": 254
        }
      ]
    },
    {
      "cell_type": "code",
      "metadata": {
        "id": "R5USRMeq4d9n"
      },
      "source": [
        "y_pred = LogReg.predict(X_test)"
      ],
      "execution_count": 255,
      "outputs": []
    },
    {
      "cell_type": "code",
      "metadata": {
        "id": "O2hWe6664tfa",
        "colab": {
          "base_uri": "https://localhost:8080/"
        },
        "outputId": "58405c15-d1f3-4d1d-f301-0fc98ee1ebb5"
      },
      "source": [
        "from sklearn.metrics import confusion_matrix\n",
        "confusion_matrix = confusion_matrix(y_test, y_pred)\n",
        "confusion_matrix"
      ],
      "execution_count": 256,
      "outputs": [
        {
          "output_type": "execute_result",
          "data": {
            "text/plain": [
              "array([[ 4539,  3965,  6605],\n",
              "       [ 1514, 18502,  1646],\n",
              "       [ 1358,   915, 58176]])"
            ]
          },
          "metadata": {
            "tags": []
          },
          "execution_count": 256
        }
      ]
    },
    {
      "cell_type": "markdown",
      "metadata": {
        "id": "xrmHVMVsVS--"
      },
      "source": [
        "## Follow up questions"
      ]
    },
    {
      "cell_type": "markdown",
      "metadata": {
        "id": "HPQviDmNtta8"
      },
      "source": [
        "### a). Did we have the right data?"
      ]
    },
    {
      "cell_type": "markdown",
      "metadata": {
        "id": "WfCPf_Ioii-p"
      },
      "source": [
        "> Yes, this dataset contain enough information to predict a home team score based on their rank. Through the rank system it more like for team with a higher rank can bet another team with a lower rank"
      ]
    },
    {
      "cell_type": "markdown",
      "metadata": {
        "id": "qjFHK1CKty7o"
      },
      "source": [
        "### b). Do we need other data to answer our question?"
      ]
    },
    {
      "cell_type": "markdown",
      "metadata": {
        "id": "TBpjb2ndkfAW"
      },
      "source": [
        "> Not really but I preffer to have source of the data set to draw more insit from the dataset."
      ]
    },
    {
      "cell_type": "markdown",
      "metadata": {
        "id": "HSsicSdvt4Zs"
      },
      "source": [
        "### c). Did we have the right question?"
      ]
    }
  ]
}